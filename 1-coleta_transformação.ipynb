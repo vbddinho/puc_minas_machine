{
  "cells": [
    {
      "cell_type": "markdown",
      "metadata": {
        "id": "3o7-U0iHuC8q"
      },
      "source": [
        "Obtenção e Transformação \n",
        "\n",
        "---\n",
        "\n"
      ]
    },
    {
      "cell_type": "code",
      "execution_count": 49,
      "metadata": {
        "id": "_sXGbbw8uC8v"
      },
      "outputs": [],
      "source": [
        "import pandas as pd \n",
        "import numpy as np "
      ]
    },
    {
      "cell_type": "code",
      "execution_count": 52,
      "metadata": {
        "id": "tFlbYWM_uC84"
      },
      "outputs": [],
      "source": [
        "#importação dos dados via read_csv\n",
        "df_jogos = pd.read_csv('dados/campeonato-brasileiro-full.csv',sep=',',encoding = \"UTF-8\")\n",
        "df_estatisticas = pd.read_csv('dados/campeonato-brasileiro-estatisticas-full.csv', sep=',',encoding = \"UTF-8\")"
      ]
    },
    {
      "cell_type": "code",
      "execution_count": 54,
      "metadata": {
        "id": "21-TkPWuuC86"
      },
      "outputs": [],
      "source": [
        "#colocando todas as colunas em minusculo\n",
        "df_jogos.columns = df_jogos.columns.str.lower()\n",
        "df_estatisticas.columns = df_estatisticas.columns.str.lower()"
      ]
    },
    {
      "cell_type": "code",
      "execution_count": 55,
      "metadata": {
        "colab": {
          "base_uri": "https://localhost:8080/"
        },
        "id": "8df0U3z_uC86",
        "outputId": "e3827f30-63e7-4eb3-9e2c-eb676cc092ea"
      },
      "outputs": [
        {
          "name": "stdout",
          "output_type": "stream",
          "text": [
            "<class 'pandas.core.frame.DataFrame'>\n",
            "RangeIndex: 8025 entries, 0 to 8024\n",
            "Data columns (total 16 columns):\n",
            " #   Column              Non-Null Count  Dtype \n",
            "---  ------              --------------  ----- \n",
            " 0   id                  8025 non-null   int64 \n",
            " 1   rodata              8025 non-null   int64 \n",
            " 2   data                8025 non-null   object\n",
            " 3   hora                8025 non-null   object\n",
            " 4   mandante            8025 non-null   object\n",
            " 5   visitante           8025 non-null   object\n",
            " 6   formacao_mandante   3051 non-null   object\n",
            " 7   formacao_visitante  3051 non-null   object\n",
            " 8   tecnico_mandante    3415 non-null   object\n",
            " 9   tecnico_visitante   3415 non-null   object\n",
            " 10  vencedor            8025 non-null   object\n",
            " 11  arena               8025 non-null   object\n",
            " 12  mandante_placar     8025 non-null   int64 \n",
            " 13  visitante_placar    8025 non-null   int64 \n",
            " 14  mandante_estado     8025 non-null   object\n",
            " 15  visitante_estado    8025 non-null   object\n",
            "dtypes: int64(4), object(12)\n",
            "memory usage: 1003.2+ KB\n"
          ]
        }
      ],
      "source": [
        "df_jogos.info()"
      ]
    },
    {
      "cell_type": "code",
      "execution_count": 57,
      "metadata": {
        "colab": {
          "base_uri": "https://localhost:8080/"
        },
        "id": "R7yoDSViuC89",
        "outputId": "26d6db8a-08e2-4665-d12a-43630555a570"
      },
      "outputs": [
        {
          "name": "stdout",
          "output_type": "stream",
          "text": [
            "<class 'pandas.core.frame.DataFrame'>\n",
            "RangeIndex: 16050 entries, 0 to 16049\n",
            "Data columns (total 13 columns):\n",
            " #   Column           Non-Null Count  Dtype \n",
            "---  ------           --------------  ----- \n",
            " 0   partida_id       16050 non-null  int64 \n",
            " 1   rodata           16050 non-null  int64 \n",
            " 2   clube            16050 non-null  object\n",
            " 3   chutes           16050 non-null  int64 \n",
            " 4   chutes_no_alvo   16050 non-null  int64 \n",
            " 5   posse_de_bola    6838 non-null   object\n",
            " 6   passes           16050 non-null  int64 \n",
            " 7   precisao_passes  6838 non-null   object\n",
            " 8   faltas           16050 non-null  int64 \n",
            " 9   cartao_amarelo   16050 non-null  int64 \n",
            " 10  cartao_vermelho  16050 non-null  int64 \n",
            " 11  impedimentos     16050 non-null  int64 \n",
            " 12  escanteios       16050 non-null  int64 \n",
            "dtypes: int64(10), object(3)\n",
            "memory usage: 1.6+ MB\n"
          ]
        }
      ],
      "source": [
        "df_estatisticas.info()"
      ]
    },
    {
      "cell_type": "code",
      "execution_count": null,
      "metadata": {},
      "outputs": [],
      "source": [
        "#renomeando as colunas\n",
        "df_jogos.rename(columns={'id':'partida_id'},inplace=True)\n",
        "df_jogos.rename(columns={'rodata':'rodada'},inplace=True)\n",
        "df_estatisticas.rename(columns={'rodata':'rodada'},inplace=True)"
      ]
    },
    {
      "cell_type": "code",
      "execution_count": 58,
      "metadata": {
        "id": "0KPYaYxeuC8_"
      },
      "outputs": [],
      "source": [
        "# left join dos dados de mandante\n",
        "dfmandante = pd.merge(df_jogos,df_estatisticas,how='left',right_on=['partida_id','clube'],left_on=['partida_id','mandante'])\n",
        "# left join dos dados de visitante\n",
        "df = pd.merge(dfmandante,df_estatisticas,how='left',right_on=['partida_id','clube'],left_on=['partida_id','visitante'])"
      ]
    },
    {
      "cell_type": "code",
      "execution_count": 59,
      "metadata": {
        "id": "mIMuzqTuuC9A"
      },
      "outputs": [],
      "source": [
        "# renomenando as colunas de mandante e visitante\n",
        "df.columns = ['partida_id', 'rodada', 'data', 'hora', 'mandante', 'visitante', 'formacao_mandante', 'formacao_visitante', 'tecnico_mandante', 'tecnico_visitante', 'vencedor', 'arena', 'mandante_placar', 'visitante_placar', 'mandante_estado', 'visitante_estado', 'rodata_mandante', 'clube_mandante', 'chutes_mandante', 'chutes_no_alvo_mandante', 'posse_de_bola_mandante', 'passes_mandante', 'precisao_passes_mandante', 'faltas_mandante', 'cartao_amarelo_mandante', 'cartao_vermelho_mandante', 'impedimentos_mandante', 'escanteios_mandante', 'rodata_visitante', 'clube_visitante', 'chutes_visitante', 'chutes_no_alvo_visitante', 'posse_de_bola_visitante', 'passes_visitante', 'precisao_passes_visitante', 'faltas_visitante', 'cartao_amarelo_visitante', 'cartao_vermelho_visitante', 'impedimentos_visitante', 'escanteios_visitante']"
      ]
    },
    {
      "cell_type": "code",
      "execution_count": 75,
      "metadata": {
        "colab": {
          "base_uri": "https://localhost:8080/",
          "height": 458
        },
        "id": "jIlpvf3JuC9C",
        "outputId": "f0b699a6-d846-4b92-b60b-ba57a5dd1e20"
      },
      "outputs": [
        {
          "name": "stdout",
          "output_type": "stream",
          "text": [
            "<class 'pandas.core.frame.DataFrame'>\n",
            "Int64Index: 8025 entries, 0 to 8024\n",
            "Data columns (total 41 columns):\n",
            " #   Column                     Non-Null Count  Dtype         \n",
            "---  ------                     --------------  -----         \n",
            " 0   partida_id                 8025 non-null   int64         \n",
            " 1   rodada                     8025 non-null   int64         \n",
            " 2   data                       8025 non-null   datetime64[ns]\n",
            " 3   hora                       8025 non-null   object        \n",
            " 4   mandante                   8025 non-null   object        \n",
            " 5   visitante                  8025 non-null   object        \n",
            " 6   formacao_mandante          3051 non-null   object        \n",
            " 7   formacao_visitante         3051 non-null   object        \n",
            " 8   tecnico_mandante           3415 non-null   object        \n",
            " 9   tecnico_visitante          3415 non-null   object        \n",
            " 10  vencedor                   8025 non-null   object        \n",
            " 11  arena                      8025 non-null   object        \n",
            " 12  mandante_placar            8025 non-null   int64         \n",
            " 13  visitante_placar           8025 non-null   int64         \n",
            " 14  mandante_estado            8025 non-null   object        \n",
            " 15  visitante_estado           8025 non-null   object        \n",
            " 16  rodata_mandante            8025 non-null   int64         \n",
            " 17  clube_mandante             8025 non-null   object        \n",
            " 18  chutes_mandante            8025 non-null   int64         \n",
            " 19  chutes_no_alvo_mandante    8025 non-null   int64         \n",
            " 20  posse_de_bola_mandante     3419 non-null   object        \n",
            " 21  passes_mandante            8025 non-null   int64         \n",
            " 22  precisao_passes_mandante   3419 non-null   object        \n",
            " 23  faltas_mandante            8025 non-null   int64         \n",
            " 24  cartao_amarelo_mandante    8025 non-null   int64         \n",
            " 25  cartao_vermelho_mandante   8025 non-null   int64         \n",
            " 26  impedimentos_mandante      8025 non-null   int64         \n",
            " 27  escanteios_mandante        8025 non-null   int64         \n",
            " 28  rodata_visitante           8025 non-null   int64         \n",
            " 29  clube_visitante            8025 non-null   object        \n",
            " 30  chutes_visitante           8025 non-null   int64         \n",
            " 31  chutes_no_alvo_visitante   8025 non-null   int64         \n",
            " 32  posse_de_bola_visitante    3419 non-null   object        \n",
            " 33  passes_visitante           8025 non-null   int64         \n",
            " 34  precisao_passes_visitante  3419 non-null   object        \n",
            " 35  faltas_visitante           8025 non-null   int64         \n",
            " 36  cartao_amarelo_visitante   8025 non-null   int64         \n",
            " 37  cartao_vermelho_visitante  8025 non-null   int64         \n",
            " 38  impedimentos_visitante     8025 non-null   int64         \n",
            " 39  escanteios_visitante       8025 non-null   int64         \n",
            " 40  temporada                  8025 non-null   int64         \n",
            "dtypes: datetime64[ns](1), int64(23), object(17)\n",
            "memory usage: 2.6+ MB\n"
          ]
        }
      ],
      "source": [
        "df.info()"
      ]
    },
    {
      "cell_type": "code",
      "execution_count": 61,
      "metadata": {
        "id": "XO0f9NOGuC9C"
      },
      "outputs": [],
      "source": [
        "#Converte a data do tipo objeto para o tipo datetime e cria a coluna ano\n",
        "df[\"data\"] = pd.to_datetime(df[\"data\"],format='%d/%m/%Y',dayfirst=True)\n",
        "# Criar a coluna temporada com conforme as datas das partidas\n",
        "df[\"temporada\"] = df[\"data\"].dt.year"
      ]
    },
    {
      "cell_type": "code",
      "execution_count": 63,
      "metadata": {
        "id": "altXuKrPuC9D"
      },
      "outputs": [],
      "source": [
        "# Devido a pandamia o campeonato brasileiro 2020 foi entre o ano de 2020 e 2021\n",
        "df.loc[(df[\"data\"]>=\"2020/08/08\") & (df[\"data\"]<=\"2021/02/25\"),\"temporada\" ] = 2020\n",
        "df.loc[(df[\"data\"]>=\"2021/05/29\") & (df[\"data\"]<=\"2021/12/09\"),\"temporada\" ] = 2021"
      ]
    },
    {
      "cell_type": "code",
      "execution_count": 64,
      "metadata": {
        "id": "Ov-a2ze4xQXG"
      },
      "outputs": [],
      "source": [
        "#copia do dataset para o df2, pois df2 terá somente as temporadas de 2018 a 2022\n",
        "df2 = df[df['temporada']>=2018].copy(deep=True)"
      ]
    },
    {
      "cell_type": "code",
      "execution_count": 65,
      "metadata": {
        "colab": {
          "base_uri": "https://localhost:8080/"
        },
        "id": "ZFex_s7ruC9E",
        "outputId": "ae287fd8-2dd7-4411-ec50-31082f2841a1"
      },
      "outputs": [
        {
          "data": {
            "text/plain": [
              "partida_id                   0\n",
              "rodada                       0\n",
              "data                         0\n",
              "hora                         0\n",
              "mandante                     0\n",
              "visitante                    0\n",
              "formacao_mandante            0\n",
              "formacao_visitante           0\n",
              "tecnico_mandante             0\n",
              "tecnico_visitante            0\n",
              "vencedor                     0\n",
              "arena                        0\n",
              "mandante_placar              0\n",
              "visitante_placar             0\n",
              "mandante_estado              0\n",
              "visitante_estado             0\n",
              "rodata_mandante              0\n",
              "clube_mandante               0\n",
              "chutes_mandante              0\n",
              "chutes_no_alvo_mandante      0\n",
              "posse_de_bola_mandante       0\n",
              "passes_mandante              0\n",
              "precisao_passes_mandante     0\n",
              "faltas_mandante              0\n",
              "cartao_amarelo_mandante      0\n",
              "cartao_vermelho_mandante     0\n",
              "impedimentos_mandante        0\n",
              "escanteios_mandante          0\n",
              "rodata_visitante             0\n",
              "clube_visitante              0\n",
              "chutes_visitante             0\n",
              "chutes_no_alvo_visitante     0\n",
              "posse_de_bola_visitante      0\n",
              "passes_visitante             0\n",
              "precisao_passes_visitante    0\n",
              "faltas_visitante             0\n",
              "cartao_amarelo_visitante     0\n",
              "cartao_vermelho_visitante    0\n",
              "impedimentos_visitante       0\n",
              "escanteios_visitante         0\n",
              "temporada                    0\n",
              "dtype: int64"
            ]
          },
          "execution_count": 65,
          "metadata": {},
          "output_type": "execute_result"
        }
      ],
      "source": [
        "# Verificando que não há dados nulos ou ausentes no dataset\n",
        "df2.isna().sum()"
      ]
    },
    {
      "cell_type": "code",
      "execution_count": 66,
      "metadata": {
        "colab": {
          "base_uri": "https://localhost:8080/"
        },
        "id": "Gvth12GAuC9E",
        "outputId": "76cc014d-1488-44f4-f588-1f0648e99a26"
      },
      "outputs": [
        {
          "data": {
            "text/html": [
              "<div>\n",
              "<style scoped>\n",
              "    .dataframe tbody tr th:only-of-type {\n",
              "        vertical-align: middle;\n",
              "    }\n",
              "\n",
              "    .dataframe tbody tr th {\n",
              "        vertical-align: top;\n",
              "    }\n",
              "\n",
              "    .dataframe thead th {\n",
              "        text-align: right;\n",
              "    }\n",
              "</style>\n",
              "<table border=\"1\" class=\"dataframe\">\n",
              "  <thead>\n",
              "    <tr style=\"text-align: right;\">\n",
              "      <th></th>\n",
              "      <th>partida_id</th>\n",
              "      <th>rodada</th>\n",
              "      <th>data</th>\n",
              "      <th>hora</th>\n",
              "      <th>mandante</th>\n",
              "      <th>visitante</th>\n",
              "      <th>formacao_mandante</th>\n",
              "      <th>formacao_visitante</th>\n",
              "      <th>tecnico_mandante</th>\n",
              "      <th>tecnico_visitante</th>\n",
              "      <th>vencedor</th>\n",
              "      <th>arena</th>\n",
              "      <th>mandante_placar</th>\n",
              "      <th>visitante_placar</th>\n",
              "      <th>mandante_estado</th>\n",
              "      <th>visitante_estado</th>\n",
              "      <th>rodata_mandante</th>\n",
              "      <th>clube_mandante</th>\n",
              "      <th>chutes_mandante</th>\n",
              "      <th>chutes_no_alvo_mandante</th>\n",
              "      <th>posse_de_bola_mandante</th>\n",
              "      <th>passes_mandante</th>\n",
              "      <th>precisao_passes_mandante</th>\n",
              "      <th>faltas_mandante</th>\n",
              "      <th>cartao_amarelo_mandante</th>\n",
              "      <th>cartao_vermelho_mandante</th>\n",
              "      <th>impedimentos_mandante</th>\n",
              "      <th>escanteios_mandante</th>\n",
              "      <th>rodata_visitante</th>\n",
              "      <th>clube_visitante</th>\n",
              "      <th>chutes_visitante</th>\n",
              "      <th>chutes_no_alvo_visitante</th>\n",
              "      <th>posse_de_bola_visitante</th>\n",
              "      <th>passes_visitante</th>\n",
              "      <th>precisao_passes_visitante</th>\n",
              "      <th>faltas_visitante</th>\n",
              "      <th>cartao_amarelo_visitante</th>\n",
              "      <th>cartao_vermelho_visitante</th>\n",
              "      <th>impedimentos_visitante</th>\n",
              "      <th>escanteios_visitante</th>\n",
              "      <th>temporada</th>\n",
              "      <th>resultado</th>\n",
              "    </tr>\n",
              "  </thead>\n",
              "  <tbody>\n",
              "  </tbody>\n",
              "</table>\n",
              "</div>"
            ],
            "text/plain": [
              "Empty DataFrame\n",
              "Columns: [partida_id, rodada, data, hora, mandante, visitante, formacao_mandante, formacao_visitante, tecnico_mandante, tecnico_visitante, vencedor, arena, mandante_placar, visitante_placar, mandante_estado, visitante_estado, rodata_mandante, clube_mandante, chutes_mandante, chutes_no_alvo_mandante, posse_de_bola_mandante, passes_mandante, precisao_passes_mandante, faltas_mandante, cartao_amarelo_mandante, cartao_vermelho_mandante, impedimentos_mandante, escanteios_mandante, rodata_visitante, clube_visitante, chutes_visitante, chutes_no_alvo_visitante, posse_de_bola_visitante, passes_visitante, precisao_passes_visitante, faltas_visitante, cartao_amarelo_visitante, cartao_vermelho_visitante, impedimentos_visitante, escanteios_visitante, temporada, resultado]\n",
              "Index: []"
            ]
          },
          "execution_count": 66,
          "metadata": {},
          "output_type": "execute_result"
        }
      ],
      "source": [
        "#Definindo coluna de vitoria mandante,vitoria visitante e empates\n",
        "df2['resultado'] = df2.apply(lambda x: 1 if x[\"vencedor\"] == x[\"mandante\"] else 2 if x[\"vencedor\"] == x[\"visitante\"] else 3 if x[\"vencedor\"] == '-' else 9999  ,axis=1)\n",
        "\n",
        "#verificando se houve erros no apply\n",
        "df2[(df2['resultado']==999)]"
      ]
    },
    {
      "cell_type": "code",
      "execution_count": 67,
      "metadata": {
        "colab": {
          "base_uri": "https://localhost:8080/"
        },
        "id": "Xoa0GAJhuC9F",
        "outputId": "951a4426-cdcd-4ee6-e02d-c9bca216d324"
      },
      "outputs": [],
      "source": [
        "# Retira o % tendo em vista que iriemos converter o numero inteiro para percentual numerico\n",
        "df2['posse_de_bola_mandante'] = df2['posse_de_bola_mandante'].replace({'%': ''}, regex=True)\n",
        "df2['precisao_passes_mandante'] = df2['precisao_passes_mandante'].replace({'%': ''}, regex=True)\n",
        "df2['posse_de_bola_visitante'] = df2['posse_de_bola_visitante'].replace({'%': ''}, regex=True)\n",
        "df2['precisao_passes_visitante'] = df2['precisao_passes_visitante'].replace({'%': ''}, regex=True)\n",
        "\n",
        "# Substitui valores ausentes ou 'None' por NaN\n",
        "df2['posse_de_bola_mandante'] = df2['posse_de_bola_mandante'].replace({'None': np.nan})\n",
        "df2['precisao_passes_mandante']= df2['precisao_passes_mandante'].replace({'None': np.nan})\n",
        "df2['posse_de_bola_visitante'] = df2['posse_de_bola_visitante'].replace({'None': np.nan})\n",
        "df2['precisao_passes_visitante'] = df2['precisao_passes_visitante'].replace({'None': np.nan})\n",
        "\n",
        "# convertendo o percentual numerico\n",
        "df2['posse_de_bola_mandante'] = df2['posse_de_bola_mandante'].astype('Int64') /100\n",
        "df2['precisao_passes_mandante'] = df2['precisao_passes_mandante'].astype('Int64') /100\n",
        "df2['posse_de_bola_visitante'] = df2['posse_de_bola_visitante'].astype('Int64') /100\n",
        "df2['precisao_passes_visitante'] = df2['precisao_passes_visitante'].astype('Int64') /100\n"
      ]
    },
    {
      "cell_type": "code",
      "execution_count": 68,
      "metadata": {},
      "outputs": [
        {
          "data": {
            "text/html": [
              "<div>\n",
              "<style scoped>\n",
              "    .dataframe tbody tr th:only-of-type {\n",
              "        vertical-align: middle;\n",
              "    }\n",
              "\n",
              "    .dataframe tbody tr th {\n",
              "        vertical-align: top;\n",
              "    }\n",
              "\n",
              "    .dataframe thead th {\n",
              "        text-align: right;\n",
              "    }\n",
              "</style>\n",
              "<table border=\"1\" class=\"dataframe\">\n",
              "  <thead>\n",
              "    <tr style=\"text-align: right;\">\n",
              "      <th></th>\n",
              "      <th>partida_id</th>\n",
              "      <th>rodada</th>\n",
              "      <th>mandante_placar</th>\n",
              "      <th>visitante_placar</th>\n",
              "      <th>rodata_mandante</th>\n",
              "      <th>chutes_mandante</th>\n",
              "      <th>chutes_no_alvo_mandante</th>\n",
              "      <th>posse_de_bola_mandante</th>\n",
              "      <th>passes_mandante</th>\n",
              "      <th>precisao_passes_mandante</th>\n",
              "      <th>faltas_mandante</th>\n",
              "      <th>cartao_amarelo_mandante</th>\n",
              "      <th>cartao_vermelho_mandante</th>\n",
              "      <th>impedimentos_mandante</th>\n",
              "      <th>escanteios_mandante</th>\n",
              "      <th>rodata_visitante</th>\n",
              "      <th>chutes_visitante</th>\n",
              "      <th>chutes_no_alvo_visitante</th>\n",
              "      <th>posse_de_bola_visitante</th>\n",
              "      <th>passes_visitante</th>\n",
              "      <th>precisao_passes_visitante</th>\n",
              "      <th>faltas_visitante</th>\n",
              "      <th>cartao_amarelo_visitante</th>\n",
              "      <th>cartao_vermelho_visitante</th>\n",
              "      <th>impedimentos_visitante</th>\n",
              "      <th>escanteios_visitante</th>\n",
              "      <th>temporada</th>\n",
              "      <th>resultado</th>\n",
              "    </tr>\n",
              "  </thead>\n",
              "  <tbody>\n",
              "    <tr>\n",
              "      <th>count</th>\n",
              "      <td>24.0000</td>\n",
              "      <td>24.0000</td>\n",
              "      <td>24.0000</td>\n",
              "      <td>24.0000</td>\n",
              "      <td>24.0000</td>\n",
              "      <td>24.0</td>\n",
              "      <td>24.0</td>\n",
              "      <td>0.0</td>\n",
              "      <td>24.0</td>\n",
              "      <td>0.0</td>\n",
              "      <td>24.0</td>\n",
              "      <td>24.0</td>\n",
              "      <td>24.0</td>\n",
              "      <td>24.0</td>\n",
              "      <td>24.0</td>\n",
              "      <td>24.0000</td>\n",
              "      <td>24.0</td>\n",
              "      <td>24.0</td>\n",
              "      <td>0.0</td>\n",
              "      <td>24.0</td>\n",
              "      <td>0.0</td>\n",
              "      <td>24.0</td>\n",
              "      <td>24.0</td>\n",
              "      <td>24.0</td>\n",
              "      <td>24.0</td>\n",
              "      <td>24.0</td>\n",
              "      <td>24.0000</td>\n",
              "      <td>24.0000</td>\n",
              "    </tr>\n",
              "    <tr>\n",
              "      <th>mean</th>\n",
              "      <td>6733.3750</td>\n",
              "      <td>21.6667</td>\n",
              "      <td>1.0000</td>\n",
              "      <td>1.0833</td>\n",
              "      <td>21.6667</td>\n",
              "      <td>0.0</td>\n",
              "      <td>0.0</td>\n",
              "      <td>&lt;NA&gt;</td>\n",
              "      <td>0.0</td>\n",
              "      <td>&lt;NA&gt;</td>\n",
              "      <td>0.0</td>\n",
              "      <td>0.0</td>\n",
              "      <td>0.0</td>\n",
              "      <td>0.0</td>\n",
              "      <td>0.0</td>\n",
              "      <td>21.6667</td>\n",
              "      <td>0.0</td>\n",
              "      <td>0.0</td>\n",
              "      <td>&lt;NA&gt;</td>\n",
              "      <td>0.0</td>\n",
              "      <td>&lt;NA&gt;</td>\n",
              "      <td>0.0</td>\n",
              "      <td>0.0</td>\n",
              "      <td>0.0</td>\n",
              "      <td>0.0</td>\n",
              "      <td>0.0</td>\n",
              "      <td>2019.0417</td>\n",
              "      <td>1.9583</td>\n",
              "    </tr>\n",
              "    <tr>\n",
              "      <th>std</th>\n",
              "      <td>117.4508</td>\n",
              "      <td>10.2307</td>\n",
              "      <td>1.1795</td>\n",
              "      <td>0.9286</td>\n",
              "      <td>10.2307</td>\n",
              "      <td>0.0</td>\n",
              "      <td>0.0</td>\n",
              "      <td>&lt;NA&gt;</td>\n",
              "      <td>0.0</td>\n",
              "      <td>&lt;NA&gt;</td>\n",
              "      <td>0.0</td>\n",
              "      <td>0.0</td>\n",
              "      <td>0.0</td>\n",
              "      <td>0.0</td>\n",
              "      <td>0.0</td>\n",
              "      <td>10.2307</td>\n",
              "      <td>0.0</td>\n",
              "      <td>0.0</td>\n",
              "      <td>&lt;NA&gt;</td>\n",
              "      <td>0.0</td>\n",
              "      <td>&lt;NA&gt;</td>\n",
              "      <td>0.0</td>\n",
              "      <td>0.0</td>\n",
              "      <td>0.0</td>\n",
              "      <td>0.0</td>\n",
              "      <td>0.0</td>\n",
              "      <td>0.2041</td>\n",
              "      <td>0.8065</td>\n",
              "    </tr>\n",
              "    <tr>\n",
              "      <th>min</th>\n",
              "      <td>6517.0000</td>\n",
              "      <td>2.0000</td>\n",
              "      <td>0.0000</td>\n",
              "      <td>0.0000</td>\n",
              "      <td>2.0000</td>\n",
              "      <td>0.0</td>\n",
              "      <td>0.0</td>\n",
              "      <td>&lt;NA&gt;</td>\n",
              "      <td>0.0</td>\n",
              "      <td>&lt;NA&gt;</td>\n",
              "      <td>0.0</td>\n",
              "      <td>0.0</td>\n",
              "      <td>0.0</td>\n",
              "      <td>0.0</td>\n",
              "      <td>0.0</td>\n",
              "      <td>2.0000</td>\n",
              "      <td>0.0</td>\n",
              "      <td>0.0</td>\n",
              "      <td>&lt;NA&gt;</td>\n",
              "      <td>0.0</td>\n",
              "      <td>&lt;NA&gt;</td>\n",
              "      <td>0.0</td>\n",
              "      <td>0.0</td>\n",
              "      <td>0.0</td>\n",
              "      <td>0.0</td>\n",
              "      <td>0.0</td>\n",
              "      <td>2019.0000</td>\n",
              "      <td>1.0000</td>\n",
              "    </tr>\n",
              "    <tr>\n",
              "      <th>25%</th>\n",
              "      <td>6645.5000</td>\n",
              "      <td>13.0000</td>\n",
              "      <td>0.0000</td>\n",
              "      <td>0.7500</td>\n",
              "      <td>13.0000</td>\n",
              "      <td>0.0</td>\n",
              "      <td>0.0</td>\n",
              "      <td>&lt;NA&gt;</td>\n",
              "      <td>0.0</td>\n",
              "      <td>&lt;NA&gt;</td>\n",
              "      <td>0.0</td>\n",
              "      <td>0.0</td>\n",
              "      <td>0.0</td>\n",
              "      <td>0.0</td>\n",
              "      <td>0.0</td>\n",
              "      <td>13.0000</td>\n",
              "      <td>0.0</td>\n",
              "      <td>0.0</td>\n",
              "      <td>&lt;NA&gt;</td>\n",
              "      <td>0.0</td>\n",
              "      <td>&lt;NA&gt;</td>\n",
              "      <td>0.0</td>\n",
              "      <td>0.0</td>\n",
              "      <td>0.0</td>\n",
              "      <td>0.0</td>\n",
              "      <td>0.0</td>\n",
              "      <td>2019.0000</td>\n",
              "      <td>1.0000</td>\n",
              "    </tr>\n",
              "    <tr>\n",
              "      <th>50%</th>\n",
              "      <td>6746.5000</td>\n",
              "      <td>23.0000</td>\n",
              "      <td>1.0000</td>\n",
              "      <td>1.0000</td>\n",
              "      <td>23.0000</td>\n",
              "      <td>0.0</td>\n",
              "      <td>0.0</td>\n",
              "      <td>&lt;NA&gt;</td>\n",
              "      <td>0.0</td>\n",
              "      <td>&lt;NA&gt;</td>\n",
              "      <td>0.0</td>\n",
              "      <td>0.0</td>\n",
              "      <td>0.0</td>\n",
              "      <td>0.0</td>\n",
              "      <td>0.0</td>\n",
              "      <td>23.0000</td>\n",
              "      <td>0.0</td>\n",
              "      <td>0.0</td>\n",
              "      <td>&lt;NA&gt;</td>\n",
              "      <td>0.0</td>\n",
              "      <td>&lt;NA&gt;</td>\n",
              "      <td>0.0</td>\n",
              "      <td>0.0</td>\n",
              "      <td>0.0</td>\n",
              "      <td>0.0</td>\n",
              "      <td>0.0</td>\n",
              "      <td>2019.0000</td>\n",
              "      <td>2.0000</td>\n",
              "    </tr>\n",
              "    <tr>\n",
              "      <th>75%</th>\n",
              "      <td>6811.7500</td>\n",
              "      <td>30.2500</td>\n",
              "      <td>1.2500</td>\n",
              "      <td>1.2500</td>\n",
              "      <td>30.2500</td>\n",
              "      <td>0.0</td>\n",
              "      <td>0.0</td>\n",
              "      <td>&lt;NA&gt;</td>\n",
              "      <td>0.0</td>\n",
              "      <td>&lt;NA&gt;</td>\n",
              "      <td>0.0</td>\n",
              "      <td>0.0</td>\n",
              "      <td>0.0</td>\n",
              "      <td>0.0</td>\n",
              "      <td>0.0</td>\n",
              "      <td>30.2500</td>\n",
              "      <td>0.0</td>\n",
              "      <td>0.0</td>\n",
              "      <td>&lt;NA&gt;</td>\n",
              "      <td>0.0</td>\n",
              "      <td>&lt;NA&gt;</td>\n",
              "      <td>0.0</td>\n",
              "      <td>0.0</td>\n",
              "      <td>0.0</td>\n",
              "      <td>0.0</td>\n",
              "      <td>0.0</td>\n",
              "      <td>2019.0000</td>\n",
              "      <td>3.0000</td>\n",
              "    </tr>\n",
              "    <tr>\n",
              "      <th>max</th>\n",
              "      <td>7015.0000</td>\n",
              "      <td>38.0000</td>\n",
              "      <td>4.0000</td>\n",
              "      <td>4.0000</td>\n",
              "      <td>38.0000</td>\n",
              "      <td>0.0</td>\n",
              "      <td>0.0</td>\n",
              "      <td>&lt;NA&gt;</td>\n",
              "      <td>0.0</td>\n",
              "      <td>&lt;NA&gt;</td>\n",
              "      <td>0.0</td>\n",
              "      <td>0.0</td>\n",
              "      <td>0.0</td>\n",
              "      <td>0.0</td>\n",
              "      <td>0.0</td>\n",
              "      <td>38.0000</td>\n",
              "      <td>0.0</td>\n",
              "      <td>0.0</td>\n",
              "      <td>&lt;NA&gt;</td>\n",
              "      <td>0.0</td>\n",
              "      <td>&lt;NA&gt;</td>\n",
              "      <td>0.0</td>\n",
              "      <td>0.0</td>\n",
              "      <td>0.0</td>\n",
              "      <td>0.0</td>\n",
              "      <td>0.0</td>\n",
              "      <td>2020.0000</td>\n",
              "      <td>3.0000</td>\n",
              "    </tr>\n",
              "  </tbody>\n",
              "</table>\n",
              "</div>"
            ],
            "text/plain": [
              "       partida_id   rodada  mandante_placar  visitante_placar  rodata_mandante  chutes_mandante  chutes_no_alvo_mandante  posse_de_bola_mandante  passes_mandante  precisao_passes_mandante  faltas_mandante  cartao_amarelo_mandante  cartao_vermelho_mandante  impedimentos_mandante  escanteios_mandante  rodata_visitante  chutes_visitante  chutes_no_alvo_visitante  posse_de_bola_visitante  passes_visitante  precisao_passes_visitante  faltas_visitante  cartao_amarelo_visitante  cartao_vermelho_visitante  impedimentos_visitante  escanteios_visitante  temporada  resultado\n",
              "count     24.0000  24.0000          24.0000           24.0000          24.0000             24.0                     24.0                     0.0             24.0                       0.0             24.0                     24.0                      24.0                   24.0                 24.0           24.0000              24.0                      24.0                      0.0              24.0                        0.0              24.0                      24.0                       24.0                    24.0                  24.0    24.0000    24.0000\n",
              "mean    6733.3750  21.6667           1.0000            1.0833          21.6667              0.0                      0.0                    <NA>              0.0                      <NA>              0.0                      0.0                       0.0                    0.0                  0.0           21.6667               0.0                       0.0                     <NA>               0.0                       <NA>               0.0                       0.0                        0.0                     0.0                   0.0  2019.0417     1.9583\n",
              "std      117.4508  10.2307           1.1795            0.9286          10.2307              0.0                      0.0                    <NA>              0.0                      <NA>              0.0                      0.0                       0.0                    0.0                  0.0           10.2307               0.0                       0.0                     <NA>               0.0                       <NA>               0.0                       0.0                        0.0                     0.0                   0.0     0.2041     0.8065\n",
              "min     6517.0000   2.0000           0.0000            0.0000           2.0000              0.0                      0.0                    <NA>              0.0                      <NA>              0.0                      0.0                       0.0                    0.0                  0.0            2.0000               0.0                       0.0                     <NA>               0.0                       <NA>               0.0                       0.0                        0.0                     0.0                   0.0  2019.0000     1.0000\n",
              "25%     6645.5000  13.0000           0.0000            0.7500          13.0000              0.0                      0.0                    <NA>              0.0                      <NA>              0.0                      0.0                       0.0                    0.0                  0.0           13.0000               0.0                       0.0                     <NA>               0.0                       <NA>               0.0                       0.0                        0.0                     0.0                   0.0  2019.0000     1.0000\n",
              "50%     6746.5000  23.0000           1.0000            1.0000          23.0000              0.0                      0.0                    <NA>              0.0                      <NA>              0.0                      0.0                       0.0                    0.0                  0.0           23.0000               0.0                       0.0                     <NA>               0.0                       <NA>               0.0                       0.0                        0.0                     0.0                   0.0  2019.0000     2.0000\n",
              "75%     6811.7500  30.2500           1.2500            1.2500          30.2500              0.0                      0.0                    <NA>              0.0                      <NA>              0.0                      0.0                       0.0                    0.0                  0.0           30.2500               0.0                       0.0                     <NA>               0.0                       <NA>               0.0                       0.0                        0.0                     0.0                   0.0  2019.0000     3.0000\n",
              "max     7015.0000  38.0000           4.0000            4.0000          38.0000              0.0                      0.0                    <NA>              0.0                      <NA>              0.0                      0.0                       0.0                    0.0                  0.0           38.0000               0.0                       0.0                     <NA>               0.0                       <NA>               0.0                       0.0                        0.0                     0.0                   0.0  2020.0000     3.0000"
            ]
          },
          "execution_count": 68,
          "metadata": {},
          "output_type": "execute_result"
        }
      ],
      "source": [
        "# identificado 24 linhas com valores na e zerados, que irá influenciar na analise \n",
        "df2[(df2['precisao_passes_visitante'].isna())].describe()"
      ]
    },
    {
      "cell_type": "code",
      "execution_count": 69,
      "metadata": {},
      "outputs": [
        {
          "name": "stdout",
          "output_type": "stream",
          "text": [
            "Numero de Linhas  1900\n",
            "Numero de Linhas apos remover os NAN 1876\n"
          ]
        }
      ],
      "source": [
        "# Removendo as linhas zeradas/NAN\n",
        "print(\"Numero de Linhas \" , df2.shape[0])\n",
        "df2 = df2.dropna()\n",
        "print(\"Numero de Linhas apos remover os NAN\" , df2.shape[0])"
      ]
    },
    {
      "cell_type": "code",
      "execution_count": 70,
      "metadata": {
        "colab": {
          "base_uri": "https://localhost:8080/"
        },
        "id": "0iXqmFbnuC9G",
        "outputId": "ea2ea8f5-1bc6-4b62-c985-8d3f2eff4367"
      },
      "outputs": [],
      "source": [
        "#excluindo colunas desnecessárias para analise dos dados\n",
        "df2.drop(columns=['data','hora',\"tecnico_mandante\",\"tecnico_visitante\",\"arena\",'mandante_estado','visitante_estado','rodata_mandante','clube_mandante','clube_visitante'],inplace=True)"
      ]
    },
    {
      "cell_type": "code",
      "execution_count": 71,
      "metadata": {},
      "outputs": [],
      "source": [
        "#total_gols é a soma dos gols na partida\n",
        "df2['total_gols'] = df2.apply(lambda x: x['mandante_placar'] + x['visitante_placar'],axis=1) "
      ]
    },
    {
      "cell_type": "code",
      "execution_count": 72,
      "metadata": {
        "colab": {
          "base_uri": "https://localhost:8080/"
        },
        "id": "8UcMv6cfuC9H",
        "outputId": "d4e56603-1169-4be4-e62e-76ddeded6ef8"
      },
      "outputs": [
        {
          "data": {
            "text/plain": [
              "partida_id                   0\n",
              "rodada                       0\n",
              "mandante                     0\n",
              "visitante                    0\n",
              "formacao_mandante            0\n",
              "formacao_visitante           0\n",
              "vencedor                     0\n",
              "mandante_placar              0\n",
              "visitante_placar             0\n",
              "chutes_mandante              0\n",
              "chutes_no_alvo_mandante      0\n",
              "posse_de_bola_mandante       0\n",
              "passes_mandante              0\n",
              "precisao_passes_mandante     0\n",
              "faltas_mandante              0\n",
              "cartao_amarelo_mandante      0\n",
              "cartao_vermelho_mandante     0\n",
              "impedimentos_mandante        0\n",
              "escanteios_mandante          0\n",
              "rodata_visitante             0\n",
              "chutes_visitante             0\n",
              "chutes_no_alvo_visitante     0\n",
              "posse_de_bola_visitante      0\n",
              "passes_visitante             0\n",
              "precisao_passes_visitante    0\n",
              "faltas_visitante             0\n",
              "cartao_amarelo_visitante     0\n",
              "cartao_vermelho_visitante    0\n",
              "impedimentos_visitante       0\n",
              "escanteios_visitante         0\n",
              "temporada                    0\n",
              "resultado                    0\n",
              "total_gols                   0\n",
              "dtype: int64"
            ]
          },
          "execution_count": 72,
          "metadata": {},
          "output_type": "execute_result"
        }
      ],
      "source": [
        "df2.isna().sum()"
      ]
    },
    {
      "cell_type": "code",
      "execution_count": 73,
      "metadata": {},
      "outputs": [
        {
          "name": "stdout",
          "output_type": "stream",
          "text": [
            "<class 'pandas.core.frame.DataFrame'>\n",
            "Int64Index: 1876 entries, 6125 to 8024\n",
            "Data columns (total 33 columns):\n",
            " #   Column                     Non-Null Count  Dtype  \n",
            "---  ------                     --------------  -----  \n",
            " 0   partida_id                 1876 non-null   int64  \n",
            " 1   rodada                     1876 non-null   int64  \n",
            " 2   mandante                   1876 non-null   object \n",
            " 3   visitante                  1876 non-null   object \n",
            " 4   formacao_mandante          1876 non-null   object \n",
            " 5   formacao_visitante         1876 non-null   object \n",
            " 6   vencedor                   1876 non-null   object \n",
            " 7   mandante_placar            1876 non-null   int64  \n",
            " 8   visitante_placar           1876 non-null   int64  \n",
            " 9   chutes_mandante            1876 non-null   int64  \n",
            " 10  chutes_no_alvo_mandante    1876 non-null   int64  \n",
            " 11  posse_de_bola_mandante     1876 non-null   Float64\n",
            " 12  passes_mandante            1876 non-null   int64  \n",
            " 13  precisao_passes_mandante   1876 non-null   Float64\n",
            " 14  faltas_mandante            1876 non-null   int64  \n",
            " 15  cartao_amarelo_mandante    1876 non-null   int64  \n",
            " 16  cartao_vermelho_mandante   1876 non-null   int64  \n",
            " 17  impedimentos_mandante      1876 non-null   int64  \n",
            " 18  escanteios_mandante        1876 non-null   int64  \n",
            " 19  rodata_visitante           1876 non-null   int64  \n",
            " 20  chutes_visitante           1876 non-null   int64  \n",
            " 21  chutes_no_alvo_visitante   1876 non-null   int64  \n",
            " 22  posse_de_bola_visitante    1876 non-null   Float64\n",
            " 23  passes_visitante           1876 non-null   int64  \n",
            " 24  precisao_passes_visitante  1876 non-null   Float64\n",
            " 25  faltas_visitante           1876 non-null   int64  \n",
            " 26  cartao_amarelo_visitante   1876 non-null   int64  \n",
            " 27  cartao_vermelho_visitante  1876 non-null   int64  \n",
            " 28  impedimentos_visitante     1876 non-null   int64  \n",
            " 29  escanteios_visitante       1876 non-null   int64  \n",
            " 30  temporada                  1876 non-null   int64  \n",
            " 31  resultado                  1876 non-null   int64  \n",
            " 32  total_gols                 1876 non-null   int64  \n",
            "dtypes: Float64(4), int64(24), object(5)\n",
            "memory usage: 505.6+ KB\n"
          ]
        }
      ],
      "source": [
        "df2.info()"
      ]
    },
    {
      "cell_type": "code",
      "execution_count": 74,
      "metadata": {
        "id": "6XrykEzKuC9K"
      },
      "outputs": [],
      "source": [
        "#salvando o arquivo para analise de dados e machine learning\n",
        "df2.to_csv(\"dados/transformado.csv\",index=False,sep=',')"
      ]
    }
  ],
  "metadata": {
    "colab": {
      "provenance": []
    },
    "kernelspec": {
      "display_name": "Python 3",
      "language": "python",
      "name": "python3"
    },
    "language_info": {
      "codemirror_mode": {
        "name": "ipython",
        "version": 3
      },
      "file_extension": ".py",
      "mimetype": "text/x-python",
      "name": "python",
      "nbconvert_exporter": "python",
      "pygments_lexer": "ipython3",
      "version": "3.10.10"
    },
    "orig_nbformat": 4
  },
  "nbformat": 4,
  "nbformat_minor": 0
}
