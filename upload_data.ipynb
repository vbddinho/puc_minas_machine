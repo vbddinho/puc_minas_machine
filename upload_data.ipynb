{
 "cells": [
  {
   "attachments": {},
   "cell_type": "markdown",
   "metadata": {},
   "source": [
    "Projeto Final TCC de Ciênci de Dados\n",
    "\n",
    "1) https://www.kaggle.com/datasets/adaoduque/campeonato-brasileiro-de-futebol?search=Futebol\n",
    "\n",
    "\n",
    "1 ) Verificar quantidade de Vitorias/Derrotas/Empate do Clube (Botafogo, Vasco, Fluminense, Flamengo)\n",
    "Exemplo: Quantidade de Vitorias ANO\n",
    "Exemplo: Quantidade de Derrotas ANO\n",
    "Exemplo: Quantidade de Empates ANO\n",
    "\n",
    "2) Quais os Clubes são os Carrascos ( Qual Clube Adversario que mais ganhou do Clube Analisado , pode ser Média)\n",
    "\n",
    "3) Quantidade de Gols Por Ano\n",
    "\n",
    "4) Quantidade de Gols Sofrido por ano\n",
    "\n",
    "5) Qual Clube Adversario tomou mais gol do clube analisado ( Pode ser por média Jogos x gols)\n",
    "\n",
    "6) Total Geral de Média de Gols por ano, Média de Partidas vencidas por ano, Média de Partidas perdidas por ano e média de partidas empatadas por ano.\n",
    "\n",
    "\n",
    "\n",
    "# Possibilidades\n",
    "https://dadosabertos.camara.leg.br/swagger/api.html#api\n"
   ]
  },
  {
   "cell_type": "code",
   "execution_count": null,
   "metadata": {},
   "outputs": [],
   "source": [
    "#Instala Bibliotecas necessárias\n",
    "!pip install pandas\n",
    "!pip install numpy"
   ]
  },
  {
   "cell_type": "code",
   "execution_count": null,
   "metadata": {},
   "outputs": [],
   "source": [
    "import numpy as np \n",
    "import pandas as pd "
   ]
  },
  {
   "cell_type": "code",
   "execution_count": null,
   "metadata": {},
   "outputs": [],
   "source": [
    "#leitura do arquivo \n",
    "df = pd.read_csv('dados/campeonato-brasileiro-full.csv', sep=',',encoding = \"UTF-8\")\n",
    "df.head()"
   ]
  },
  {
   "cell_type": "code",
   "execution_count": null,
   "metadata": {},
   "outputs": [],
   "source": [
    "df.columns"
   ]
  },
  {
   "cell_type": "code",
   "execution_count": null,
   "metadata": {},
   "outputs": [],
   "source": [
    "df.info()"
   ]
  },
  {
   "cell_type": "code",
   "execution_count": null,
   "metadata": {},
   "outputs": [],
   "source": [
    "#Converte data do tipo objeto para o timo datetime e cria a coluna ano\n",
    "df[\"data\"] = pd.to_datetime(df[\"data\"],format='%d/%m/%Y')\n",
    "df[\"year\"] = df[\"data\"].dt.year\n",
    "\n",
    "#indexa id \n",
    "df.set_index('ID')"
   ]
  },
  {
   "cell_type": "code",
   "execution_count": null,
   "metadata": {},
   "outputs": [],
   "source": [
    "#Verifica os valores nulos\n",
    "df.isnull().sum()"
   ]
  },
  {
   "cell_type": "code",
   "execution_count": null,
   "metadata": {},
   "outputs": [],
   "source": [
    "df.head()"
   ]
  },
  {
   "cell_type": "code",
   "execution_count": null,
   "metadata": {},
   "outputs": [],
   "source": [
    "\n",
    "# Cria a coluna vencedor_mandante_visitante_empate com os resultados 1 = Vencedor Mandante, 2 = Vencedor Visitante, 3 = Empate\n",
    "df.loc[df['vencedor'] == df['mandante'],'vencedor_mandante_visitante_empate']=1\n",
    "df.loc[df['vencedor'] == df['visitante'],'vencedor_mandante_visitante_empate']=2\n",
    "df.loc[df['vencedor'] == '-','vencedor_mandante_visitante_empate']=3\n",
    "\n",
    "df.head(100)\n",
    "\n"
   ]
  },
  {
   "cell_type": "code",
   "execution_count": null,
   "metadata": {},
   "outputs": [],
   "source": [
    "df[\"vencedor\"].value_counts()"
   ]
  },
  {
   "cell_type": "code",
   "execution_count": null,
   "metadata": {},
   "outputs": [],
   "source": [
    "# Analisar média de vitorias por ano dos Clubes [Botafogo-RJ, Fluminense, Flamengo , Vasco ]\n",
    "\n",
    "\n",
    "\n",
    "selecao = (df['mandante'] == 'Botafogo-RJ' ) |  (df['visitante'] == 'Botafogo-RJ' )\n",
    "\n",
    "df_BRF = df[selecao]\n",
    "\n",
    "df_BRF.head(10)\n",
    "\n",
    "\n"
   ]
  },
  {
   "cell_type": "code",
   "execution_count": null,
   "metadata": {},
   "outputs": [],
   "source": [
    "df_BRF.info()\n",
    "df_BRF['year'].value_counts().sort_index()\n",
    "\n",
    "#df_BRF['vencedor_mandante_visitante_empate'].value_counts()\n"
   ]
  },
  {
   "cell_type": "markdown",
   "metadata": {},
   "source": []
  },
  {
   "cell_type": "markdown",
   "metadata": {},
   "source": []
  },
  {
   "cell_type": "markdown",
   "metadata": {},
   "source": []
  },
  {
   "cell_type": "code",
   "execution_count": null,
   "metadata": {},
   "outputs": [],
   "source": [
    "#Verificar se os dados tem relacionamento e quais são.\n",
    "\n",
    "df_estatisticas = pd.read_csv('dados/campeonato-brasileiro-estatisticas-full.csv', sep=',',encoding = \"UTF-8\")\n",
    "df_estatisticas[(df_estatisticas[\"partida_id\"]==4607)].head()"
   ]
  },
  {
   "cell_type": "code",
   "execution_count": null,
   "metadata": {},
   "outputs": [],
   "source": [
    "#Filtro\n",
    "#tt = df[df[\"ID\"]==4607]"
   ]
  },
  {
   "cell_type": "code",
   "execution_count": null,
   "metadata": {},
   "outputs": [],
   "source": [
    "#df.set_index('ID')\n",
    "#df['Data']= pd.to_datetime(df['Data'])\n",
    "#df['ano'] = df['Data'].dt.year\n",
    "#df.reset_index()\n",
    "\n",
    "\n",
    "df[\"vencedor\"].value_counts()\n",
    "#arenas = df2[['arena', 'tgols']].groupby('arena')"
   ]
  }
 ],
 "metadata": {
  "kernelspec": {
   "display_name": "Python 3.10.10 64-bit (microsoft store)",
   "language": "python",
   "name": "python3"
  },
  "language_info": {
   "codemirror_mode": {
    "name": "ipython",
    "version": 3
   },
   "file_extension": ".py",
   "mimetype": "text/x-python",
   "name": "python",
   "nbconvert_exporter": "python",
   "pygments_lexer": "ipython3",
   "version": "3.10.10"
  },
  "orig_nbformat": 4,
  "vscode": {
   "interpreter": {
    "hash": "47e86e659cc4c7e7c8281f4dfa198d26eba569ed7d4f5779d5419dff2bd0d92c"
   }
  }
 },
 "nbformat": 4,
 "nbformat_minor": 2
}
