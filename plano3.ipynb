{
  "cells": [
    {
      "cell_type": "code",
      "execution_count": 1,
      "metadata": {
        "id": "zptGYXbqCjbT"
      },
      "outputs": [],
      "source": [
        "import pandas as pd \n",
        "import numpy as np \n",
        "import matplotlib.pyplot as plt\n",
        "import seaborn as sns"
      ]
    },
    {
      "cell_type": "code",
      "source": [
        "df_estatisticas = pd.read_csv('dados/campeonato-brasileiro-estatisticas-full.csv', sep=',',encoding = \"UTF-8\")\n",
        "df_jogos = pd.read_csv('dados/campeonato-brasileiro-full.csv', sep=',',encoding = \"UTF-8\")\n",
        "\n"
      ],
      "metadata": {
        "id": "jKF99ieIC_zx"
      },
      "execution_count": 6,
      "outputs": []
    },
    {
      "cell_type": "code",
      "source": [
        "df_jogos.info() "
      ],
      "metadata": {
        "colab": {
          "base_uri": "https://localhost:8080/"
        },
        "id": "09B27gcFDVuz",
        "outputId": "e4a8a016-5563-41e6-be9a-e30b7c70678a"
      },
      "execution_count": 7,
      "outputs": [
        {
          "output_type": "stream",
          "name": "stdout",
          "text": [
            "<class 'pandas.core.frame.DataFrame'>\n",
            "RangeIndex: 8025 entries, 0 to 8024\n",
            "Data columns (total 16 columns):\n",
            " #   Column              Non-Null Count  Dtype \n",
            "---  ------              --------------  ----- \n",
            " 0   ID                  8025 non-null   int64 \n",
            " 1   rodata              8025 non-null   int64 \n",
            " 2   data                8025 non-null   object\n",
            " 3   hora                8025 non-null   object\n",
            " 4   mandante            8025 non-null   object\n",
            " 5   visitante           8025 non-null   object\n",
            " 6   formacao_mandante   3051 non-null   object\n",
            " 7   formacao_visitante  3051 non-null   object\n",
            " 8   tecnico_mandante    3415 non-null   object\n",
            " 9   tecnico_visitante   3415 non-null   object\n",
            " 10  vencedor            8025 non-null   object\n",
            " 11  arena               8025 non-null   object\n",
            " 12  mandante_Placar     8025 non-null   int64 \n",
            " 13  visitante_Placar    8025 non-null   int64 \n",
            " 14  mandante_Estado     8025 non-null   object\n",
            " 15  visitante_Estado    8025 non-null   object\n",
            "dtypes: int64(4), object(12)\n",
            "memory usage: 1003.2+ KB\n"
          ]
        }
      ]
    },
    {
      "cell_type": "code",
      "source": [
        "df_estatisticas.info()"
      ],
      "metadata": {
        "colab": {
          "base_uri": "https://localhost:8080/"
        },
        "id": "UOkNoU_nENc9",
        "outputId": "036bbafc-2255-4caf-a1eb-0092ea344dba"
      },
      "execution_count": 8,
      "outputs": [
        {
          "output_type": "stream",
          "name": "stdout",
          "text": [
            "<class 'pandas.core.frame.DataFrame'>\n",
            "RangeIndex: 16050 entries, 0 to 16049\n",
            "Data columns (total 13 columns):\n",
            " #   Column           Non-Null Count  Dtype \n",
            "---  ------           --------------  ----- \n",
            " 0   partida_id       16050 non-null  int64 \n",
            " 1   rodata           16050 non-null  int64 \n",
            " 2   clube            16050 non-null  object\n",
            " 3   chutes           16050 non-null  int64 \n",
            " 4   chutes_no_alvo   16050 non-null  int64 \n",
            " 5   posse_de_bola    6838 non-null   object\n",
            " 6   passes           16050 non-null  int64 \n",
            " 7   precisao_passes  6838 non-null   object\n",
            " 8   faltas           16050 non-null  int64 \n",
            " 9   cartao_amarelo   16050 non-null  int64 \n",
            " 10  cartao_vermelho  16050 non-null  int64 \n",
            " 11  impedimentos     16050 non-null  int64 \n",
            " 12  escanteios       16050 non-null  int64 \n",
            "dtypes: int64(10), object(3)\n",
            "memory usage: 1.6+ MB\n"
          ]
        }
      ]
    },
    {
      "cell_type": "code",
      "source": [
        "#innerjoin = pd.merge(df,df_estatisticas,right_on='partida_id' ,left_on='ID',how='inner')\n",
        "#innerjoin[(innerjoin['ID'] == 8017)]"
      ],
      "metadata": {
        "id": "kPgQyAkTDL-z"
      },
      "execution_count": 5,
      "outputs": []
    },
    {
      "cell_type": "code",
      "source": [
        "dfT = df_jogos[['ID','vencedor','data']]"
      ],
      "metadata": {
        "id": "2yiRpkV8WV3W"
      },
      "execution_count": 9,
      "outputs": []
    },
    {
      "cell_type": "code",
      "source": [
        "innerjoin = pd.merge(df_estatisticas,df_jogos,how='inner', left_on='partida_id',right_on='ID' )"
      ],
      "metadata": {
        "id": "AMIuz5rsD6Ae"
      },
      "execution_count": 12,
      "outputs": []
    },
    {
      "cell_type": "code",
      "source": [
        "innerjoin.isna().sum()"
      ],
      "metadata": {
        "colab": {
          "base_uri": "https://localhost:8080/"
        },
        "id": "nLHA7jx7WmAU",
        "outputId": "0858313e-7c1f-43e8-b5f2-3794cbf39a35"
      },
      "execution_count": 16,
      "outputs": [
        {
          "output_type": "execute_result",
          "data": {
            "text/plain": [
              "partida_id               0\n",
              "rodata_x                 0\n",
              "clube                    0\n",
              "chutes                   0\n",
              "chutes_no_alvo           0\n",
              "posse_de_bola         9212\n",
              "passes                   0\n",
              "precisao_passes       9212\n",
              "faltas                   0\n",
              "cartao_amarelo           0\n",
              "cartao_vermelho          0\n",
              "impedimentos             0\n",
              "escanteios               0\n",
              "ID                       0\n",
              "rodata_y                 0\n",
              "data                     0\n",
              "hora                     0\n",
              "mandante                 0\n",
              "visitante                0\n",
              "formacao_mandante     9948\n",
              "formacao_visitante    9948\n",
              "tecnico_mandante      9220\n",
              "tecnico_visitante     9220\n",
              "vencedor                 0\n",
              "arena                    0\n",
              "mandante_Placar          0\n",
              "visitante_Placar         0\n",
              "mandante_Estado          0\n",
              "visitante_Estado         0\n",
              "dtype: int64"
            ]
          },
          "metadata": {},
          "execution_count": 16
        }
      ]
    },
    {
      "cell_type": "code",
      "source": [
        "innerjoin.shape"
      ],
      "metadata": {
        "colab": {
          "base_uri": "https://localhost:8080/"
        },
        "id": "Zw1tumHSXk51",
        "outputId": "4fe3230f-6a64-481e-bf6a-d32a5342cda0"
      },
      "execution_count": 17,
      "outputs": [
        {
          "output_type": "execute_result",
          "data": {
            "text/plain": [
              "(16050, 29)"
            ]
          },
          "metadata": {},
          "execution_count": 17
        }
      ]
    }
  ],
  "metadata": {
    "language_info": {
      "name": "python"
    },
    "orig_nbformat": 4,
    "colab": {
      "provenance": []
    },
    "kernelspec": {
      "name": "python3",
      "display_name": "Python 3"
    },
    "gpuClass": "standard",
    "accelerator": "GPU"
  },
  "nbformat": 4,
  "nbformat_minor": 0
}