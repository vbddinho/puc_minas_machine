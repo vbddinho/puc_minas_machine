{
  "cells": [
    {
      "cell_type": "markdown",
      "metadata": {
        "colab_type": "text",
        "id": "view-in-github"
      },
      "source": [
        "<a href=\"https://colab.research.google.com/github/vbddinho/puc_minas_machine/blob/main/plano3.ipynb\" target=\"_parent\"><img src=\"https://colab.research.google.com/assets/colab-badge.svg\" alt=\"Open In Colab\"/></a>"
      ]
    },
    {
      "cell_type": "code",
      "execution_count": 117,
      "metadata": {
        "id": "zptGYXbqCjbT"
      },
      "outputs": [],
      "source": [
        "import pandas as pd \n",
        "import numpy as np \n",
        "import matplotlib.pyplot as plt\n",
        "import seaborn as sns"
      ]
    },
    {
      "cell_type": "code",
      "execution_count": 118,
      "metadata": {
        "id": "6oF8t3Vq8_mL"
      },
      "outputs": [],
      "source": [
        "#Definição de configurações de dataframes\n",
        "pd.set_option('display.max_rows', 1000)\n",
        "pd.set_option('display.max_columns', 500)\n",
        "pd.set_option('display.width', 1000)\n",
        "pd.set_option('display.precision', 4)\n",
        "pd.set_option('display.expand_frame_repr', False)"
      ]
    },
    {
      "cell_type": "code",
      "execution_count": 119,
      "metadata": {
        "id": "9pTX-wF-UTkI"
      },
      "outputs": [],
      "source": [
        "#Configurando os plots para serem exibidos diretamente no notebook\n",
        "%matplotlib inline"
      ]
    },
    {
      "cell_type": "code",
      "execution_count": 120,
      "metadata": {
        "id": "jKF99ieIC_zx"
      },
      "outputs": [],
      "source": [
        "df_estatisticas = pd.read_csv('dados/campeonato-brasileiro-estatisticas-full.csv', sep=',',encoding = \"UTF-8\")\n"
      ]
    },
    {
      "cell_type": "code",
      "execution_count": 121,
      "metadata": {
        "colab": {
          "base_uri": "https://localhost:8080/"
        },
        "id": "09B27gcFDVuz",
        "outputId": "f1720e53-8c4e-42aa-a883-6b678c52ea69"
      },
      "outputs": [
        {
          "name": "stdout",
          "output_type": "stream",
          "text": [
            "<class 'pandas.core.frame.DataFrame'>\n",
            "RangeIndex: 16050 entries, 0 to 16049\n",
            "Data columns (total 13 columns):\n",
            " #   Column           Non-Null Count  Dtype \n",
            "---  ------           --------------  ----- \n",
            " 0   partida_id       16050 non-null  int64 \n",
            " 1   rodata           16050 non-null  int64 \n",
            " 2   clube            16050 non-null  object\n",
            " 3   chutes           16050 non-null  int64 \n",
            " 4   chutes_no_alvo   16050 non-null  int64 \n",
            " 5   posse_de_bola    6838 non-null   object\n",
            " 6   passes           16050 non-null  int64 \n",
            " 7   precisao_passes  6838 non-null   object\n",
            " 8   faltas           16050 non-null  int64 \n",
            " 9   cartao_amarelo   16050 non-null  int64 \n",
            " 10  cartao_vermelho  16050 non-null  int64 \n",
            " 11  impedimentos     16050 non-null  int64 \n",
            " 12  escanteios       16050 non-null  int64 \n",
            "dtypes: int64(10), object(3)\n",
            "memory usage: 1.6+ MB\n"
          ]
        }
      ],
      "source": [
        "df_estatisticas.info() "
      ]
    },
    {
      "cell_type": "code",
      "execution_count": 122,
      "metadata": {
        "colab": {
          "base_uri": "https://localhost:8080/"
        },
        "id": "1ROe6SClTznL",
        "outputId": "e9076c7a-7ba1-443a-890f-951bb1c9a29a"
      },
      "outputs": [
        {
          "data": {
            "text/plain": [
              "partida_id         8025\n",
              "rodata               46\n",
              "clube                45\n",
              "chutes               37\n",
              "chutes_no_alvo       16\n",
              "posse_de_bola        62\n",
              "passes              515\n",
              "precisao_passes      42\n",
              "faltas               32\n",
              "cartao_amarelo       11\n",
              "cartao_vermelho       4\n",
              "impedimentos         11\n",
              "escanteios           21\n",
              "dtype: int64"
            ]
          },
          "execution_count": 122,
          "metadata": {},
          "output_type": "execute_result"
        }
      ],
      "source": [
        "df_estatisticas.nunique()"
      ]
    },
    {
      "cell_type": "code",
      "execution_count": 123,
      "metadata": {
        "id": "dAsD36QIU2zV"
      },
      "outputs": [],
      "source": [
        "df_estatisticas.rename(columns={'rodata':'rodada'},inplace=True)"
      ]
    },
    {
      "cell_type": "code",
      "execution_count": 124,
      "metadata": {
        "colab": {
          "base_uri": "https://localhost:8080/"
        },
        "id": "UOkNoU_nENc9",
        "outputId": "4a3c18c8-1259-40e8-a4f5-515d67f4eded"
      },
      "outputs": [
        {
          "data": {
            "text/plain": [
              "partida_id            0\n",
              "rodada                0\n",
              "clube                 0\n",
              "chutes                0\n",
              "chutes_no_alvo        0\n",
              "posse_de_bola      9212\n",
              "passes                0\n",
              "precisao_passes    9212\n",
              "faltas                0\n",
              "cartao_amarelo        0\n",
              "cartao_vermelho       0\n",
              "impedimentos          0\n",
              "escanteios            0\n",
              "dtype: int64"
            ]
          },
          "execution_count": 124,
          "metadata": {},
          "output_type": "execute_result"
        }
      ],
      "source": [
        "df_estatisticas.isna().sum()"
      ]
    },
    {
      "cell_type": "code",
      "execution_count": 125,
      "metadata": {
        "colab": {
          "base_uri": "https://localhost:8080/",
          "height": 206
        },
        "id": "ETPulA0FWDdl",
        "outputId": "8f6539c8-4e2e-40d3-b78f-7de47747fc3e"
      },
      "outputs": [
        {
          "data": {
            "text/html": [
              "<div>\n",
              "<style scoped>\n",
              "    .dataframe tbody tr th:only-of-type {\n",
              "        vertical-align: middle;\n",
              "    }\n",
              "\n",
              "    .dataframe tbody tr th {\n",
              "        vertical-align: top;\n",
              "    }\n",
              "\n",
              "    .dataframe thead th {\n",
              "        text-align: right;\n",
              "    }\n",
              "</style>\n",
              "<table border=\"1\" class=\"dataframe\">\n",
              "  <thead>\n",
              "    <tr style=\"text-align: right;\">\n",
              "      <th></th>\n",
              "      <th>partida_id</th>\n",
              "      <th>rodada</th>\n",
              "      <th>clube</th>\n",
              "      <th>chutes</th>\n",
              "      <th>chutes_no_alvo</th>\n",
              "      <th>posse_de_bola</th>\n",
              "      <th>passes</th>\n",
              "      <th>precisao_passes</th>\n",
              "      <th>faltas</th>\n",
              "      <th>cartao_amarelo</th>\n",
              "      <th>cartao_vermelho</th>\n",
              "      <th>impedimentos</th>\n",
              "      <th>escanteios</th>\n",
              "    </tr>\n",
              "  </thead>\n",
              "  <tbody>\n",
              "    <tr>\n",
              "      <th>16045</th>\n",
              "      <td>8023</td>\n",
              "      <td>38</td>\n",
              "      <td>Atletico-MG</td>\n",
              "      <td>17</td>\n",
              "      <td>7</td>\n",
              "      <td>41%</td>\n",
              "      <td>351</td>\n",
              "      <td>82%</td>\n",
              "      <td>19</td>\n",
              "      <td>6</td>\n",
              "      <td>0</td>\n",
              "      <td>0</td>\n",
              "      <td>4</td>\n",
              "    </tr>\n",
              "    <tr>\n",
              "      <th>16046</th>\n",
              "      <td>8024</td>\n",
              "      <td>38</td>\n",
              "      <td>Internacional</td>\n",
              "      <td>15</td>\n",
              "      <td>8</td>\n",
              "      <td>48%</td>\n",
              "      <td>287</td>\n",
              "      <td>77%</td>\n",
              "      <td>13</td>\n",
              "      <td>2</td>\n",
              "      <td>0</td>\n",
              "      <td>1</td>\n",
              "      <td>6</td>\n",
              "    </tr>\n",
              "    <tr>\n",
              "      <th>16047</th>\n",
              "      <td>8024</td>\n",
              "      <td>38</td>\n",
              "      <td>Palmeiras</td>\n",
              "      <td>11</td>\n",
              "      <td>2</td>\n",
              "      <td>52%</td>\n",
              "      <td>306</td>\n",
              "      <td>82%</td>\n",
              "      <td>17</td>\n",
              "      <td>3</td>\n",
              "      <td>0</td>\n",
              "      <td>2</td>\n",
              "      <td>5</td>\n",
              "    </tr>\n",
              "    <tr>\n",
              "      <th>16048</th>\n",
              "      <td>8025</td>\n",
              "      <td>38</td>\n",
              "      <td>Goias</td>\n",
              "      <td>6</td>\n",
              "      <td>2</td>\n",
              "      <td>35%</td>\n",
              "      <td>330</td>\n",
              "      <td>80%</td>\n",
              "      <td>12</td>\n",
              "      <td>2</td>\n",
              "      <td>0</td>\n",
              "      <td>1</td>\n",
              "      <td>3</td>\n",
              "    </tr>\n",
              "    <tr>\n",
              "      <th>16049</th>\n",
              "      <td>8025</td>\n",
              "      <td>38</td>\n",
              "      <td>Sao Paulo</td>\n",
              "      <td>13</td>\n",
              "      <td>7</td>\n",
              "      <td>65%</td>\n",
              "      <td>591</td>\n",
              "      <td>90%</td>\n",
              "      <td>14</td>\n",
              "      <td>1</td>\n",
              "      <td>0</td>\n",
              "      <td>0</td>\n",
              "      <td>4</td>\n",
              "    </tr>\n",
              "  </tbody>\n",
              "</table>\n",
              "</div>"
            ],
            "text/plain": [
              "       partida_id  rodada          clube  chutes  chutes_no_alvo posse_de_bola  passes precisao_passes  faltas  cartao_amarelo  cartao_vermelho  impedimentos  escanteios\n",
              "16045        8023      38    Atletico-MG      17               7           41%     351             82%      19               6                0             0           4\n",
              "16046        8024      38  Internacional      15               8           48%     287             77%      13               2                0             1           6\n",
              "16047        8024      38      Palmeiras      11               2           52%     306             82%      17               3                0             2           5\n",
              "16048        8025      38          Goias       6               2           35%     330             80%      12               2                0             1           3\n",
              "16049        8025      38      Sao Paulo      13               7           65%     591             90%      14               1                0             0           4"
            ]
          },
          "execution_count": 125,
          "metadata": {},
          "output_type": "execute_result"
        }
      ],
      "source": [
        "df_estatisticas.tail()"
      ]
    },
    {
      "cell_type": "code",
      "execution_count": 126,
      "metadata": {
        "id": "CXgJP1C9WQNu"
      },
      "outputs": [],
      "source": [
        "df_estatisticas.fillna(0, axis=1, inplace=True)"
      ]
    },
    {
      "cell_type": "code",
      "execution_count": 127,
      "metadata": {
        "id": "7QcAZ6ErXEM-"
      },
      "outputs": [],
      "source": [
        "df_jogos = pd.read_csv('dados/campeonato-brasileiro-full.csv',sep=',',encoding = \"UTF-8\")"
      ]
    },
    {
      "cell_type": "code",
      "execution_count": 128,
      "metadata": {
        "colab": {
          "base_uri": "https://localhost:8080/"
        },
        "id": "15wZwbgLXGY6",
        "outputId": "728d0a0e-feac-438a-ef0e-517589f9158b"
      },
      "outputs": [
        {
          "name": "stdout",
          "output_type": "stream",
          "text": [
            "<class 'pandas.core.frame.DataFrame'>\n",
            "RangeIndex: 8025 entries, 0 to 8024\n",
            "Data columns (total 16 columns):\n",
            " #   Column              Non-Null Count  Dtype \n",
            "---  ------              --------------  ----- \n",
            " 0   ID                  8025 non-null   int64 \n",
            " 1   rodata              8025 non-null   int64 \n",
            " 2   data                8025 non-null   object\n",
            " 3   hora                8025 non-null   object\n",
            " 4   mandante            8025 non-null   object\n",
            " 5   visitante           8025 non-null   object\n",
            " 6   formacao_mandante   3051 non-null   object\n",
            " 7   formacao_visitante  3051 non-null   object\n",
            " 8   tecnico_mandante    3415 non-null   object\n",
            " 9   tecnico_visitante   3415 non-null   object\n",
            " 10  vencedor            8025 non-null   object\n",
            " 11  arena               8025 non-null   object\n",
            " 12  mandante_Placar     8025 non-null   int64 \n",
            " 13  visitante_Placar    8025 non-null   int64 \n",
            " 14  mandante_Estado     8025 non-null   object\n",
            " 15  visitante_Estado    8025 non-null   object\n",
            "dtypes: int64(4), object(12)\n",
            "memory usage: 1003.2+ KB\n"
          ]
        }
      ],
      "source": [
        "df_jogos.info()"
      ]
    },
    {
      "cell_type": "code",
      "execution_count": 129,
      "metadata": {
        "id": "gOr2_i3yXNf-"
      },
      "outputs": [],
      "source": [
        "df_jogos.rename(columns={'ID':'partida_id'},inplace=True)\n",
        "df_jogos.rename(columns={'rodata':'rodada'},inplace=True)"
      ]
    },
    {
      "cell_type": "code",
      "execution_count": 130,
      "metadata": {
        "id": "xWGiZ1ukXpWD"
      },
      "outputs": [],
      "source": [
        "df = pd.merge(df_estatisticas,df_jogos,how='left',right_on='partida_id',left_on='partida_id')"
      ]
    },
    {
      "cell_type": "code",
      "execution_count": 131,
      "metadata": {
        "colab": {
          "base_uri": "https://localhost:8080/",
          "height": 479
        },
        "id": "7u1hAN2DYULt",
        "outputId": "47039d78-b20a-4485-ebb2-dee6b58987a8"
      },
      "outputs": [
        {
          "data": {
            "text/html": [
              "<div>\n",
              "<style scoped>\n",
              "    .dataframe tbody tr th:only-of-type {\n",
              "        vertical-align: middle;\n",
              "    }\n",
              "\n",
              "    .dataframe tbody tr th {\n",
              "        vertical-align: top;\n",
              "    }\n",
              "\n",
              "    .dataframe thead th {\n",
              "        text-align: right;\n",
              "    }\n",
              "</style>\n",
              "<table border=\"1\" class=\"dataframe\">\n",
              "  <thead>\n",
              "    <tr style=\"text-align: right;\">\n",
              "      <th></th>\n",
              "      <th>partida_id</th>\n",
              "      <th>rodada_x</th>\n",
              "      <th>clube</th>\n",
              "      <th>chutes</th>\n",
              "      <th>chutes_no_alvo</th>\n",
              "      <th>posse_de_bola</th>\n",
              "      <th>passes</th>\n",
              "      <th>precisao_passes</th>\n",
              "      <th>faltas</th>\n",
              "      <th>cartao_amarelo</th>\n",
              "      <th>cartao_vermelho</th>\n",
              "      <th>impedimentos</th>\n",
              "      <th>escanteios</th>\n",
              "      <th>rodada_y</th>\n",
              "      <th>data</th>\n",
              "      <th>hora</th>\n",
              "      <th>mandante</th>\n",
              "      <th>visitante</th>\n",
              "      <th>formacao_mandante</th>\n",
              "      <th>formacao_visitante</th>\n",
              "      <th>tecnico_mandante</th>\n",
              "      <th>tecnico_visitante</th>\n",
              "      <th>vencedor</th>\n",
              "      <th>arena</th>\n",
              "      <th>mandante_Placar</th>\n",
              "      <th>visitante_Placar</th>\n",
              "      <th>mandante_Estado</th>\n",
              "      <th>visitante_Estado</th>\n",
              "    </tr>\n",
              "  </thead>\n",
              "  <tbody>\n",
              "    <tr>\n",
              "      <th>16045</th>\n",
              "      <td>8023</td>\n",
              "      <td>38</td>\n",
              "      <td>Atletico-MG</td>\n",
              "      <td>17</td>\n",
              "      <td>7</td>\n",
              "      <td>41%</td>\n",
              "      <td>351</td>\n",
              "      <td>82%</td>\n",
              "      <td>19</td>\n",
              "      <td>6</td>\n",
              "      <td>0</td>\n",
              "      <td>0</td>\n",
              "      <td>4</td>\n",
              "      <td>38</td>\n",
              "      <td>13/11/2022</td>\n",
              "      <td>16:03</td>\n",
              "      <td>Corinthians</td>\n",
              "      <td>Atletico-MG</td>\n",
              "      <td>4-1-4-1</td>\n",
              "      <td>4-2-3-1</td>\n",
              "      <td>F. J. Monteiro Almeida</td>\n",
              "      <td>A. Stival</td>\n",
              "      <td>Atletico-MG</td>\n",
              "      <td>Neo Química Arena</td>\n",
              "      <td>0</td>\n",
              "      <td>1</td>\n",
              "      <td>SP</td>\n",
              "      <td>MG</td>\n",
              "    </tr>\n",
              "    <tr>\n",
              "      <th>16046</th>\n",
              "      <td>8024</td>\n",
              "      <td>38</td>\n",
              "      <td>Internacional</td>\n",
              "      <td>15</td>\n",
              "      <td>8</td>\n",
              "      <td>48%</td>\n",
              "      <td>287</td>\n",
              "      <td>77%</td>\n",
              "      <td>13</td>\n",
              "      <td>2</td>\n",
              "      <td>0</td>\n",
              "      <td>1</td>\n",
              "      <td>6</td>\n",
              "      <td>38</td>\n",
              "      <td>13/11/2022</td>\n",
              "      <td>16:03</td>\n",
              "      <td>Internacional</td>\n",
              "      <td>Palmeiras</td>\n",
              "      <td>4-2-3-1</td>\n",
              "      <td>4-2-3-1</td>\n",
              "      <td>L. Venker de Menezes</td>\n",
              "      <td>A. Moreira Ferreira</td>\n",
              "      <td>Internacional</td>\n",
              "      <td>Estádio José Pinheiro Borda</td>\n",
              "      <td>3</td>\n",
              "      <td>0</td>\n",
              "      <td>RS</td>\n",
              "      <td>SP</td>\n",
              "    </tr>\n",
              "    <tr>\n",
              "      <th>16047</th>\n",
              "      <td>8024</td>\n",
              "      <td>38</td>\n",
              "      <td>Palmeiras</td>\n",
              "      <td>11</td>\n",
              "      <td>2</td>\n",
              "      <td>52%</td>\n",
              "      <td>306</td>\n",
              "      <td>82%</td>\n",
              "      <td>17</td>\n",
              "      <td>3</td>\n",
              "      <td>0</td>\n",
              "      <td>2</td>\n",
              "      <td>5</td>\n",
              "      <td>38</td>\n",
              "      <td>13/11/2022</td>\n",
              "      <td>16:03</td>\n",
              "      <td>Internacional</td>\n",
              "      <td>Palmeiras</td>\n",
              "      <td>4-2-3-1</td>\n",
              "      <td>4-2-3-1</td>\n",
              "      <td>L. Venker de Menezes</td>\n",
              "      <td>A. Moreira Ferreira</td>\n",
              "      <td>Internacional</td>\n",
              "      <td>Estádio José Pinheiro Borda</td>\n",
              "      <td>3</td>\n",
              "      <td>0</td>\n",
              "      <td>RS</td>\n",
              "      <td>SP</td>\n",
              "    </tr>\n",
              "    <tr>\n",
              "      <th>16048</th>\n",
              "      <td>8025</td>\n",
              "      <td>38</td>\n",
              "      <td>Goias</td>\n",
              "      <td>6</td>\n",
              "      <td>2</td>\n",
              "      <td>35%</td>\n",
              "      <td>330</td>\n",
              "      <td>80%</td>\n",
              "      <td>12</td>\n",
              "      <td>2</td>\n",
              "      <td>0</td>\n",
              "      <td>1</td>\n",
              "      <td>3</td>\n",
              "      <td>38</td>\n",
              "      <td>13/11/2022</td>\n",
              "      <td>16:03</td>\n",
              "      <td>Goias</td>\n",
              "      <td>Sao Paulo</td>\n",
              "      <td>4-2-3-1</td>\n",
              "      <td>4-1-2-1-2</td>\n",
              "      <td>J. Ribeiro Ventura</td>\n",
              "      <td>R. Ceni</td>\n",
              "      <td>Sao Paulo</td>\n",
              "      <td>Estádio da Serrinha</td>\n",
              "      <td>0</td>\n",
              "      <td>4</td>\n",
              "      <td>GO</td>\n",
              "      <td>SP</td>\n",
              "    </tr>\n",
              "    <tr>\n",
              "      <th>16049</th>\n",
              "      <td>8025</td>\n",
              "      <td>38</td>\n",
              "      <td>Sao Paulo</td>\n",
              "      <td>13</td>\n",
              "      <td>7</td>\n",
              "      <td>65%</td>\n",
              "      <td>591</td>\n",
              "      <td>90%</td>\n",
              "      <td>14</td>\n",
              "      <td>1</td>\n",
              "      <td>0</td>\n",
              "      <td>0</td>\n",
              "      <td>4</td>\n",
              "      <td>38</td>\n",
              "      <td>13/11/2022</td>\n",
              "      <td>16:03</td>\n",
              "      <td>Goias</td>\n",
              "      <td>Sao Paulo</td>\n",
              "      <td>4-2-3-1</td>\n",
              "      <td>4-1-2-1-2</td>\n",
              "      <td>J. Ribeiro Ventura</td>\n",
              "      <td>R. Ceni</td>\n",
              "      <td>Sao Paulo</td>\n",
              "      <td>Estádio da Serrinha</td>\n",
              "      <td>0</td>\n",
              "      <td>4</td>\n",
              "      <td>GO</td>\n",
              "      <td>SP</td>\n",
              "    </tr>\n",
              "  </tbody>\n",
              "</table>\n",
              "</div>"
            ],
            "text/plain": [
              "      partida_id rodada_x          clube chutes chutes_no_alvo posse_de_bola passes precisao_passes faltas cartao_amarelo cartao_vermelho impedimentos escanteios  rodada_y        data   hora       mandante    visitante formacao_mandante formacao_visitante        tecnico_mandante    tecnico_visitante       vencedor                        arena  mandante_Placar  visitante_Placar mandante_Estado visitante_Estado\n",
              "16045       8023       38    Atletico-MG     17              7           41%    351             82%     19              6               0            0          4        38  13/11/2022  16:03    Corinthians  Atletico-MG           4-1-4-1            4-2-3-1  F. J. Monteiro Almeida            A. Stival    Atletico-MG            Neo Química Arena                0                 1              SP               MG\n",
              "16046       8024       38  Internacional     15              8           48%    287             77%     13              2               0            1          6        38  13/11/2022  16:03  Internacional    Palmeiras           4-2-3-1            4-2-3-1    L. Venker de Menezes  A. Moreira Ferreira  Internacional  Estádio José Pinheiro Borda                3                 0              RS               SP\n",
              "16047       8024       38      Palmeiras     11              2           52%    306             82%     17              3               0            2          5        38  13/11/2022  16:03  Internacional    Palmeiras           4-2-3-1            4-2-3-1    L. Venker de Menezes  A. Moreira Ferreira  Internacional  Estádio José Pinheiro Borda                3                 0              RS               SP\n",
              "16048       8025       38          Goias      6              2           35%    330             80%     12              2               0            1          3        38  13/11/2022  16:03          Goias    Sao Paulo           4-2-3-1          4-1-2-1-2      J. Ribeiro Ventura              R. Ceni      Sao Paulo          Estádio da Serrinha                0                 4              GO               SP\n",
              "16049       8025       38      Sao Paulo     13              7           65%    591             90%     14              1               0            0          4        38  13/11/2022  16:03          Goias    Sao Paulo           4-2-3-1          4-1-2-1-2      J. Ribeiro Ventura              R. Ceni      Sao Paulo          Estádio da Serrinha                0                 4              GO               SP"
            ]
          },
          "execution_count": 131,
          "metadata": {},
          "output_type": "execute_result"
        }
      ],
      "source": [
        "df.tail()"
      ]
    },
    {
      "cell_type": "code",
      "execution_count": 132,
      "metadata": {
        "colab": {
          "base_uri": "https://localhost:8080/"
        },
        "id": "X3E4lQd-Y2ss",
        "outputId": "50eb900d-ff32-4e39-c5f5-3b76ea426cf1"
      },
      "outputs": [
        {
          "data": {
            "text/plain": [
              "Index(['partida_id', 'rodada_x', 'clube', 'chutes', 'chutes_no_alvo', 'posse_de_bola', 'passes', 'precisao_passes', 'faltas', 'cartao_amarelo', 'cartao_vermelho', 'impedimentos', 'escanteios', 'rodada_y', 'data', 'hora', 'mandante', 'visitante', 'formacao_mandante', 'formacao_visitante', 'tecnico_mandante', 'tecnico_visitante', 'vencedor', 'arena', 'mandante_Placar', 'visitante_Placar', 'mandante_Estado', 'visitante_Estado'], dtype='object')"
            ]
          },
          "execution_count": 132,
          "metadata": {},
          "output_type": "execute_result"
        }
      ],
      "source": [
        "df.columns"
      ]
    },
    {
      "cell_type": "code",
      "execution_count": 133,
      "metadata": {
        "id": "xAtVn61CY5Xz"
      },
      "outputs": [],
      "source": [
        "df.drop(columns=['rodada_y','hora','arena','visitante_Estado','mandante_Estado','tecnico_mandante','tecnico_visitante'],inplace=True)"
      ]
    },
    {
      "cell_type": "code",
      "execution_count": 134,
      "metadata": {
        "id": "pyodGpGSZ2Ar"
      },
      "outputs": [],
      "source": [
        "#Converte a data do tipo objeto para o tipo datetime e cria a coluna ano\n",
        "df[\"data\"] = pd.to_datetime(df[\"data\"],format='%d/%m/%Y',dayfirst=True)\n",
        "df[\"ano\"] = df[\"data\"].dt.year"
      ]
    },
    {
      "cell_type": "code",
      "execution_count": 135,
      "metadata": {
        "id": "UL7YQJTqZvKp"
      },
      "outputs": [],
      "source": [
        "#temporada de 2020 e 2021 foi afetada pelo COVID-19, realizando ajuste\n",
        "df.loc[(df[\"data\"]>=\"2020/08/08\") & (df[\"data\"]<=\"2021/02/25\"),\"ano\" ] = 2020\n",
        "df.loc[(df[\"data\"]>=\"2021/05/29\") & (df[\"data\"]<=\"2021/12/09\"),\"ano\" ] = 2021\n",
        "df.rename(columns={'ano':'temporada'},inplace=True)\n"
      ]
    },
    {
      "cell_type": "code",
      "execution_count": 136,
      "metadata": {
        "colab": {
          "base_uri": "https://localhost:8080/"
        },
        "id": "kiRccLqscmzz",
        "outputId": "55408fbc-3511-4653-99fc-cf7c086d62bc"
      },
      "outputs": [
        {
          "data": {
            "text/plain": [
              "array(['2020-08-08T00:00:00.000000000', '2020-08-09T00:00:00.000000000',\n",
              "       '2020-08-12T00:00:00.000000000', '2020-08-13T00:00:00.000000000',\n",
              "       '2020-08-15T00:00:00.000000000', '2020-08-16T00:00:00.000000000',\n",
              "       '2020-08-19T00:00:00.000000000', '2020-08-20T00:00:00.000000000',\n",
              "       '2020-08-22T00:00:00.000000000', '2020-08-23T00:00:00.000000000',\n",
              "       '2020-08-26T00:00:00.000000000', '2020-08-29T00:00:00.000000000',\n",
              "       '2020-08-30T00:00:00.000000000', '2020-09-02T00:00:00.000000000',\n",
              "       '2020-09-03T00:00:00.000000000', '2020-09-05T00:00:00.000000000',\n",
              "       '2020-09-06T00:00:00.000000000', '2020-09-09T00:00:00.000000000',\n",
              "       '2020-09-10T00:00:00.000000000', '2020-09-12T00:00:00.000000000',\n",
              "       '2020-09-13T00:00:00.000000000', '2020-09-16T00:00:00.000000000',\n",
              "       '2020-09-19T00:00:00.000000000', '2020-09-20T00:00:00.000000000',\n",
              "       '2020-09-23T00:00:00.000000000', '2020-09-26T00:00:00.000000000',\n",
              "       '2020-09-27T00:00:00.000000000', '2020-09-28T00:00:00.000000000',\n",
              "       '2020-09-30T00:00:00.000000000', '2020-10-03T00:00:00.000000000',\n",
              "       '2020-10-04T00:00:00.000000000', '2020-10-07T00:00:00.000000000',\n",
              "       '2020-10-08T00:00:00.000000000', '2020-10-10T00:00:00.000000000',\n",
              "       '2020-10-11T00:00:00.000000000', '2020-10-13T00:00:00.000000000',\n",
              "       '2020-10-14T00:00:00.000000000', '2020-10-15T00:00:00.000000000',\n",
              "       '2020-10-16T00:00:00.000000000', '2020-10-17T00:00:00.000000000',\n",
              "       '2020-10-18T00:00:00.000000000', '2020-10-19T00:00:00.000000000',\n",
              "       '2020-10-21T00:00:00.000000000', '2020-10-24T00:00:00.000000000',\n",
              "       '2020-10-25T00:00:00.000000000', '2020-10-31T00:00:00.000000000',\n",
              "       '2020-11-01T00:00:00.000000000', '2020-11-02T00:00:00.000000000',\n",
              "       '2020-11-07T00:00:00.000000000', '2020-11-08T00:00:00.000000000',\n",
              "       '2020-11-11T00:00:00.000000000', '2020-11-14T00:00:00.000000000',\n",
              "       '2020-11-16T00:00:00.000000000', '2020-11-18T00:00:00.000000000',\n",
              "       '2020-11-19T00:00:00.000000000', '2020-11-20T00:00:00.000000000',\n",
              "       '2020-11-21T00:00:00.000000000', '2020-11-22T00:00:00.000000000',\n",
              "       '2020-11-23T00:00:00.000000000', '2020-11-25T00:00:00.000000000',\n",
              "       '2020-11-26T00:00:00.000000000', '2020-11-28T00:00:00.000000000',\n",
              "       '2020-11-30T00:00:00.000000000', '2020-12-02T00:00:00.000000000',\n",
              "       '2020-12-03T00:00:00.000000000', '2020-12-05T00:00:00.000000000',\n",
              "       '2020-12-06T00:00:00.000000000', '2020-12-07T00:00:00.000000000',\n",
              "       '2020-12-09T00:00:00.000000000', '2020-12-12T00:00:00.000000000',\n",
              "       '2020-12-13T00:00:00.000000000', '2020-12-16T00:00:00.000000000',\n",
              "       '2020-12-19T00:00:00.000000000', '2020-12-20T00:00:00.000000000',\n",
              "       '2020-12-21T00:00:00.000000000', '2020-12-26T00:00:00.000000000',\n",
              "       '2020-12-27T00:00:00.000000000', '2021-01-06T00:00:00.000000000',\n",
              "       '2021-01-07T00:00:00.000000000', '2021-01-09T00:00:00.000000000',\n",
              "       '2021-01-10T00:00:00.000000000', '2021-01-11T00:00:00.000000000',\n",
              "       '2021-01-13T00:00:00.000000000', '2021-01-15T00:00:00.000000000',\n",
              "       '2021-01-16T00:00:00.000000000', '2021-01-17T00:00:00.000000000',\n",
              "       '2021-01-18T00:00:00.000000000', '2021-01-20T00:00:00.000000000',\n",
              "       '2021-01-21T00:00:00.000000000', '2021-01-23T00:00:00.000000000',\n",
              "       '2021-01-24T00:00:00.000000000', '2021-01-25T00:00:00.000000000',\n",
              "       '2021-01-26T00:00:00.000000000', '2021-01-28T00:00:00.000000000',\n",
              "       '2021-01-31T00:00:00.000000000', '2021-02-01T00:00:00.000000000',\n",
              "       '2021-02-02T00:00:00.000000000', '2021-02-03T00:00:00.000000000',\n",
              "       '2021-02-04T00:00:00.000000000', '2021-02-05T00:00:00.000000000',\n",
              "       '2021-02-06T00:00:00.000000000', '2021-02-07T00:00:00.000000000',\n",
              "       '2021-02-08T00:00:00.000000000', '2021-02-10T00:00:00.000000000',\n",
              "       '2021-02-13T00:00:00.000000000', '2021-02-14T00:00:00.000000000',\n",
              "       '2021-02-15T00:00:00.000000000', '2021-02-17T00:00:00.000000000',\n",
              "       '2021-02-19T00:00:00.000000000', '2021-02-20T00:00:00.000000000',\n",
              "       '2021-02-21T00:00:00.000000000', '2021-02-22T00:00:00.000000000',\n",
              "       '2021-02-25T00:00:00.000000000'], dtype='datetime64[ns]')"
            ]
          },
          "execution_count": 136,
          "metadata": {},
          "output_type": "execute_result"
        }
      ],
      "source": [
        "#Validando alteração anterior\n",
        "df[(df[\"temporada\"]==2020)].data.unique()\n"
      ]
    },
    {
      "cell_type": "code",
      "execution_count": 137,
      "metadata": {},
      "outputs": [],
      "source": [
        "df.drop(columns=['data'],inplace=True)"
      ]
    },
    {
      "cell_type": "code",
      "execution_count": 138,
      "metadata": {
        "colab": {
          "base_uri": "https://localhost:8080/",
          "height": 288
        },
        "id": "eG2ZIFIzcL4x",
        "outputId": "f1e207e9-969a-46ef-b034-15556c7bed9b"
      },
      "outputs": [
        {
          "data": {
            "text/html": [
              "<div>\n",
              "<style scoped>\n",
              "    .dataframe tbody tr th:only-of-type {\n",
              "        vertical-align: middle;\n",
              "    }\n",
              "\n",
              "    .dataframe tbody tr th {\n",
              "        vertical-align: top;\n",
              "    }\n",
              "\n",
              "    .dataframe thead th {\n",
              "        text-align: right;\n",
              "    }\n",
              "</style>\n",
              "<table border=\"1\" class=\"dataframe\">\n",
              "  <thead>\n",
              "    <tr style=\"text-align: right;\">\n",
              "      <th></th>\n",
              "      <th>partida_id</th>\n",
              "      <th>rodada_x</th>\n",
              "      <th>clube</th>\n",
              "      <th>chutes</th>\n",
              "      <th>chutes_no_alvo</th>\n",
              "      <th>posse_de_bola</th>\n",
              "      <th>passes</th>\n",
              "      <th>precisao_passes</th>\n",
              "      <th>faltas</th>\n",
              "      <th>cartao_amarelo</th>\n",
              "      <th>cartao_vermelho</th>\n",
              "      <th>impedimentos</th>\n",
              "      <th>escanteios</th>\n",
              "      <th>mandante</th>\n",
              "      <th>visitante</th>\n",
              "      <th>formacao_mandante</th>\n",
              "      <th>formacao_visitante</th>\n",
              "      <th>vencedor</th>\n",
              "      <th>mandante_Placar</th>\n",
              "      <th>visitante_Placar</th>\n",
              "      <th>temporada</th>\n",
              "    </tr>\n",
              "  </thead>\n",
              "  <tbody>\n",
              "    <tr>\n",
              "      <th>16045</th>\n",
              "      <td>8023</td>\n",
              "      <td>38</td>\n",
              "      <td>Atletico-MG</td>\n",
              "      <td>17</td>\n",
              "      <td>7</td>\n",
              "      <td>41%</td>\n",
              "      <td>351</td>\n",
              "      <td>82%</td>\n",
              "      <td>19</td>\n",
              "      <td>6</td>\n",
              "      <td>0</td>\n",
              "      <td>0</td>\n",
              "      <td>4</td>\n",
              "      <td>Corinthians</td>\n",
              "      <td>Atletico-MG</td>\n",
              "      <td>4-1-4-1</td>\n",
              "      <td>4-2-3-1</td>\n",
              "      <td>Atletico-MG</td>\n",
              "      <td>0</td>\n",
              "      <td>1</td>\n",
              "      <td>2022</td>\n",
              "    </tr>\n",
              "    <tr>\n",
              "      <th>16046</th>\n",
              "      <td>8024</td>\n",
              "      <td>38</td>\n",
              "      <td>Internacional</td>\n",
              "      <td>15</td>\n",
              "      <td>8</td>\n",
              "      <td>48%</td>\n",
              "      <td>287</td>\n",
              "      <td>77%</td>\n",
              "      <td>13</td>\n",
              "      <td>2</td>\n",
              "      <td>0</td>\n",
              "      <td>1</td>\n",
              "      <td>6</td>\n",
              "      <td>Internacional</td>\n",
              "      <td>Palmeiras</td>\n",
              "      <td>4-2-3-1</td>\n",
              "      <td>4-2-3-1</td>\n",
              "      <td>Internacional</td>\n",
              "      <td>3</td>\n",
              "      <td>0</td>\n",
              "      <td>2022</td>\n",
              "    </tr>\n",
              "    <tr>\n",
              "      <th>16047</th>\n",
              "      <td>8024</td>\n",
              "      <td>38</td>\n",
              "      <td>Palmeiras</td>\n",
              "      <td>11</td>\n",
              "      <td>2</td>\n",
              "      <td>52%</td>\n",
              "      <td>306</td>\n",
              "      <td>82%</td>\n",
              "      <td>17</td>\n",
              "      <td>3</td>\n",
              "      <td>0</td>\n",
              "      <td>2</td>\n",
              "      <td>5</td>\n",
              "      <td>Internacional</td>\n",
              "      <td>Palmeiras</td>\n",
              "      <td>4-2-3-1</td>\n",
              "      <td>4-2-3-1</td>\n",
              "      <td>Internacional</td>\n",
              "      <td>3</td>\n",
              "      <td>0</td>\n",
              "      <td>2022</td>\n",
              "    </tr>\n",
              "    <tr>\n",
              "      <th>16048</th>\n",
              "      <td>8025</td>\n",
              "      <td>38</td>\n",
              "      <td>Goias</td>\n",
              "      <td>6</td>\n",
              "      <td>2</td>\n",
              "      <td>35%</td>\n",
              "      <td>330</td>\n",
              "      <td>80%</td>\n",
              "      <td>12</td>\n",
              "      <td>2</td>\n",
              "      <td>0</td>\n",
              "      <td>1</td>\n",
              "      <td>3</td>\n",
              "      <td>Goias</td>\n",
              "      <td>Sao Paulo</td>\n",
              "      <td>4-2-3-1</td>\n",
              "      <td>4-1-2-1-2</td>\n",
              "      <td>Sao Paulo</td>\n",
              "      <td>0</td>\n",
              "      <td>4</td>\n",
              "      <td>2022</td>\n",
              "    </tr>\n",
              "    <tr>\n",
              "      <th>16049</th>\n",
              "      <td>8025</td>\n",
              "      <td>38</td>\n",
              "      <td>Sao Paulo</td>\n",
              "      <td>13</td>\n",
              "      <td>7</td>\n",
              "      <td>65%</td>\n",
              "      <td>591</td>\n",
              "      <td>90%</td>\n",
              "      <td>14</td>\n",
              "      <td>1</td>\n",
              "      <td>0</td>\n",
              "      <td>0</td>\n",
              "      <td>4</td>\n",
              "      <td>Goias</td>\n",
              "      <td>Sao Paulo</td>\n",
              "      <td>4-2-3-1</td>\n",
              "      <td>4-1-2-1-2</td>\n",
              "      <td>Sao Paulo</td>\n",
              "      <td>0</td>\n",
              "      <td>4</td>\n",
              "      <td>2022</td>\n",
              "    </tr>\n",
              "  </tbody>\n",
              "</table>\n",
              "</div>"
            ],
            "text/plain": [
              "      partida_id rodada_x          clube chutes chutes_no_alvo posse_de_bola passes precisao_passes faltas cartao_amarelo cartao_vermelho impedimentos escanteios       mandante    visitante formacao_mandante formacao_visitante       vencedor  mandante_Placar  visitante_Placar  temporada\n",
              "16045       8023       38    Atletico-MG     17              7           41%    351             82%     19              6               0            0          4    Corinthians  Atletico-MG           4-1-4-1            4-2-3-1    Atletico-MG                0                 1       2022\n",
              "16046       8024       38  Internacional     15              8           48%    287             77%     13              2               0            1          6  Internacional    Palmeiras           4-2-3-1            4-2-3-1  Internacional                3                 0       2022\n",
              "16047       8024       38      Palmeiras     11              2           52%    306             82%     17              3               0            2          5  Internacional    Palmeiras           4-2-3-1            4-2-3-1  Internacional                3                 0       2022\n",
              "16048       8025       38          Goias      6              2           35%    330             80%     12              2               0            1          3          Goias    Sao Paulo           4-2-3-1          4-1-2-1-2      Sao Paulo                0                 4       2022\n",
              "16049       8025       38      Sao Paulo     13              7           65%    591             90%     14              1               0            0          4          Goias    Sao Paulo           4-2-3-1          4-1-2-1-2      Sao Paulo                0                 4       2022"
            ]
          },
          "execution_count": 138,
          "metadata": {},
          "output_type": "execute_result"
        }
      ],
      "source": [
        "df.tail()"
      ]
    },
    {
      "cell_type": "code",
      "execution_count": 139,
      "metadata": {
        "colab": {
          "base_uri": "https://localhost:8080/"
        },
        "id": "qmG-MfYfeNku",
        "outputId": "49d10580-3e27-4a2c-cfc6-bed0284eb08b"
      },
      "outputs": [
        {
          "data": {
            "text/plain": [
              "array(['Guarani', 'Athletico-PR', '-', 'Criciuma', 'Atletico-MG',\n",
              "       'Internacional', 'Gremio', 'Flamengo', 'Vitoria', 'Ponte Preta',\n",
              "       'Parana', 'Sao Caetano', 'Cruzeiro', 'Vasco', 'Paysandu', 'Santos',\n",
              "       'Corinthians', 'Juventude', 'Bahia', 'Fluminense', 'Sao Paulo',\n",
              "       'Fortaleza', 'Coritiba', 'Goias', 'Figueirense', 'Palmeiras',\n",
              "       'Botafogo-RJ', 'Brasiliense', 'Santa Cruz', 'Sport', 'America-RN',\n",
              "       'Nautico', 'Ipatinga', 'Portuguesa', 'Santo Andre', 'Barueri',\n",
              "       'Avai', 'Ceara', 'Gremio Prudente', 'Atletico-GO', 'America-MG',\n",
              "       'Chapecoense', 'Joinville', 'CSA', 'Bragantino', 'Cuiaba'],\n",
              "      dtype=object)"
            ]
          },
          "execution_count": 139,
          "metadata": {},
          "output_type": "execute_result"
        }
      ],
      "source": [
        "df.vencedor.unique()"
      ]
    },
    {
      "cell_type": "code",
      "execution_count": 140,
      "metadata": {
        "id": "tP_QWgiTdffx"
      },
      "outputs": [],
      "source": [
        "df.loc[(df['vencedor']==df['clube']),'vencedor'] = 'V'\n",
        "df.loc[(df['vencedor']=='-'),'vencedor'] = 'E'\n",
        "df.loc[(df['vencedor']!='V') & (df['vencedor']!='E'),'vencedor'] = 'D'\n",
        "df.rename(columns={\"vencedor\":\"resultado\"},inplace=True)"
      ]
    },
    {
      "cell_type": "code",
      "execution_count": 141,
      "metadata": {
        "id": "BhwE3E8wfExy"
      },
      "outputs": [],
      "source": [
        "df.loc[(df['clube'] == df['mandante']),'mv'] = 'm'\n",
        "df.loc[(df['clube'] == df['visitante']),'mv'] = 'v'\n",
        "df.drop(columns=['mandante','visitante'],inplace=True)"
      ]
    },
    {
      "cell_type": "code",
      "execution_count": 142,
      "metadata": {
        "id": "gPehVprCmjXO"
      },
      "outputs": [],
      "source": [
        "#Cria coluna de gols, e remove as colunas de mandante_placar e visitante_placar\n",
        "df['gols'] = df.apply(lambda x: x['mandante_Placar'] if x['mv'] == 'm' else x['visitante_Placar'],axis=1)\n",
        "df.drop(columns=['mandante_Placar','visitante_Placar'],inplace=True)"
      ]
    },
    {
      "cell_type": "code",
      "execution_count": 143,
      "metadata": {
        "colab": {
          "base_uri": "https://localhost:8080/",
          "height": 270
        },
        "id": "QmuJ6VOLhgvF",
        "outputId": "43addf84-fad0-4fe8-af57-3ee107029892"
      },
      "outputs": [
        {
          "data": {
            "text/html": [
              "<div>\n",
              "<style scoped>\n",
              "    .dataframe tbody tr th:only-of-type {\n",
              "        vertical-align: middle;\n",
              "    }\n",
              "\n",
              "    .dataframe tbody tr th {\n",
              "        vertical-align: top;\n",
              "    }\n",
              "\n",
              "    .dataframe thead th {\n",
              "        text-align: right;\n",
              "    }\n",
              "</style>\n",
              "<table border=\"1\" class=\"dataframe\">\n",
              "  <thead>\n",
              "    <tr style=\"text-align: right;\">\n",
              "      <th></th>\n",
              "      <th>partida_id</th>\n",
              "      <th>rodada_x</th>\n",
              "      <th>clube</th>\n",
              "      <th>chutes</th>\n",
              "      <th>chutes_no_alvo</th>\n",
              "      <th>posse_de_bola</th>\n",
              "      <th>passes</th>\n",
              "      <th>precisao_passes</th>\n",
              "      <th>faltas</th>\n",
              "      <th>cartao_amarelo</th>\n",
              "      <th>cartao_vermelho</th>\n",
              "      <th>impedimentos</th>\n",
              "      <th>escanteios</th>\n",
              "      <th>formacao_mandante</th>\n",
              "      <th>formacao_visitante</th>\n",
              "      <th>resultado</th>\n",
              "      <th>temporada</th>\n",
              "      <th>mv</th>\n",
              "      <th>gols</th>\n",
              "    </tr>\n",
              "  </thead>\n",
              "  <tbody>\n",
              "    <tr>\n",
              "      <th>16045</th>\n",
              "      <td>8023</td>\n",
              "      <td>38</td>\n",
              "      <td>Atletico-MG</td>\n",
              "      <td>17</td>\n",
              "      <td>7</td>\n",
              "      <td>41%</td>\n",
              "      <td>351</td>\n",
              "      <td>82%</td>\n",
              "      <td>19</td>\n",
              "      <td>6</td>\n",
              "      <td>0</td>\n",
              "      <td>0</td>\n",
              "      <td>4</td>\n",
              "      <td>4-1-4-1</td>\n",
              "      <td>4-2-3-1</td>\n",
              "      <td>V</td>\n",
              "      <td>2022</td>\n",
              "      <td>v</td>\n",
              "      <td>1</td>\n",
              "    </tr>\n",
              "    <tr>\n",
              "      <th>16046</th>\n",
              "      <td>8024</td>\n",
              "      <td>38</td>\n",
              "      <td>Internacional</td>\n",
              "      <td>15</td>\n",
              "      <td>8</td>\n",
              "      <td>48%</td>\n",
              "      <td>287</td>\n",
              "      <td>77%</td>\n",
              "      <td>13</td>\n",
              "      <td>2</td>\n",
              "      <td>0</td>\n",
              "      <td>1</td>\n",
              "      <td>6</td>\n",
              "      <td>4-2-3-1</td>\n",
              "      <td>4-2-3-1</td>\n",
              "      <td>V</td>\n",
              "      <td>2022</td>\n",
              "      <td>m</td>\n",
              "      <td>3</td>\n",
              "    </tr>\n",
              "    <tr>\n",
              "      <th>16047</th>\n",
              "      <td>8024</td>\n",
              "      <td>38</td>\n",
              "      <td>Palmeiras</td>\n",
              "      <td>11</td>\n",
              "      <td>2</td>\n",
              "      <td>52%</td>\n",
              "      <td>306</td>\n",
              "      <td>82%</td>\n",
              "      <td>17</td>\n",
              "      <td>3</td>\n",
              "      <td>0</td>\n",
              "      <td>2</td>\n",
              "      <td>5</td>\n",
              "      <td>4-2-3-1</td>\n",
              "      <td>4-2-3-1</td>\n",
              "      <td>D</td>\n",
              "      <td>2022</td>\n",
              "      <td>v</td>\n",
              "      <td>0</td>\n",
              "    </tr>\n",
              "    <tr>\n",
              "      <th>16048</th>\n",
              "      <td>8025</td>\n",
              "      <td>38</td>\n",
              "      <td>Goias</td>\n",
              "      <td>6</td>\n",
              "      <td>2</td>\n",
              "      <td>35%</td>\n",
              "      <td>330</td>\n",
              "      <td>80%</td>\n",
              "      <td>12</td>\n",
              "      <td>2</td>\n",
              "      <td>0</td>\n",
              "      <td>1</td>\n",
              "      <td>3</td>\n",
              "      <td>4-2-3-1</td>\n",
              "      <td>4-1-2-1-2</td>\n",
              "      <td>D</td>\n",
              "      <td>2022</td>\n",
              "      <td>m</td>\n",
              "      <td>0</td>\n",
              "    </tr>\n",
              "    <tr>\n",
              "      <th>16049</th>\n",
              "      <td>8025</td>\n",
              "      <td>38</td>\n",
              "      <td>Sao Paulo</td>\n",
              "      <td>13</td>\n",
              "      <td>7</td>\n",
              "      <td>65%</td>\n",
              "      <td>591</td>\n",
              "      <td>90%</td>\n",
              "      <td>14</td>\n",
              "      <td>1</td>\n",
              "      <td>0</td>\n",
              "      <td>0</td>\n",
              "      <td>4</td>\n",
              "      <td>4-2-3-1</td>\n",
              "      <td>4-1-2-1-2</td>\n",
              "      <td>V</td>\n",
              "      <td>2022</td>\n",
              "      <td>v</td>\n",
              "      <td>4</td>\n",
              "    </tr>\n",
              "  </tbody>\n",
              "</table>\n",
              "</div>"
            ],
            "text/plain": [
              "      partida_id rodada_x          clube chutes chutes_no_alvo posse_de_bola passes precisao_passes faltas cartao_amarelo cartao_vermelho impedimentos escanteios formacao_mandante formacao_visitante resultado  temporada mv  gols\n",
              "16045       8023       38    Atletico-MG     17              7           41%    351             82%     19              6               0            0          4           4-1-4-1            4-2-3-1         V       2022  v     1\n",
              "16046       8024       38  Internacional     15              8           48%    287             77%     13              2               0            1          6           4-2-3-1            4-2-3-1         V       2022  m     3\n",
              "16047       8024       38      Palmeiras     11              2           52%    306             82%     17              3               0            2          5           4-2-3-1            4-2-3-1         D       2022  v     0\n",
              "16048       8025       38          Goias      6              2           35%    330             80%     12              2               0            1          3           4-2-3-1          4-1-2-1-2         D       2022  m     0\n",
              "16049       8025       38      Sao Paulo     13              7           65%    591             90%     14              1               0            0          4           4-2-3-1          4-1-2-1-2         V       2022  v     4"
            ]
          },
          "execution_count": 143,
          "metadata": {},
          "output_type": "execute_result"
        }
      ],
      "source": [
        "df.tail()"
      ]
    },
    {
      "cell_type": "code",
      "execution_count": 155,
      "metadata": {},
      "outputs": [
        {
          "data": {
            "text/plain": [
              "partida_id            0\n",
              "rodada_x              0\n",
              "clube                 0\n",
              "chutes                0\n",
              "chutes_no_alvo        0\n",
              "posse_de_bola         0\n",
              "passes                0\n",
              "precisao_passes       0\n",
              "faltas                0\n",
              "cartao_amarelo        0\n",
              "cartao_vermelho       0\n",
              "impedimentos          0\n",
              "escanteios            0\n",
              "formacao_mandante     0\n",
              "formacao_visitante    0\n",
              "resultado             0\n",
              "temporada             0\n",
              "mv                    0\n",
              "gols                  0\n",
              "dtype: int64"
            ]
          },
          "execution_count": 155,
          "metadata": {},
          "output_type": "execute_result"
        }
      ],
      "source": [
        "#Faço um filtro de temporada de analise, apartir de 2018 os dados são completos\n",
        "df[(df[\"temporada\"]>=2018)].isna().sum()"
      ]
    },
    {
      "cell_type": "code",
      "execution_count": null,
      "metadata": {},
      "outputs": [],
      "source": []
    },
    {
      "cell_type": "code",
      "execution_count": null,
      "metadata": {
        "id": "HwQk5DucNtlW"
      },
      "outputs": [],
      "source": [
        "manda = df_2020_2022.loc[(df_2020_2022['mandate_']==1)]\n",
        "visit = df_2020_2022.loc[(df_2020_2022['visitante_']==1)]\n"
      ]
    },
    {
      "cell_type": "code",
      "execution_count": null,
      "metadata": {
        "id": "XAH3J0P18-2O"
      },
      "outputs": [],
      "source": [
        "empate_m = len(manda[manda.resultado==3])\n",
        "vitoria_m = len(manda[manda.resultado==1])\n",
        "derrota_m = len(manda[manda.resultado==2])\n",
        "val_m = [vitoria_m,empate_m,derrota_m]"
      ]
    },
    {
      "cell_type": "code",
      "execution_count": null,
      "metadata": {
        "id": "wgNsLheN8-2O"
      },
      "outputs": [],
      "source": [
        "empate_v = len(visit[visit.resultado==3])\n",
        "vitoria_v = len(visit[visit.resultado==1])\n",
        "derrota_v = len(visit[visit.resultado==2])\n",
        "val_v = [vitoria_v,empate_v,derrota_v]"
      ]
    },
    {
      "cell_type": "code",
      "execution_count": null,
      "metadata": {
        "id": "Ve_Zqcad8-2Q"
      },
      "outputs": [],
      "source": [
        "x = np.arange(3)\n",
        "plt.title(\"Resultados dos Mandantes\")\n",
        "plt.bar(x, val_m)\n",
        "plt.xticks(x, ('Vitoria', 'Empate', 'Derrota'))\n",
        "plt.show()"
      ]
    },
    {
      "cell_type": "code",
      "execution_count": null,
      "metadata": {
        "id": "ap33jzyx8-2Q"
      },
      "outputs": [],
      "source": [
        "x = np.arange(3)\n",
        "plt.title(\"Resultados dos Visitante\")\n",
        "plt.bar(x, val_v)\n",
        "plt.xticks(x, ('Vitoria', 'Empate', 'Derrota'))\n",
        "plt.show()"
      ]
    },
    {
      "cell_type": "code",
      "execution_count": null,
      "metadata": {
        "id": "J4zkzAr58-2R"
      },
      "outputs": [],
      "source": [
        "print(\"Media de Passes de um Time Mandante Vitorioso : \" , manda[manda.resultado==1].passes.mean())\n",
        "print(\"Média de Passes  de um Time Mandante Derrotado: \" , manda[manda.resultado==2].passes.mean())\n",
        "print(\"Média de Passes  de um Time Mandante EMPATE: \" , manda[manda.resultado==3].passes.mean())\n",
        "print()\n",
        "print(\"#################\")\n",
        "print()\n",
        "print(\"Media de Passes  de um Time Visitante Vitorioso: \",visit[visit.resultado==1].passes.mean())\n",
        "print(\"Média de Passes  de um Time Visitante Derrotado: \" , visit[visit.resultado==2].passes.mean())\n",
        "print(\"Média de Passes  de um Time Visitante EMPATE: \" , visit[visit.resultado==3].passes.mean())"
      ]
    },
    {
      "cell_type": "code",
      "execution_count": null,
      "metadata": {
        "id": "g8vWuw4e8-2S"
      },
      "outputs": [],
      "source": [
        "print(\"Media de chutes de um Time Mandante Vitorioso : \" , manda[manda.resultado==1].chutes.mean())\n",
        "print(\"Média de chutes de um Time Mandante Derrotado: \" , manda[manda.resultado==2].chutes.mean())\n",
        "print(\"Média de chutes de um Time Mandante EMPATE: \" , manda[manda.resultado==3].chutes.mean())\n",
        "print()\n",
        "print(\"#################\")\n",
        "print()\n",
        "print(\"Media de chutes de um Time Visitante Vitorioso: \",visit[visit.resultado==1].chutes.mean())\n",
        "print(\"Média de chutes de um Time Visitante Derrotado: \" , visit[visit.resultado==2].chutes.mean())\n",
        "print(\"Média de chutes de um Time Visitante EMPATE: \" , visit[visit.resultado==3].chutes.mean())"
      ]
    },
    {
      "cell_type": "code",
      "execution_count": null,
      "metadata": {
        "id": "a9ZhoWau8-2S"
      },
      "outputs": [],
      "source": [
        "manda"
      ]
    }
  ],
  "metadata": {
    "colab": {
      "include_colab_link": true,
      "provenance": []
    },
    "gpuClass": "standard",
    "kernelspec": {
      "display_name": "Python 3",
      "name": "python3"
    },
    "language_info": {
      "codemirror_mode": {
        "name": "ipython",
        "version": 3
      },
      "file_extension": ".py",
      "mimetype": "text/x-python",
      "name": "python",
      "nbconvert_exporter": "python",
      "pygments_lexer": "ipython3",
      "version": "3.10.10"
    },
    "orig_nbformat": 4
  },
  "nbformat": 4,
  "nbformat_minor": 0
}
