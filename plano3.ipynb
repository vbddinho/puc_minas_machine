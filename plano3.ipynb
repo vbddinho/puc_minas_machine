{
  "cells": [
    {
      "cell_type": "markdown",
      "metadata": {
        "colab_type": "text",
        "id": "view-in-github"
      },
      "source": [
        "<a href=\"https://colab.research.google.com/github/vbddinho/puc_minas_machine/blob/main/plano3.ipynb\" target=\"_parent\"><img src=\"https://colab.research.google.com/assets/colab-badge.svg\" alt=\"Open In Colab\"/></a>"
      ]
    },
    {
      "cell_type": "code",
      "execution_count": null,
      "metadata": {
        "id": "zptGYXbqCjbT"
      },
      "outputs": [],
      "source": [
        "import pandas as pd \n",
        "import numpy as np \n",
        "import matplotlib.pyplot as plt\n",
        "import seaborn as sns"
      ]
    },
    {
      "cell_type": "code",
      "execution_count": null,
      "metadata": {
        "id": "jKF99ieIC_zx"
      },
      "outputs": [],
      "source": [
        "df_estatisticas = pd.read_csv('dados/campeonato-brasileiro-estatisticas-full.csv', sep=',',encoding = \"UTF-8\")\n",
        "df_jogos = pd.read_csv('dados/campeonato-brasileiro-full.csv', sep=',',encoding = \"UTF-8\")\n",
        "\n"
      ]
    },
    {
      "cell_type": "code",
      "execution_count": null,
      "metadata": {
        "colab": {
          "base_uri": "https://localhost:8080/"
        },
        "id": "09B27gcFDVuz",
        "outputId": "ea2448fe-b9d9-4831-f271-ab62acf66b75"
      },
      "outputs": [],
      "source": [
        "df_jogos.info() "
      ]
    },
    {
      "cell_type": "code",
      "execution_count": null,
      "metadata": {
        "colab": {
          "base_uri": "https://localhost:8080/"
        },
        "id": "UOkNoU_nENc9",
        "outputId": "a1cedaa4-9e88-4df4-ba5a-47b6f3ae4145"
      },
      "outputs": [],
      "source": [
        "df_estatisticas.info()"
      ]
    },
    {
      "cell_type": "code",
      "execution_count": null,
      "metadata": {
        "id": "kPgQyAkTDL-z"
      },
      "outputs": [],
      "source": [
        "#innerjoin = pd.merge(df,df_estatisticas,right_on='partida_id' ,left_on='ID',how='inner')\n",
        "#innerjoin[(innerjoin['ID'] == 8017)]"
      ]
    },
    {
      "cell_type": "code",
      "execution_count": null,
      "metadata": {
        "id": "2yiRpkV8WV3W"
      },
      "outputs": [],
      "source": [
        "dfT = df_jogos[['ID','vencedor','data']]"
      ]
    },
    {
      "cell_type": "code",
      "execution_count": null,
      "metadata": {
        "id": "AMIuz5rsD6Ae"
      },
      "outputs": [],
      "source": [
        "innerjoin = pd.merge(df_estatisticas,df_jogos,how='inner', left_on='partida_id',right_on='ID' )"
      ]
    },
    {
      "cell_type": "code",
      "execution_count": null,
      "metadata": {
        "colab": {
          "base_uri": "https://localhost:8080/"
        },
        "id": "nLHA7jx7WmAU",
        "outputId": "b89c61b4-440e-4c7c-c7fe-1713028141ec"
      },
      "outputs": [],
      "source": [
        "innerjoin.isna().sum()"
      ]
    },
    {
      "cell_type": "code",
      "execution_count": null,
      "metadata": {
        "colab": {
          "base_uri": "https://localhost:8080/"
        },
        "id": "Zw1tumHSXk51",
        "outputId": "3bcd8e03-5557-4431-9245-2cbbcc77327b"
      },
      "outputs": [],
      "source": [
        "innerjoin.shape"
      ]
    },
    {
      "cell_type": "code",
      "execution_count": null,
      "metadata": {
        "colab": {
          "base_uri": "https://localhost:8080/"
        },
        "id": "cyt0lj33CRnx",
        "outputId": "4bbffecf-8268-4e79-8710-57243787ac6b"
      },
      "outputs": [],
      "source": [
        "#Converte a data do tipo objeto para o tipo datetime e cria a coluna ano\n",
        "innerjoin[\"data\"] = pd.to_datetime(innerjoin[\"data\"],format='%d/%m/%Y',dayfirst=True)\n",
        "df_2020_2022 = innerjoin\n",
        "df_2020_2022[\"ano\"] = df_2020_2022[\"data\"].dt.year\n",
        "\n",
        "# Analise será feita do ano de 2007 até 2022\n",
        "df_2020_2022 = df_2020_2022[(df_2020_2022[\"ano\"]>=2020)]\n",
        "df_2020_2022\n",
        "\n",
        "#indexa dataFrame\n",
        "df_2020_2022.set_index('data')\n",
        "df_2020_2022.shape"
      ]
    },
    {
      "cell_type": "code",
      "execution_count": null,
      "metadata": {
        "colab": {
          "base_uri": "https://localhost:8080/"
        },
        "id": "F_3aVkOCCpS0",
        "outputId": "8d134dc8-d407-4888-e925-c01707046f23"
      },
      "outputs": [],
      "source": [
        "df_2020_2022.info()"
      ]
    },
    {
      "cell_type": "code",
      "execution_count": null,
      "metadata": {
        "colab": {
          "base_uri": "https://localhost:8080/"
        },
        "id": "jkbaEIeKCwQl",
        "outputId": "547d3dd4-314e-4043-8931-38badd8d5e60"
      },
      "outputs": [],
      "source": [
        "df_2020_2022[\"temporada\"] = df_2020_2022[\"ano\"]\n",
        "df_2020_2022.loc[(df_2020_2022[\"data\"]>=\"2020/08/08\") & (df_2020_2022[\"data\"]<=\"2021/02/25\"),\"temporada\" ] = 2020\n",
        "df_2020_2022.loc[(df_2020_2022[\"data\"]>=\"2021/05/29\") & (df_2020_2022[\"data\"]<=\"2021/12/09\"),\"temporada\" ] = 2021"
      ]
    },
    {
      "cell_type": "code",
      "execution_count": null,
      "metadata": {
        "colab": {
          "base_uri": "https://localhost:8080/",
          "height": 424
        },
        "id": "4o2XgzcrDYVr",
        "outputId": "4fedd82c-024b-4dee-d0bd-fd152682aa83"
      },
      "outputs": [],
      "source": [
        "df_2020_2022[['partida_id','clube','data','mandante','visitante','vencedor','temporada','passes']]"
      ]
    },
    {
      "cell_type": "code",
      "execution_count": 21,
      "metadata": {
        "colab": {
          "base_uri": "https://localhost:8080/",
          "height": 736
        },
        "id": "OPoWKIHRONb3",
        "outputId": "d9f40540-6302-415f-eff7-40ce8792d4c3"
      },
      "outputs": [
        {
          "name": "stderr",
          "output_type": "stream",
          "text": [
            "C:\\Users\\vande\\AppData\\Local\\Temp\\ipykernel_11372\\735744268.py:14: SettingWithCopyWarning: \n",
            "A value is trying to be set on a copy of a slice from a DataFrame.\n",
            "Try using .loc[row_indexer,col_indexer] = value instead\n",
            "\n",
            "See the caveats in the documentation: https://pandas.pydata.org/pandas-docs/stable/user_guide/indexing.html#returning-a-view-versus-a-copy\n",
            "  df_2020_2022.loc[(df_2020_2022['clube'] == df_2020_2022['vencedor']),'vencedor_'] = 1\n",
            "C:\\Users\\vande\\AppData\\Local\\Temp\\ipykernel_11372\\735744268.py:15: SettingWithCopyWarning: \n",
            "A value is trying to be set on a copy of a slice from a DataFrame\n",
            "\n",
            "See the caveats in the documentation: https://pandas.pydata.org/pandas-docs/stable/user_guide/indexing.html#returning-a-view-versus-a-copy\n",
            "  df_2020_2022['mandate_'].fillna(value=0.0, inplace=True)\n",
            "C:\\Users\\vande\\AppData\\Local\\Temp\\ipykernel_11372\\735744268.py:16: SettingWithCopyWarning: \n",
            "A value is trying to be set on a copy of a slice from a DataFrame\n",
            "\n",
            "See the caveats in the documentation: https://pandas.pydata.org/pandas-docs/stable/user_guide/indexing.html#returning-a-view-versus-a-copy\n",
            "  df_2020_2022['visitante_'].fillna(value=0.0, inplace=True)\n",
            "C:\\Users\\vande\\AppData\\Local\\Temp\\ipykernel_11372\\735744268.py:17: SettingWithCopyWarning: \n",
            "A value is trying to be set on a copy of a slice from a DataFrame\n",
            "\n",
            "See the caveats in the documentation: https://pandas.pydata.org/pandas-docs/stable/user_guide/indexing.html#returning-a-view-versus-a-copy\n",
            "  df_2020_2022['vencedor_'].fillna(value=0.0, inplace=True)\n"
          ]
        }
      ],
      "source": [
        "#df_2020_2022.loc[(df_2020_2022['mandante']==df_2020_2022['clube']),'mandante_']=0\n",
        "def SetMandanteVisitante(clube,mandante):\n",
        "  if (clube == mandante):\n",
        "    return 1\n",
        "  else:\n",
        "    return 0\n",
        "\n",
        "#mandante_ = df_2020_2022.apply(lambda x: 1 if x['clube']== x['mandante'] else 0 , axis=1 )\n",
        "#visitante_ = df_2020_2022.apply(lambda x: 1 if x['clube']== x['visitante'] else 0 , axis=1 )\n",
        "#vencedor_ = df_2020_2022.apply(lambda x: 1 if x['clube']== x['vencedor'] else 0 , axis=1 )\n",
        "\n",
        "df_2020_2022.loc[(df_2020_2022['clube'] == df_2020_2022['mandante']),'mandate_'] = 1\n",
        "df_2020_2022.loc[(df_2020_2022['clube'] == df_2020_2022['visitante']),'visitante_'] = 1\n",
        "df_2020_2022.loc[(df_2020_2022['clube'] == df_2020_2022['vencedor']),'vencedor_'] = 1\n",
        "df_2020_2022['mandate_'].fillna(value=0.0, inplace=True)\n",
        "df_2020_2022['visitante_'].fillna(value=0.0, inplace=True)\n",
        "df_2020_2022['vencedor_'].fillna(value=0.0, inplace=True)\n",
        "#df_2020_2022[['partida_id','clube','data','mandante','visitante','vencedor','mandante_','visitante_','vencedor_']]\n",
        "\n"
      ]
    },
    {
      "cell_type": "code",
      "execution_count": 23,
      "metadata": {},
      "outputs": [
        {
          "data": {
            "text/html": [
              "<div>\n",
              "<style scoped>\n",
              "    .dataframe tbody tr th:only-of-type {\n",
              "        vertical-align: middle;\n",
              "    }\n",
              "\n",
              "    .dataframe tbody tr th {\n",
              "        vertical-align: top;\n",
              "    }\n",
              "\n",
              "    .dataframe thead th {\n",
              "        text-align: right;\n",
              "    }\n",
              "</style>\n",
              "<table border=\"1\" class=\"dataframe\">\n",
              "  <thead>\n",
              "    <tr style=\"text-align: right;\">\n",
              "      <th></th>\n",
              "      <th>partida_id</th>\n",
              "      <th>clube</th>\n",
              "      <th>data</th>\n",
              "      <th>mandante</th>\n",
              "      <th>visitante</th>\n",
              "      <th>vencedor</th>\n",
              "      <th>mandate_</th>\n",
              "      <th>visitante_</th>\n",
              "      <th>vencedor_</th>\n",
              "    </tr>\n",
              "  </thead>\n",
              "  <tbody>\n",
              "    <tr>\n",
              "      <th>13770</th>\n",
              "      <td>6886</td>\n",
              "      <td>Fortaleza</td>\n",
              "      <td>2020-08-08</td>\n",
              "      <td>Fortaleza</td>\n",
              "      <td>Athletico-PR</td>\n",
              "      <td>Athletico-PR</td>\n",
              "      <td>1.0</td>\n",
              "      <td>0.0</td>\n",
              "      <td>0.0</td>\n",
              "    </tr>\n",
              "    <tr>\n",
              "      <th>13771</th>\n",
              "      <td>6886</td>\n",
              "      <td>Athletico-PR</td>\n",
              "      <td>2020-08-08</td>\n",
              "      <td>Fortaleza</td>\n",
              "      <td>Athletico-PR</td>\n",
              "      <td>Athletico-PR</td>\n",
              "      <td>0.0</td>\n",
              "      <td>1.0</td>\n",
              "      <td>1.0</td>\n",
              "    </tr>\n",
              "    <tr>\n",
              "      <th>13772</th>\n",
              "      <td>6887</td>\n",
              "      <td>Coritiba</td>\n",
              "      <td>2020-08-08</td>\n",
              "      <td>Coritiba</td>\n",
              "      <td>Internacional</td>\n",
              "      <td>Internacional</td>\n",
              "      <td>1.0</td>\n",
              "      <td>0.0</td>\n",
              "      <td>0.0</td>\n",
              "    </tr>\n",
              "    <tr>\n",
              "      <th>13773</th>\n",
              "      <td>6887</td>\n",
              "      <td>Internacional</td>\n",
              "      <td>2020-08-08</td>\n",
              "      <td>Coritiba</td>\n",
              "      <td>Internacional</td>\n",
              "      <td>Internacional</td>\n",
              "      <td>0.0</td>\n",
              "      <td>1.0</td>\n",
              "      <td>1.0</td>\n",
              "    </tr>\n",
              "    <tr>\n",
              "      <th>13774</th>\n",
              "      <td>6888</td>\n",
              "      <td>Sport</td>\n",
              "      <td>2020-08-08</td>\n",
              "      <td>Sport</td>\n",
              "      <td>Ceara</td>\n",
              "      <td>Sport</td>\n",
              "      <td>1.0</td>\n",
              "      <td>0.0</td>\n",
              "      <td>1.0</td>\n",
              "    </tr>\n",
              "    <tr>\n",
              "      <th>...</th>\n",
              "      <td>...</td>\n",
              "      <td>...</td>\n",
              "      <td>...</td>\n",
              "      <td>...</td>\n",
              "      <td>...</td>\n",
              "      <td>...</td>\n",
              "      <td>...</td>\n",
              "      <td>...</td>\n",
              "      <td>...</td>\n",
              "    </tr>\n",
              "    <tr>\n",
              "      <th>16045</th>\n",
              "      <td>8023</td>\n",
              "      <td>Atletico-MG</td>\n",
              "      <td>2022-11-13</td>\n",
              "      <td>Corinthians</td>\n",
              "      <td>Atletico-MG</td>\n",
              "      <td>Atletico-MG</td>\n",
              "      <td>0.0</td>\n",
              "      <td>1.0</td>\n",
              "      <td>1.0</td>\n",
              "    </tr>\n",
              "    <tr>\n",
              "      <th>16046</th>\n",
              "      <td>8024</td>\n",
              "      <td>Internacional</td>\n",
              "      <td>2022-11-13</td>\n",
              "      <td>Internacional</td>\n",
              "      <td>Palmeiras</td>\n",
              "      <td>Internacional</td>\n",
              "      <td>1.0</td>\n",
              "      <td>0.0</td>\n",
              "      <td>1.0</td>\n",
              "    </tr>\n",
              "    <tr>\n",
              "      <th>16047</th>\n",
              "      <td>8024</td>\n",
              "      <td>Palmeiras</td>\n",
              "      <td>2022-11-13</td>\n",
              "      <td>Internacional</td>\n",
              "      <td>Palmeiras</td>\n",
              "      <td>Internacional</td>\n",
              "      <td>0.0</td>\n",
              "      <td>1.0</td>\n",
              "      <td>0.0</td>\n",
              "    </tr>\n",
              "    <tr>\n",
              "      <th>16048</th>\n",
              "      <td>8025</td>\n",
              "      <td>Goias</td>\n",
              "      <td>2022-11-13</td>\n",
              "      <td>Goias</td>\n",
              "      <td>Sao Paulo</td>\n",
              "      <td>Sao Paulo</td>\n",
              "      <td>1.0</td>\n",
              "      <td>0.0</td>\n",
              "      <td>0.0</td>\n",
              "    </tr>\n",
              "    <tr>\n",
              "      <th>16049</th>\n",
              "      <td>8025</td>\n",
              "      <td>Sao Paulo</td>\n",
              "      <td>2022-11-13</td>\n",
              "      <td>Goias</td>\n",
              "      <td>Sao Paulo</td>\n",
              "      <td>Sao Paulo</td>\n",
              "      <td>0.0</td>\n",
              "      <td>1.0</td>\n",
              "      <td>1.0</td>\n",
              "    </tr>\n",
              "  </tbody>\n",
              "</table>\n",
              "<p>2280 rows × 9 columns</p>\n",
              "</div>"
            ],
            "text/plain": [
              "       partida_id          clube       data       mandante      visitante  \\\n",
              "13770        6886      Fortaleza 2020-08-08      Fortaleza   Athletico-PR   \n",
              "13771        6886   Athletico-PR 2020-08-08      Fortaleza   Athletico-PR   \n",
              "13772        6887       Coritiba 2020-08-08       Coritiba  Internacional   \n",
              "13773        6887  Internacional 2020-08-08       Coritiba  Internacional   \n",
              "13774        6888          Sport 2020-08-08          Sport          Ceara   \n",
              "...           ...            ...        ...            ...            ...   \n",
              "16045        8023    Atletico-MG 2022-11-13    Corinthians    Atletico-MG   \n",
              "16046        8024  Internacional 2022-11-13  Internacional      Palmeiras   \n",
              "16047        8024      Palmeiras 2022-11-13  Internacional      Palmeiras   \n",
              "16048        8025          Goias 2022-11-13          Goias      Sao Paulo   \n",
              "16049        8025      Sao Paulo 2022-11-13          Goias      Sao Paulo   \n",
              "\n",
              "            vencedor  mandate_  visitante_  vencedor_  \n",
              "13770   Athletico-PR       1.0         0.0        0.0  \n",
              "13771   Athletico-PR       0.0         1.0        1.0  \n",
              "13772  Internacional       1.0         0.0        0.0  \n",
              "13773  Internacional       0.0         1.0        1.0  \n",
              "13774          Sport       1.0         0.0        1.0  \n",
              "...              ...       ...         ...        ...  \n",
              "16045    Atletico-MG       0.0         1.0        1.0  \n",
              "16046  Internacional       1.0         0.0        1.0  \n",
              "16047  Internacional       0.0         1.0        0.0  \n",
              "16048      Sao Paulo       1.0         0.0        0.0  \n",
              "16049      Sao Paulo       0.0         1.0        1.0  \n",
              "\n",
              "[2280 rows x 9 columns]"
            ]
          },
          "execution_count": 23,
          "metadata": {},
          "output_type": "execute_result"
        }
      ],
      "source": [
        "df_2020_2022[['partida_id','clube','data','mandante','visitante','vencedor','mandate_','visitante_','vencedor_']]"
      ]
    },
    {
      "cell_type": "code",
      "execution_count": null,
      "metadata": {},
      "outputs": [],
      "source": [
        "def SetMandanteVisitante(df):\n",
        "  if (df['clube'] == df['mandante']):\n",
        "     1\n",
        "  else:\n",
        "     0\n",
        "  \n",
        "  \n",
        "df_2020_2022['teste'] = df_2020_2022.apply(SetMandanteVisitante(df_2020_2022),axis=1)\n",
        "df_2020_2022['teste']"
      ]
    },
    {
      "cell_type": "code",
      "execution_count": null,
      "metadata": {
        "id": "HwQk5DucNtlW"
      },
      "outputs": [],
      "source": []
    }
  ],
  "metadata": {
    "colab": {
      "include_colab_link": true,
      "provenance": []
    },
    "gpuClass": "standard",
    "kernelspec": {
      "display_name": "Python 3",
      "name": "python3"
    },
    "language_info": {
      "codemirror_mode": {
        "name": "ipython",
        "version": 3
      },
      "file_extension": ".py",
      "mimetype": "text/x-python",
      "name": "python",
      "nbconvert_exporter": "python",
      "pygments_lexer": "ipython3",
      "version": "3.10.10"
    },
    "orig_nbformat": 4
  },
  "nbformat": 4,
  "nbformat_minor": 0
}
