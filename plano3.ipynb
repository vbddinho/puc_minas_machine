{
  "cells": [
    {
      "cell_type": "markdown",
      "metadata": {
        "id": "view-in-github",
        "colab_type": "text"
      },
      "source": [
        "<a href=\"https://colab.research.google.com/github/vbddinho/puc_minas_machine/blob/main/plano3.ipynb\" target=\"_parent\"><img src=\"https://colab.research.google.com/assets/colab-badge.svg\" alt=\"Open In Colab\"/></a>"
      ]
    },
    {
      "cell_type": "code",
      "execution_count": 1,
      "metadata": {
        "id": "zptGYXbqCjbT"
      },
      "outputs": [],
      "source": [
        "import pandas as pd \n",
        "import numpy as np \n",
        "import matplotlib.pyplot as plt\n",
        "import seaborn as sns"
      ]
    },
    {
      "cell_type": "code",
      "source": [
        "df_estatisticas = pd.read_csv('dados/campeonato-brasileiro-estatisticas-full.csv', sep=',',encoding = \"UTF-8\")\n",
        "df_jogos = pd.read_csv('dados/campeonato-brasileiro-full.csv', sep=',',encoding = \"UTF-8\")\n",
        "\n"
      ],
      "metadata": {
        "id": "jKF99ieIC_zx"
      },
      "execution_count": 2,
      "outputs": []
    },
    {
      "cell_type": "code",
      "source": [
        "df_jogos.info() "
      ],
      "metadata": {
        "colab": {
          "base_uri": "https://localhost:8080/"
        },
        "id": "09B27gcFDVuz",
        "outputId": "7953fef3-ce16-4042-c2fd-9c3330b549ab"
      },
      "execution_count": 3,
      "outputs": [
        {
          "output_type": "stream",
          "name": "stdout",
          "text": [
            "<class 'pandas.core.frame.DataFrame'>\n",
            "RangeIndex: 8025 entries, 0 to 8024\n",
            "Data columns (total 16 columns):\n",
            " #   Column              Non-Null Count  Dtype \n",
            "---  ------              --------------  ----- \n",
            " 0   ID                  8025 non-null   int64 \n",
            " 1   rodata              8025 non-null   int64 \n",
            " 2   data                8025 non-null   object\n",
            " 3   hora                8025 non-null   object\n",
            " 4   mandante            8025 non-null   object\n",
            " 5   visitante           8025 non-null   object\n",
            " 6   formacao_mandante   3051 non-null   object\n",
            " 7   formacao_visitante  3051 non-null   object\n",
            " 8   tecnico_mandante    3415 non-null   object\n",
            " 9   tecnico_visitante   3415 non-null   object\n",
            " 10  vencedor            8025 non-null   object\n",
            " 11  arena               8025 non-null   object\n",
            " 12  mandante_Placar     8025 non-null   int64 \n",
            " 13  visitante_Placar    8025 non-null   int64 \n",
            " 14  mandante_Estado     8025 non-null   object\n",
            " 15  visitante_Estado    8025 non-null   object\n",
            "dtypes: int64(4), object(12)\n",
            "memory usage: 1003.2+ KB\n"
          ]
        }
      ]
    },
    {
      "cell_type": "code",
      "source": [
        "df_estatisticas.info()"
      ],
      "metadata": {
        "colab": {
          "base_uri": "https://localhost:8080/"
        },
        "id": "UOkNoU_nENc9",
        "outputId": "ac2801ad-4332-46ae-e94b-f2db56d0dbe7"
      },
      "execution_count": 4,
      "outputs": [
        {
          "output_type": "stream",
          "name": "stdout",
          "text": [
            "<class 'pandas.core.frame.DataFrame'>\n",
            "RangeIndex: 16050 entries, 0 to 16049\n",
            "Data columns (total 13 columns):\n",
            " #   Column           Non-Null Count  Dtype \n",
            "---  ------           --------------  ----- \n",
            " 0   partida_id       16050 non-null  int64 \n",
            " 1   rodata           16050 non-null  int64 \n",
            " 2   clube            16050 non-null  object\n",
            " 3   chutes           16050 non-null  int64 \n",
            " 4   chutes_no_alvo   16050 non-null  int64 \n",
            " 5   posse_de_bola    6838 non-null   object\n",
            " 6   passes           16050 non-null  int64 \n",
            " 7   precisao_passes  6838 non-null   object\n",
            " 8   faltas           16050 non-null  int64 \n",
            " 9   cartao_amarelo   16050 non-null  int64 \n",
            " 10  cartao_vermelho  16050 non-null  int64 \n",
            " 11  impedimentos     16050 non-null  int64 \n",
            " 12  escanteios       16050 non-null  int64 \n",
            "dtypes: int64(10), object(3)\n",
            "memory usage: 1.6+ MB\n"
          ]
        }
      ]
    },
    {
      "cell_type": "code",
      "source": [
        "#innerjoin = pd.merge(df,df_estatisticas,right_on='partida_id' ,left_on='ID',how='inner')\n",
        "#innerjoin[(innerjoin['ID'] == 8017)]"
      ],
      "metadata": {
        "id": "kPgQyAkTDL-z"
      },
      "execution_count": null,
      "outputs": []
    },
    {
      "cell_type": "code",
      "source": [
        "dfT = df_jogos[['ID','vencedor','data']]"
      ],
      "metadata": {
        "id": "2yiRpkV8WV3W"
      },
      "execution_count": 5,
      "outputs": []
    },
    {
      "cell_type": "code",
      "source": [
        "innerjoin = pd.merge(df_estatisticas,df_jogos,how='inner', left_on='partida_id',right_on='ID' )"
      ],
      "metadata": {
        "id": "AMIuz5rsD6Ae"
      },
      "execution_count": 6,
      "outputs": []
    },
    {
      "cell_type": "code",
      "source": [
        "innerjoin.isna().sum()"
      ],
      "metadata": {
        "colab": {
          "base_uri": "https://localhost:8080/"
        },
        "id": "nLHA7jx7WmAU",
        "outputId": "6c4121d8-0342-443b-ecf9-07fcc30ae517"
      },
      "execution_count": 7,
      "outputs": [
        {
          "output_type": "execute_result",
          "data": {
            "text/plain": [
              "partida_id               0\n",
              "rodata_x                 0\n",
              "clube                    0\n",
              "chutes                   0\n",
              "chutes_no_alvo           0\n",
              "posse_de_bola         9212\n",
              "passes                   0\n",
              "precisao_passes       9212\n",
              "faltas                   0\n",
              "cartao_amarelo           0\n",
              "cartao_vermelho          0\n",
              "impedimentos             0\n",
              "escanteios               0\n",
              "ID                       0\n",
              "rodata_y                 0\n",
              "data                     0\n",
              "hora                     0\n",
              "mandante                 0\n",
              "visitante                0\n",
              "formacao_mandante     9948\n",
              "formacao_visitante    9948\n",
              "tecnico_mandante      9220\n",
              "tecnico_visitante     9220\n",
              "vencedor                 0\n",
              "arena                    0\n",
              "mandante_Placar          0\n",
              "visitante_Placar         0\n",
              "mandante_Estado          0\n",
              "visitante_Estado         0\n",
              "dtype: int64"
            ]
          },
          "metadata": {},
          "execution_count": 7
        }
      ]
    },
    {
      "cell_type": "code",
      "source": [
        "innerjoin.shape"
      ],
      "metadata": {
        "colab": {
          "base_uri": "https://localhost:8080/"
        },
        "id": "Zw1tumHSXk51",
        "outputId": "5b812ce7-fda9-4b30-d988-ed3a1dc3fec5"
      },
      "execution_count": 11,
      "outputs": [
        {
          "output_type": "execute_result",
          "data": {
            "text/plain": [
              "(16050, 30)"
            ]
          },
          "metadata": {},
          "execution_count": 11
        }
      ]
    },
    {
      "cell_type": "code",
      "source": [
        "#Converte a data do tipo objeto para o tipo datetime e cria a coluna ano\n",
        "innerjoin[\"data\"] = pd.to_datetime(innerjoin[\"data\"],format='%d/%m/%Y',dayfirst=True)\n",
        "df_2020_2022 = innerjoin\n",
        "df_2020_2022[\"ano\"] = df_2020_2022[\"data\"].dt.year\n",
        "\n",
        "# Analise será feita do ano de 2007 até 2022\n",
        "df_2020_2022 = df_2020_2022[(df_2020_2022[\"ano\"]>=2020)]\n",
        "df_2020_2022\n",
        "\n",
        "#indexa dataFrame\n",
        "df_2020_2022.set_index('data')\n",
        "df_2020_2022.shape"
      ],
      "metadata": {
        "id": "cyt0lj33CRnx",
        "outputId": "dbd95428-99da-4ac8-983c-3dcf25ba0151",
        "colab": {
          "base_uri": "https://localhost:8080/"
        }
      },
      "execution_count": 12,
      "outputs": [
        {
          "output_type": "execute_result",
          "data": {
            "text/plain": [
              "(2280, 30)"
            ]
          },
          "metadata": {},
          "execution_count": 12
        }
      ]
    },
    {
      "cell_type": "code",
      "source": [
        "df_2020_2022.info()"
      ],
      "metadata": {
        "id": "F_3aVkOCCpS0",
        "outputId": "0ba470db-9233-4b4a-c4da-a3b1d7055f7d",
        "colab": {
          "base_uri": "https://localhost:8080/"
        }
      },
      "execution_count": 14,
      "outputs": [
        {
          "output_type": "stream",
          "name": "stdout",
          "text": [
            "<class 'pandas.core.frame.DataFrame'>\n",
            "Int64Index: 2280 entries, 13770 to 16049\n",
            "Data columns (total 30 columns):\n",
            " #   Column              Non-Null Count  Dtype         \n",
            "---  ------              --------------  -----         \n",
            " 0   partida_id          2280 non-null   int64         \n",
            " 1   rodata_x            2280 non-null   int64         \n",
            " 2   clube               2280 non-null   object        \n",
            " 3   chutes              2280 non-null   int64         \n",
            " 4   chutes_no_alvo      2280 non-null   int64         \n",
            " 5   posse_de_bola       2280 non-null   object        \n",
            " 6   passes              2280 non-null   int64         \n",
            " 7   precisao_passes     2280 non-null   object        \n",
            " 8   faltas              2280 non-null   int64         \n",
            " 9   cartao_amarelo      2280 non-null   int64         \n",
            " 10  cartao_vermelho     2280 non-null   int64         \n",
            " 11  impedimentos        2280 non-null   int64         \n",
            " 12  escanteios          2280 non-null   int64         \n",
            " 13  ID                  2280 non-null   int64         \n",
            " 14  rodata_y            2280 non-null   int64         \n",
            " 15  data                2280 non-null   datetime64[ns]\n",
            " 16  hora                2280 non-null   object        \n",
            " 17  mandante            2280 non-null   object        \n",
            " 18  visitante           2280 non-null   object        \n",
            " 19  formacao_mandante   2280 non-null   object        \n",
            " 20  formacao_visitante  2280 non-null   object        \n",
            " 21  tecnico_mandante    2280 non-null   object        \n",
            " 22  tecnico_visitante   2280 non-null   object        \n",
            " 23  vencedor            2280 non-null   object        \n",
            " 24  arena               2280 non-null   object        \n",
            " 25  mandante_Placar     2280 non-null   int64         \n",
            " 26  visitante_Placar    2280 non-null   int64         \n",
            " 27  mandante_Estado     2280 non-null   object        \n",
            " 28  visitante_Estado    2280 non-null   object        \n",
            " 29  ano                 2280 non-null   int64         \n",
            "dtypes: datetime64[ns](1), int64(15), object(14)\n",
            "memory usage: 552.2+ KB\n"
          ]
        }
      ]
    },
    {
      "cell_type": "code",
      "source": [
        "df_2020_2022[\"temporada\"] = df_2020_2022[\"ano\"]\n",
        "df_2020_2022.loc[(df_2020_2022[\"data\"]>=\"2020/08/08\") & (df_2020_2022[\"data\"]<=\"2021/02/25\"),\"temporada\" ] = 2020\n",
        "df_2020_2022.loc[(df_2020_2022[\"data\"]>=\"2021/05/29\") & (df_2020_2022[\"data\"]<=\"2021/12/09\"),\"temporada\" ] = 2021"
      ],
      "metadata": {
        "id": "jkbaEIeKCwQl"
      },
      "execution_count": null,
      "outputs": []
    },
    {
      "cell_type": "code",
      "source": [],
      "metadata": {
        "id": "4o2XgzcrDYVr",
        "outputId": "b78863d0-268f-4524-d457-7699f148fe32",
        "colab": {
          "base_uri": "https://localhost:8080/"
        }
      },
      "execution_count": 19,
      "outputs": [
        {
          "output_type": "execute_result",
          "data": {
            "text/plain": [
              "array([2020, 2021, 2022])"
            ]
          },
          "metadata": {},
          "execution_count": 19
        }
      ]
    }
  ],
  "metadata": {
    "language_info": {
      "name": "python"
    },
    "orig_nbformat": 4,
    "colab": {
      "provenance": [],
      "include_colab_link": true
    },
    "kernelspec": {
      "name": "python3",
      "display_name": "Python 3"
    },
    "gpuClass": "standard",
    "accelerator": "GPU"
  },
  "nbformat": 4,
  "nbformat_minor": 0
}