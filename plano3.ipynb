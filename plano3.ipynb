{
  "cells": [
    {
      "cell_type": "markdown",
      "metadata": {
        "id": "view-in-github",
        "colab_type": "text"
      },
      "source": [
        "<a href=\"https://colab.research.google.com/github/vbddinho/puc_minas_machine/blob/main/plano3.ipynb\" target=\"_parent\"><img src=\"https://colab.research.google.com/assets/colab-badge.svg\" alt=\"Open In Colab\"/></a>"
      ]
    },
    {
      "cell_type": "code",
      "execution_count": 87,
      "metadata": {
        "id": "zptGYXbqCjbT"
      },
      "outputs": [],
      "source": [
        "import pandas as pd \n",
        "import numpy as np \n",
        "import matplotlib.pyplot as plt\n",
        "import seaborn as sns"
      ]
    },
    {
      "cell_type": "code",
      "source": [
        "#Definição de configurações de dataframes\n",
        "pd.set_option('display.max_rows', 1000)\n",
        "pd.set_option('display.max_columns', 500)\n",
        "pd.set_option('display.width', 1000)\n",
        "pd.set_option('display.precision', 4)\n",
        "pd.set_option('display.expand_frame_repr', False)"
      ],
      "metadata": {
        "id": "6oF8t3Vq8_mL"
      },
      "execution_count": 88,
      "outputs": []
    },
    {
      "cell_type": "code",
      "source": [
        "#Configurando os plots para serem exibidos diretamente no notebook\n",
        "%matplotlib inline"
      ],
      "metadata": {
        "id": "9pTX-wF-UTkI"
      },
      "execution_count": 89,
      "outputs": []
    },
    {
      "cell_type": "code",
      "execution_count": 90,
      "metadata": {
        "id": "jKF99ieIC_zx"
      },
      "outputs": [],
      "source": [
        "df_estatisticas = pd.read_csv('dados/campeonato-brasileiro-estatisticas-full.csv', sep=',',encoding = \"UTF-8\")\n"
      ]
    },
    {
      "cell_type": "code",
      "execution_count": 91,
      "metadata": {
        "colab": {
          "base_uri": "https://localhost:8080/"
        },
        "id": "09B27gcFDVuz",
        "outputId": "2476f35f-9ba6-4401-ee1f-22332e99ac6c"
      },
      "outputs": [
        {
          "output_type": "stream",
          "name": "stdout",
          "text": [
            "<class 'pandas.core.frame.DataFrame'>\n",
            "RangeIndex: 16050 entries, 0 to 16049\n",
            "Data columns (total 13 columns):\n",
            " #   Column           Non-Null Count  Dtype \n",
            "---  ------           --------------  ----- \n",
            " 0   partida_id       16050 non-null  int64 \n",
            " 1   rodata           16050 non-null  int64 \n",
            " 2   clube            16050 non-null  object\n",
            " 3   chutes           16050 non-null  int64 \n",
            " 4   chutes_no_alvo   16050 non-null  int64 \n",
            " 5   posse_de_bola    6838 non-null   object\n",
            " 6   passes           16050 non-null  int64 \n",
            " 7   precisao_passes  6838 non-null   object\n",
            " 8   faltas           16050 non-null  int64 \n",
            " 9   cartao_amarelo   16050 non-null  int64 \n",
            " 10  cartao_vermelho  16050 non-null  int64 \n",
            " 11  impedimentos     16050 non-null  int64 \n",
            " 12  escanteios       16050 non-null  int64 \n",
            "dtypes: int64(10), object(3)\n",
            "memory usage: 1.6+ MB\n"
          ]
        }
      ],
      "source": [
        "df_estatisticas.info() "
      ]
    },
    {
      "cell_type": "code",
      "source": [
        "df_estatisticas.nunique()"
      ],
      "metadata": {
        "id": "1ROe6SClTznL",
        "outputId": "d7fbaf2a-397c-45b1-976a-55983dbbba8a",
        "colab": {
          "base_uri": "https://localhost:8080/"
        }
      },
      "execution_count": 92,
      "outputs": [
        {
          "output_type": "execute_result",
          "data": {
            "text/plain": [
              "partida_id         8025\n",
              "rodata               46\n",
              "clube                45\n",
              "chutes               37\n",
              "chutes_no_alvo       16\n",
              "posse_de_bola        62\n",
              "passes              515\n",
              "precisao_passes      42\n",
              "faltas               32\n",
              "cartao_amarelo       11\n",
              "cartao_vermelho       4\n",
              "impedimentos         11\n",
              "escanteios           21\n",
              "dtype: int64"
            ]
          },
          "metadata": {},
          "execution_count": 92
        }
      ]
    },
    {
      "cell_type": "code",
      "source": [
        "df_estatisticas.rename(columns={'rodata':'rodada'},inplace=True)"
      ],
      "metadata": {
        "id": "dAsD36QIU2zV"
      },
      "execution_count": 93,
      "outputs": []
    },
    {
      "cell_type": "code",
      "execution_count": 94,
      "metadata": {
        "colab": {
          "base_uri": "https://localhost:8080/"
        },
        "id": "UOkNoU_nENc9",
        "outputId": "5f5bf2f8-95f1-475e-b8d9-591ccb3af9da"
      },
      "outputs": [
        {
          "output_type": "execute_result",
          "data": {
            "text/plain": [
              "partida_id            0\n",
              "rodada                0\n",
              "clube                 0\n",
              "chutes                0\n",
              "chutes_no_alvo        0\n",
              "posse_de_bola      9212\n",
              "passes                0\n",
              "precisao_passes    9212\n",
              "faltas                0\n",
              "cartao_amarelo        0\n",
              "cartao_vermelho       0\n",
              "impedimentos          0\n",
              "escanteios            0\n",
              "dtype: int64"
            ]
          },
          "metadata": {},
          "execution_count": 94
        }
      ],
      "source": [
        "df_estatisticas.isna().sum()"
      ]
    },
    {
      "cell_type": "code",
      "source": [
        "df_estatisticas.tail()"
      ],
      "metadata": {
        "id": "ETPulA0FWDdl",
        "outputId": "852e85ef-f6f0-4c04-9951-93ac6e3ea874",
        "colab": {
          "base_uri": "https://localhost:8080/",
          "height": 206
        }
      },
      "execution_count": 95,
      "outputs": [
        {
          "output_type": "execute_result",
          "data": {
            "text/plain": [
              "       partida_id  rodada          clube  chutes  chutes_no_alvo posse_de_bola  passes precisao_passes  faltas  cartao_amarelo  cartao_vermelho  impedimentos  escanteios\n",
              "16045        8023      38    Atletico-MG      17               7           41%     351             82%      19               6                0             0           4\n",
              "16046        8024      38  Internacional      15               8           48%     287             77%      13               2                0             1           6\n",
              "16047        8024      38      Palmeiras      11               2           52%     306             82%      17               3                0             2           5\n",
              "16048        8025      38          Goias       6               2           35%     330             80%      12               2                0             1           3\n",
              "16049        8025      38      Sao Paulo      13               7           65%     591             90%      14               1                0             0           4"
            ],
            "text/html": [
              "\n",
              "  <div id=\"df-941e1783-1701-4184-8629-a6ee92094c8c\">\n",
              "    <div class=\"colab-df-container\">\n",
              "      <div>\n",
              "<style scoped>\n",
              "    .dataframe tbody tr th:only-of-type {\n",
              "        vertical-align: middle;\n",
              "    }\n",
              "\n",
              "    .dataframe tbody tr th {\n",
              "        vertical-align: top;\n",
              "    }\n",
              "\n",
              "    .dataframe thead th {\n",
              "        text-align: right;\n",
              "    }\n",
              "</style>\n",
              "<table border=\"1\" class=\"dataframe\">\n",
              "  <thead>\n",
              "    <tr style=\"text-align: right;\">\n",
              "      <th></th>\n",
              "      <th>partida_id</th>\n",
              "      <th>rodada</th>\n",
              "      <th>clube</th>\n",
              "      <th>chutes</th>\n",
              "      <th>chutes_no_alvo</th>\n",
              "      <th>posse_de_bola</th>\n",
              "      <th>passes</th>\n",
              "      <th>precisao_passes</th>\n",
              "      <th>faltas</th>\n",
              "      <th>cartao_amarelo</th>\n",
              "      <th>cartao_vermelho</th>\n",
              "      <th>impedimentos</th>\n",
              "      <th>escanteios</th>\n",
              "    </tr>\n",
              "  </thead>\n",
              "  <tbody>\n",
              "    <tr>\n",
              "      <th>16045</th>\n",
              "      <td>8023</td>\n",
              "      <td>38</td>\n",
              "      <td>Atletico-MG</td>\n",
              "      <td>17</td>\n",
              "      <td>7</td>\n",
              "      <td>41%</td>\n",
              "      <td>351</td>\n",
              "      <td>82%</td>\n",
              "      <td>19</td>\n",
              "      <td>6</td>\n",
              "      <td>0</td>\n",
              "      <td>0</td>\n",
              "      <td>4</td>\n",
              "    </tr>\n",
              "    <tr>\n",
              "      <th>16046</th>\n",
              "      <td>8024</td>\n",
              "      <td>38</td>\n",
              "      <td>Internacional</td>\n",
              "      <td>15</td>\n",
              "      <td>8</td>\n",
              "      <td>48%</td>\n",
              "      <td>287</td>\n",
              "      <td>77%</td>\n",
              "      <td>13</td>\n",
              "      <td>2</td>\n",
              "      <td>0</td>\n",
              "      <td>1</td>\n",
              "      <td>6</td>\n",
              "    </tr>\n",
              "    <tr>\n",
              "      <th>16047</th>\n",
              "      <td>8024</td>\n",
              "      <td>38</td>\n",
              "      <td>Palmeiras</td>\n",
              "      <td>11</td>\n",
              "      <td>2</td>\n",
              "      <td>52%</td>\n",
              "      <td>306</td>\n",
              "      <td>82%</td>\n",
              "      <td>17</td>\n",
              "      <td>3</td>\n",
              "      <td>0</td>\n",
              "      <td>2</td>\n",
              "      <td>5</td>\n",
              "    </tr>\n",
              "    <tr>\n",
              "      <th>16048</th>\n",
              "      <td>8025</td>\n",
              "      <td>38</td>\n",
              "      <td>Goias</td>\n",
              "      <td>6</td>\n",
              "      <td>2</td>\n",
              "      <td>35%</td>\n",
              "      <td>330</td>\n",
              "      <td>80%</td>\n",
              "      <td>12</td>\n",
              "      <td>2</td>\n",
              "      <td>0</td>\n",
              "      <td>1</td>\n",
              "      <td>3</td>\n",
              "    </tr>\n",
              "    <tr>\n",
              "      <th>16049</th>\n",
              "      <td>8025</td>\n",
              "      <td>38</td>\n",
              "      <td>Sao Paulo</td>\n",
              "      <td>13</td>\n",
              "      <td>7</td>\n",
              "      <td>65%</td>\n",
              "      <td>591</td>\n",
              "      <td>90%</td>\n",
              "      <td>14</td>\n",
              "      <td>1</td>\n",
              "      <td>0</td>\n",
              "      <td>0</td>\n",
              "      <td>4</td>\n",
              "    </tr>\n",
              "  </tbody>\n",
              "</table>\n",
              "</div>\n",
              "      <button class=\"colab-df-convert\" onclick=\"convertToInteractive('df-941e1783-1701-4184-8629-a6ee92094c8c')\"\n",
              "              title=\"Convert this dataframe to an interactive table.\"\n",
              "              style=\"display:none;\">\n",
              "        \n",
              "  <svg xmlns=\"http://www.w3.org/2000/svg\" height=\"24px\"viewBox=\"0 0 24 24\"\n",
              "       width=\"24px\">\n",
              "    <path d=\"M0 0h24v24H0V0z\" fill=\"none\"/>\n",
              "    <path d=\"M18.56 5.44l.94 2.06.94-2.06 2.06-.94-2.06-.94-.94-2.06-.94 2.06-2.06.94zm-11 1L8.5 8.5l.94-2.06 2.06-.94-2.06-.94L8.5 2.5l-.94 2.06-2.06.94zm10 10l.94 2.06.94-2.06 2.06-.94-2.06-.94-.94-2.06-.94 2.06-2.06.94z\"/><path d=\"M17.41 7.96l-1.37-1.37c-.4-.4-.92-.59-1.43-.59-.52 0-1.04.2-1.43.59L10.3 9.45l-7.72 7.72c-.78.78-.78 2.05 0 2.83L4 21.41c.39.39.9.59 1.41.59.51 0 1.02-.2 1.41-.59l7.78-7.78 2.81-2.81c.8-.78.8-2.07 0-2.86zM5.41 20L4 18.59l7.72-7.72 1.47 1.35L5.41 20z\"/>\n",
              "  </svg>\n",
              "      </button>\n",
              "      \n",
              "  <style>\n",
              "    .colab-df-container {\n",
              "      display:flex;\n",
              "      flex-wrap:wrap;\n",
              "      gap: 12px;\n",
              "    }\n",
              "\n",
              "    .colab-df-convert {\n",
              "      background-color: #E8F0FE;\n",
              "      border: none;\n",
              "      border-radius: 50%;\n",
              "      cursor: pointer;\n",
              "      display: none;\n",
              "      fill: #1967D2;\n",
              "      height: 32px;\n",
              "      padding: 0 0 0 0;\n",
              "      width: 32px;\n",
              "    }\n",
              "\n",
              "    .colab-df-convert:hover {\n",
              "      background-color: #E2EBFA;\n",
              "      box-shadow: 0px 1px 2px rgba(60, 64, 67, 0.3), 0px 1px 3px 1px rgba(60, 64, 67, 0.15);\n",
              "      fill: #174EA6;\n",
              "    }\n",
              "\n",
              "    [theme=dark] .colab-df-convert {\n",
              "      background-color: #3B4455;\n",
              "      fill: #D2E3FC;\n",
              "    }\n",
              "\n",
              "    [theme=dark] .colab-df-convert:hover {\n",
              "      background-color: #434B5C;\n",
              "      box-shadow: 0px 1px 3px 1px rgba(0, 0, 0, 0.15);\n",
              "      filter: drop-shadow(0px 1px 2px rgba(0, 0, 0, 0.3));\n",
              "      fill: #FFFFFF;\n",
              "    }\n",
              "  </style>\n",
              "\n",
              "      <script>\n",
              "        const buttonEl =\n",
              "          document.querySelector('#df-941e1783-1701-4184-8629-a6ee92094c8c button.colab-df-convert');\n",
              "        buttonEl.style.display =\n",
              "          google.colab.kernel.accessAllowed ? 'block' : 'none';\n",
              "\n",
              "        async function convertToInteractive(key) {\n",
              "          const element = document.querySelector('#df-941e1783-1701-4184-8629-a6ee92094c8c');\n",
              "          const dataTable =\n",
              "            await google.colab.kernel.invokeFunction('convertToInteractive',\n",
              "                                                     [key], {});\n",
              "          if (!dataTable) return;\n",
              "\n",
              "          const docLinkHtml = 'Like what you see? Visit the ' +\n",
              "            '<a target=\"_blank\" href=https://colab.research.google.com/notebooks/data_table.ipynb>data table notebook</a>'\n",
              "            + ' to learn more about interactive tables.';\n",
              "          element.innerHTML = '';\n",
              "          dataTable['output_type'] = 'display_data';\n",
              "          await google.colab.output.renderOutput(dataTable, element);\n",
              "          const docLink = document.createElement('div');\n",
              "          docLink.innerHTML = docLinkHtml;\n",
              "          element.appendChild(docLink);\n",
              "        }\n",
              "      </script>\n",
              "    </div>\n",
              "  </div>\n",
              "  "
            ]
          },
          "metadata": {},
          "execution_count": 95
        }
      ]
    },
    {
      "cell_type": "code",
      "source": [
        "df_estatisticas.fillna(0, axis=1, inplace=True)"
      ],
      "metadata": {
        "id": "CXgJP1C9WQNu"
      },
      "execution_count": 96,
      "outputs": []
    },
    {
      "cell_type": "code",
      "source": [
        "df_jogos = pd.read_csv('dados/campeonato-brasileiro-full.csv',sep=',',encoding = \"UTF-8\")"
      ],
      "metadata": {
        "id": "7QcAZ6ErXEM-"
      },
      "execution_count": 97,
      "outputs": []
    },
    {
      "cell_type": "code",
      "source": [
        "df_jogos.info()"
      ],
      "metadata": {
        "id": "15wZwbgLXGY6",
        "outputId": "f33283e8-733f-4533-b229-c6b93e773821",
        "colab": {
          "base_uri": "https://localhost:8080/"
        }
      },
      "execution_count": 98,
      "outputs": [
        {
          "output_type": "stream",
          "name": "stdout",
          "text": [
            "<class 'pandas.core.frame.DataFrame'>\n",
            "RangeIndex: 8025 entries, 0 to 8024\n",
            "Data columns (total 16 columns):\n",
            " #   Column              Non-Null Count  Dtype \n",
            "---  ------              --------------  ----- \n",
            " 0   ID                  8025 non-null   int64 \n",
            " 1   rodata              8025 non-null   int64 \n",
            " 2   data                8025 non-null   object\n",
            " 3   hora                8025 non-null   object\n",
            " 4   mandante            8025 non-null   object\n",
            " 5   visitante           8025 non-null   object\n",
            " 6   formacao_mandante   3051 non-null   object\n",
            " 7   formacao_visitante  3051 non-null   object\n",
            " 8   tecnico_mandante    3415 non-null   object\n",
            " 9   tecnico_visitante   3415 non-null   object\n",
            " 10  vencedor            8025 non-null   object\n",
            " 11  arena               8025 non-null   object\n",
            " 12  mandante_Placar     8025 non-null   int64 \n",
            " 13  visitante_Placar    8025 non-null   int64 \n",
            " 14  mandante_Estado     8025 non-null   object\n",
            " 15  visitante_Estado    8025 non-null   object\n",
            "dtypes: int64(4), object(12)\n",
            "memory usage: 1003.2+ KB\n"
          ]
        }
      ]
    },
    {
      "cell_type": "code",
      "source": [
        "df_jogos.rename(columns={'ID':'partida_id'},inplace=True)\n",
        "df_jogos.rename(columns={'rodata':'rodada'},inplace=True)"
      ],
      "metadata": {
        "id": "gOr2_i3yXNf-"
      },
      "execution_count": 99,
      "outputs": []
    },
    {
      "cell_type": "code",
      "source": [
        "df = pd.merge(df_estatisticas,df_jogos,how='left',right_on='partida_id',left_on='partida_id')"
      ],
      "metadata": {
        "id": "xWGiZ1ukXpWD"
      },
      "execution_count": 100,
      "outputs": []
    },
    {
      "cell_type": "code",
      "source": [
        "df.tail()"
      ],
      "metadata": {
        "id": "7u1hAN2DYULt",
        "outputId": "44180e05-9d89-4364-c624-2f8bdf490caf",
        "colab": {
          "base_uri": "https://localhost:8080/",
          "height": 479
        }
      },
      "execution_count": 101,
      "outputs": [
        {
          "output_type": "execute_result",
          "data": {
            "text/plain": [
              "       partida_id  rodada_x          clube  chutes  chutes_no_alvo posse_de_bola  passes precisao_passes  faltas  cartao_amarelo  cartao_vermelho  impedimentos  escanteios  rodada_y        data   hora       mandante    visitante formacao_mandante formacao_visitante        tecnico_mandante    tecnico_visitante       vencedor                        arena  mandante_Placar  visitante_Placar mandante_Estado visitante_Estado\n",
              "16045        8023        38    Atletico-MG      17               7           41%     351             82%      19               6                0             0           4        38  13/11/2022  16:03    Corinthians  Atletico-MG           4-1-4-1            4-2-3-1  F. J. Monteiro Almeida            A. Stival    Atletico-MG            Neo Química Arena                0                 1              SP               MG\n",
              "16046        8024        38  Internacional      15               8           48%     287             77%      13               2                0             1           6        38  13/11/2022  16:03  Internacional    Palmeiras           4-2-3-1            4-2-3-1    L. Venker de Menezes  A. Moreira Ferreira  Internacional  Estádio José Pinheiro Borda                3                 0              RS               SP\n",
              "16047        8024        38      Palmeiras      11               2           52%     306             82%      17               3                0             2           5        38  13/11/2022  16:03  Internacional    Palmeiras           4-2-3-1            4-2-3-1    L. Venker de Menezes  A. Moreira Ferreira  Internacional  Estádio José Pinheiro Borda                3                 0              RS               SP\n",
              "16048        8025        38          Goias       6               2           35%     330             80%      12               2                0             1           3        38  13/11/2022  16:03          Goias    Sao Paulo           4-2-3-1          4-1-2-1-2      J. Ribeiro Ventura              R. Ceni      Sao Paulo          Estádio da Serrinha                0                 4              GO               SP\n",
              "16049        8025        38      Sao Paulo      13               7           65%     591             90%      14               1                0             0           4        38  13/11/2022  16:03          Goias    Sao Paulo           4-2-3-1          4-1-2-1-2      J. Ribeiro Ventura              R. Ceni      Sao Paulo          Estádio da Serrinha                0                 4              GO               SP"
            ],
            "text/html": [
              "\n",
              "  <div id=\"df-f47dec91-8bf4-4d6b-a424-379b0160906c\">\n",
              "    <div class=\"colab-df-container\">\n",
              "      <div>\n",
              "<style scoped>\n",
              "    .dataframe tbody tr th:only-of-type {\n",
              "        vertical-align: middle;\n",
              "    }\n",
              "\n",
              "    .dataframe tbody tr th {\n",
              "        vertical-align: top;\n",
              "    }\n",
              "\n",
              "    .dataframe thead th {\n",
              "        text-align: right;\n",
              "    }\n",
              "</style>\n",
              "<table border=\"1\" class=\"dataframe\">\n",
              "  <thead>\n",
              "    <tr style=\"text-align: right;\">\n",
              "      <th></th>\n",
              "      <th>partida_id</th>\n",
              "      <th>rodada_x</th>\n",
              "      <th>clube</th>\n",
              "      <th>chutes</th>\n",
              "      <th>chutes_no_alvo</th>\n",
              "      <th>posse_de_bola</th>\n",
              "      <th>passes</th>\n",
              "      <th>precisao_passes</th>\n",
              "      <th>faltas</th>\n",
              "      <th>cartao_amarelo</th>\n",
              "      <th>cartao_vermelho</th>\n",
              "      <th>impedimentos</th>\n",
              "      <th>escanteios</th>\n",
              "      <th>rodada_y</th>\n",
              "      <th>data</th>\n",
              "      <th>hora</th>\n",
              "      <th>mandante</th>\n",
              "      <th>visitante</th>\n",
              "      <th>formacao_mandante</th>\n",
              "      <th>formacao_visitante</th>\n",
              "      <th>tecnico_mandante</th>\n",
              "      <th>tecnico_visitante</th>\n",
              "      <th>vencedor</th>\n",
              "      <th>arena</th>\n",
              "      <th>mandante_Placar</th>\n",
              "      <th>visitante_Placar</th>\n",
              "      <th>mandante_Estado</th>\n",
              "      <th>visitante_Estado</th>\n",
              "    </tr>\n",
              "  </thead>\n",
              "  <tbody>\n",
              "    <tr>\n",
              "      <th>16045</th>\n",
              "      <td>8023</td>\n",
              "      <td>38</td>\n",
              "      <td>Atletico-MG</td>\n",
              "      <td>17</td>\n",
              "      <td>7</td>\n",
              "      <td>41%</td>\n",
              "      <td>351</td>\n",
              "      <td>82%</td>\n",
              "      <td>19</td>\n",
              "      <td>6</td>\n",
              "      <td>0</td>\n",
              "      <td>0</td>\n",
              "      <td>4</td>\n",
              "      <td>38</td>\n",
              "      <td>13/11/2022</td>\n",
              "      <td>16:03</td>\n",
              "      <td>Corinthians</td>\n",
              "      <td>Atletico-MG</td>\n",
              "      <td>4-1-4-1</td>\n",
              "      <td>4-2-3-1</td>\n",
              "      <td>F. J. Monteiro Almeida</td>\n",
              "      <td>A. Stival</td>\n",
              "      <td>Atletico-MG</td>\n",
              "      <td>Neo Química Arena</td>\n",
              "      <td>0</td>\n",
              "      <td>1</td>\n",
              "      <td>SP</td>\n",
              "      <td>MG</td>\n",
              "    </tr>\n",
              "    <tr>\n",
              "      <th>16046</th>\n",
              "      <td>8024</td>\n",
              "      <td>38</td>\n",
              "      <td>Internacional</td>\n",
              "      <td>15</td>\n",
              "      <td>8</td>\n",
              "      <td>48%</td>\n",
              "      <td>287</td>\n",
              "      <td>77%</td>\n",
              "      <td>13</td>\n",
              "      <td>2</td>\n",
              "      <td>0</td>\n",
              "      <td>1</td>\n",
              "      <td>6</td>\n",
              "      <td>38</td>\n",
              "      <td>13/11/2022</td>\n",
              "      <td>16:03</td>\n",
              "      <td>Internacional</td>\n",
              "      <td>Palmeiras</td>\n",
              "      <td>4-2-3-1</td>\n",
              "      <td>4-2-3-1</td>\n",
              "      <td>L. Venker de Menezes</td>\n",
              "      <td>A. Moreira Ferreira</td>\n",
              "      <td>Internacional</td>\n",
              "      <td>Estádio José Pinheiro Borda</td>\n",
              "      <td>3</td>\n",
              "      <td>0</td>\n",
              "      <td>RS</td>\n",
              "      <td>SP</td>\n",
              "    </tr>\n",
              "    <tr>\n",
              "      <th>16047</th>\n",
              "      <td>8024</td>\n",
              "      <td>38</td>\n",
              "      <td>Palmeiras</td>\n",
              "      <td>11</td>\n",
              "      <td>2</td>\n",
              "      <td>52%</td>\n",
              "      <td>306</td>\n",
              "      <td>82%</td>\n",
              "      <td>17</td>\n",
              "      <td>3</td>\n",
              "      <td>0</td>\n",
              "      <td>2</td>\n",
              "      <td>5</td>\n",
              "      <td>38</td>\n",
              "      <td>13/11/2022</td>\n",
              "      <td>16:03</td>\n",
              "      <td>Internacional</td>\n",
              "      <td>Palmeiras</td>\n",
              "      <td>4-2-3-1</td>\n",
              "      <td>4-2-3-1</td>\n",
              "      <td>L. Venker de Menezes</td>\n",
              "      <td>A. Moreira Ferreira</td>\n",
              "      <td>Internacional</td>\n",
              "      <td>Estádio José Pinheiro Borda</td>\n",
              "      <td>3</td>\n",
              "      <td>0</td>\n",
              "      <td>RS</td>\n",
              "      <td>SP</td>\n",
              "    </tr>\n",
              "    <tr>\n",
              "      <th>16048</th>\n",
              "      <td>8025</td>\n",
              "      <td>38</td>\n",
              "      <td>Goias</td>\n",
              "      <td>6</td>\n",
              "      <td>2</td>\n",
              "      <td>35%</td>\n",
              "      <td>330</td>\n",
              "      <td>80%</td>\n",
              "      <td>12</td>\n",
              "      <td>2</td>\n",
              "      <td>0</td>\n",
              "      <td>1</td>\n",
              "      <td>3</td>\n",
              "      <td>38</td>\n",
              "      <td>13/11/2022</td>\n",
              "      <td>16:03</td>\n",
              "      <td>Goias</td>\n",
              "      <td>Sao Paulo</td>\n",
              "      <td>4-2-3-1</td>\n",
              "      <td>4-1-2-1-2</td>\n",
              "      <td>J. Ribeiro Ventura</td>\n",
              "      <td>R. Ceni</td>\n",
              "      <td>Sao Paulo</td>\n",
              "      <td>Estádio da Serrinha</td>\n",
              "      <td>0</td>\n",
              "      <td>4</td>\n",
              "      <td>GO</td>\n",
              "      <td>SP</td>\n",
              "    </tr>\n",
              "    <tr>\n",
              "      <th>16049</th>\n",
              "      <td>8025</td>\n",
              "      <td>38</td>\n",
              "      <td>Sao Paulo</td>\n",
              "      <td>13</td>\n",
              "      <td>7</td>\n",
              "      <td>65%</td>\n",
              "      <td>591</td>\n",
              "      <td>90%</td>\n",
              "      <td>14</td>\n",
              "      <td>1</td>\n",
              "      <td>0</td>\n",
              "      <td>0</td>\n",
              "      <td>4</td>\n",
              "      <td>38</td>\n",
              "      <td>13/11/2022</td>\n",
              "      <td>16:03</td>\n",
              "      <td>Goias</td>\n",
              "      <td>Sao Paulo</td>\n",
              "      <td>4-2-3-1</td>\n",
              "      <td>4-1-2-1-2</td>\n",
              "      <td>J. Ribeiro Ventura</td>\n",
              "      <td>R. Ceni</td>\n",
              "      <td>Sao Paulo</td>\n",
              "      <td>Estádio da Serrinha</td>\n",
              "      <td>0</td>\n",
              "      <td>4</td>\n",
              "      <td>GO</td>\n",
              "      <td>SP</td>\n",
              "    </tr>\n",
              "  </tbody>\n",
              "</table>\n",
              "</div>\n",
              "      <button class=\"colab-df-convert\" onclick=\"convertToInteractive('df-f47dec91-8bf4-4d6b-a424-379b0160906c')\"\n",
              "              title=\"Convert this dataframe to an interactive table.\"\n",
              "              style=\"display:none;\">\n",
              "        \n",
              "  <svg xmlns=\"http://www.w3.org/2000/svg\" height=\"24px\"viewBox=\"0 0 24 24\"\n",
              "       width=\"24px\">\n",
              "    <path d=\"M0 0h24v24H0V0z\" fill=\"none\"/>\n",
              "    <path d=\"M18.56 5.44l.94 2.06.94-2.06 2.06-.94-2.06-.94-.94-2.06-.94 2.06-2.06.94zm-11 1L8.5 8.5l.94-2.06 2.06-.94-2.06-.94L8.5 2.5l-.94 2.06-2.06.94zm10 10l.94 2.06.94-2.06 2.06-.94-2.06-.94-.94-2.06-.94 2.06-2.06.94z\"/><path d=\"M17.41 7.96l-1.37-1.37c-.4-.4-.92-.59-1.43-.59-.52 0-1.04.2-1.43.59L10.3 9.45l-7.72 7.72c-.78.78-.78 2.05 0 2.83L4 21.41c.39.39.9.59 1.41.59.51 0 1.02-.2 1.41-.59l7.78-7.78 2.81-2.81c.8-.78.8-2.07 0-2.86zM5.41 20L4 18.59l7.72-7.72 1.47 1.35L5.41 20z\"/>\n",
              "  </svg>\n",
              "      </button>\n",
              "      \n",
              "  <style>\n",
              "    .colab-df-container {\n",
              "      display:flex;\n",
              "      flex-wrap:wrap;\n",
              "      gap: 12px;\n",
              "    }\n",
              "\n",
              "    .colab-df-convert {\n",
              "      background-color: #E8F0FE;\n",
              "      border: none;\n",
              "      border-radius: 50%;\n",
              "      cursor: pointer;\n",
              "      display: none;\n",
              "      fill: #1967D2;\n",
              "      height: 32px;\n",
              "      padding: 0 0 0 0;\n",
              "      width: 32px;\n",
              "    }\n",
              "\n",
              "    .colab-df-convert:hover {\n",
              "      background-color: #E2EBFA;\n",
              "      box-shadow: 0px 1px 2px rgba(60, 64, 67, 0.3), 0px 1px 3px 1px rgba(60, 64, 67, 0.15);\n",
              "      fill: #174EA6;\n",
              "    }\n",
              "\n",
              "    [theme=dark] .colab-df-convert {\n",
              "      background-color: #3B4455;\n",
              "      fill: #D2E3FC;\n",
              "    }\n",
              "\n",
              "    [theme=dark] .colab-df-convert:hover {\n",
              "      background-color: #434B5C;\n",
              "      box-shadow: 0px 1px 3px 1px rgba(0, 0, 0, 0.15);\n",
              "      filter: drop-shadow(0px 1px 2px rgba(0, 0, 0, 0.3));\n",
              "      fill: #FFFFFF;\n",
              "    }\n",
              "  </style>\n",
              "\n",
              "      <script>\n",
              "        const buttonEl =\n",
              "          document.querySelector('#df-f47dec91-8bf4-4d6b-a424-379b0160906c button.colab-df-convert');\n",
              "        buttonEl.style.display =\n",
              "          google.colab.kernel.accessAllowed ? 'block' : 'none';\n",
              "\n",
              "        async function convertToInteractive(key) {\n",
              "          const element = document.querySelector('#df-f47dec91-8bf4-4d6b-a424-379b0160906c');\n",
              "          const dataTable =\n",
              "            await google.colab.kernel.invokeFunction('convertToInteractive',\n",
              "                                                     [key], {});\n",
              "          if (!dataTable) return;\n",
              "\n",
              "          const docLinkHtml = 'Like what you see? Visit the ' +\n",
              "            '<a target=\"_blank\" href=https://colab.research.google.com/notebooks/data_table.ipynb>data table notebook</a>'\n",
              "            + ' to learn more about interactive tables.';\n",
              "          element.innerHTML = '';\n",
              "          dataTable['output_type'] = 'display_data';\n",
              "          await google.colab.output.renderOutput(dataTable, element);\n",
              "          const docLink = document.createElement('div');\n",
              "          docLink.innerHTML = docLinkHtml;\n",
              "          element.appendChild(docLink);\n",
              "        }\n",
              "      </script>\n",
              "    </div>\n",
              "  </div>\n",
              "  "
            ]
          },
          "metadata": {},
          "execution_count": 101
        }
      ]
    },
    {
      "cell_type": "code",
      "source": [
        "df.columns"
      ],
      "metadata": {
        "id": "X3E4lQd-Y2ss",
        "outputId": "68a9e792-5ed6-4627-e074-ab8d1c25ae6e",
        "colab": {
          "base_uri": "https://localhost:8080/"
        }
      },
      "execution_count": 102,
      "outputs": [
        {
          "output_type": "execute_result",
          "data": {
            "text/plain": [
              "Index(['partida_id', 'rodada_x', 'clube', 'chutes', 'chutes_no_alvo', 'posse_de_bola', 'passes', 'precisao_passes', 'faltas', 'cartao_amarelo', 'cartao_vermelho', 'impedimentos', 'escanteios', 'rodada_y', 'data', 'hora', 'mandante', 'visitante', 'formacao_mandante', 'formacao_visitante', 'tecnico_mandante', 'tecnico_visitante', 'vencedor', 'arena', 'mandante_Placar', 'visitante_Placar', 'mandante_Estado', 'visitante_Estado'], dtype='object')"
            ]
          },
          "metadata": {},
          "execution_count": 102
        }
      ]
    },
    {
      "cell_type": "code",
      "source": [
        "df.drop(columns=['rodada_y','hora','arena','visitante_Estado','mandante_Estado','tecnico_mandante','tecnico_visitante'],inplace=True)"
      ],
      "metadata": {
        "id": "xAtVn61CY5Xz"
      },
      "execution_count": 103,
      "outputs": []
    },
    {
      "cell_type": "code",
      "source": [
        "#Converte a data do tipo objeto para o tipo datetime e cria a coluna ano\n",
        "df[\"data\"] = pd.to_datetime(df[\"data\"],format='%d/%m/%Y',dayfirst=True)\n",
        "df[\"ano\"] = df[\"data\"].dt.year"
      ],
      "metadata": {
        "id": "pyodGpGSZ2Ar"
      },
      "execution_count": 104,
      "outputs": []
    },
    {
      "cell_type": "code",
      "source": [
        "#temporada de 2020 e 2021 foi afetada pelo COVID-19, realizando ajuste\n",
        "df.loc[(df[\"data\"]>=\"2020/08/08\") & (df[\"data\"]<=\"2021/02/25\"),\"ano\" ] = 2020\n",
        "df.loc[(df[\"data\"]>=\"2021/05/29\") & (df[\"data\"]<=\"2021/12/09\"),\"ano\" ] = 2021\n"
      ],
      "metadata": {
        "id": "UL7YQJTqZvKp"
      },
      "execution_count": 105,
      "outputs": []
    },
    {
      "cell_type": "code",
      "source": [
        "#Validando alteração anterior\n",
        "df[(df[\"ano\"]==2020)].data.unique()"
      ],
      "metadata": {
        "id": "kiRccLqscmzz",
        "outputId": "f2708ca5-2179-4cfd-9717-614abdc7b5ac",
        "colab": {
          "base_uri": "https://localhost:8080/"
        }
      },
      "execution_count": 106,
      "outputs": [
        {
          "output_type": "execute_result",
          "data": {
            "text/plain": [
              "array(['2020-08-08T00:00:00.000000000', '2020-08-09T00:00:00.000000000',\n",
              "       '2020-08-12T00:00:00.000000000', '2020-08-13T00:00:00.000000000',\n",
              "       '2020-08-15T00:00:00.000000000', '2020-08-16T00:00:00.000000000',\n",
              "       '2020-08-19T00:00:00.000000000', '2020-08-20T00:00:00.000000000',\n",
              "       '2020-08-22T00:00:00.000000000', '2020-08-23T00:00:00.000000000',\n",
              "       '2020-08-26T00:00:00.000000000', '2020-08-29T00:00:00.000000000',\n",
              "       '2020-08-30T00:00:00.000000000', '2020-09-02T00:00:00.000000000',\n",
              "       '2020-09-03T00:00:00.000000000', '2020-09-05T00:00:00.000000000',\n",
              "       '2020-09-06T00:00:00.000000000', '2020-09-09T00:00:00.000000000',\n",
              "       '2020-09-10T00:00:00.000000000', '2020-09-12T00:00:00.000000000',\n",
              "       '2020-09-13T00:00:00.000000000', '2020-09-16T00:00:00.000000000',\n",
              "       '2020-09-19T00:00:00.000000000', '2020-09-20T00:00:00.000000000',\n",
              "       '2020-09-23T00:00:00.000000000', '2020-09-26T00:00:00.000000000',\n",
              "       '2020-09-27T00:00:00.000000000', '2020-09-28T00:00:00.000000000',\n",
              "       '2020-09-30T00:00:00.000000000', '2020-10-03T00:00:00.000000000',\n",
              "       '2020-10-04T00:00:00.000000000', '2020-10-07T00:00:00.000000000',\n",
              "       '2020-10-08T00:00:00.000000000', '2020-10-10T00:00:00.000000000',\n",
              "       '2020-10-11T00:00:00.000000000', '2020-10-13T00:00:00.000000000',\n",
              "       '2020-10-14T00:00:00.000000000', '2020-10-15T00:00:00.000000000',\n",
              "       '2020-10-16T00:00:00.000000000', '2020-10-17T00:00:00.000000000',\n",
              "       '2020-10-18T00:00:00.000000000', '2020-10-19T00:00:00.000000000',\n",
              "       '2020-10-21T00:00:00.000000000', '2020-10-24T00:00:00.000000000',\n",
              "       '2020-10-25T00:00:00.000000000', '2020-10-31T00:00:00.000000000',\n",
              "       '2020-11-01T00:00:00.000000000', '2020-11-02T00:00:00.000000000',\n",
              "       '2020-11-07T00:00:00.000000000', '2020-11-08T00:00:00.000000000',\n",
              "       '2020-11-11T00:00:00.000000000', '2020-11-14T00:00:00.000000000',\n",
              "       '2020-11-16T00:00:00.000000000', '2020-11-18T00:00:00.000000000',\n",
              "       '2020-11-19T00:00:00.000000000', '2020-11-20T00:00:00.000000000',\n",
              "       '2020-11-21T00:00:00.000000000', '2020-11-22T00:00:00.000000000',\n",
              "       '2020-11-23T00:00:00.000000000', '2020-11-25T00:00:00.000000000',\n",
              "       '2020-11-26T00:00:00.000000000', '2020-11-28T00:00:00.000000000',\n",
              "       '2020-11-30T00:00:00.000000000', '2020-12-02T00:00:00.000000000',\n",
              "       '2020-12-03T00:00:00.000000000', '2020-12-05T00:00:00.000000000',\n",
              "       '2020-12-06T00:00:00.000000000', '2020-12-07T00:00:00.000000000',\n",
              "       '2020-12-09T00:00:00.000000000', '2020-12-12T00:00:00.000000000',\n",
              "       '2020-12-13T00:00:00.000000000', '2020-12-16T00:00:00.000000000',\n",
              "       '2020-12-19T00:00:00.000000000', '2020-12-20T00:00:00.000000000',\n",
              "       '2020-12-21T00:00:00.000000000', '2020-12-26T00:00:00.000000000',\n",
              "       '2020-12-27T00:00:00.000000000', '2021-01-06T00:00:00.000000000',\n",
              "       '2021-01-07T00:00:00.000000000', '2021-01-09T00:00:00.000000000',\n",
              "       '2021-01-10T00:00:00.000000000', '2021-01-11T00:00:00.000000000',\n",
              "       '2021-01-13T00:00:00.000000000', '2021-01-15T00:00:00.000000000',\n",
              "       '2021-01-16T00:00:00.000000000', '2021-01-17T00:00:00.000000000',\n",
              "       '2021-01-18T00:00:00.000000000', '2021-01-20T00:00:00.000000000',\n",
              "       '2021-01-21T00:00:00.000000000', '2021-01-23T00:00:00.000000000',\n",
              "       '2021-01-24T00:00:00.000000000', '2021-01-25T00:00:00.000000000',\n",
              "       '2021-01-26T00:00:00.000000000', '2021-01-28T00:00:00.000000000',\n",
              "       '2021-01-31T00:00:00.000000000', '2021-02-01T00:00:00.000000000',\n",
              "       '2021-02-02T00:00:00.000000000', '2021-02-03T00:00:00.000000000',\n",
              "       '2021-02-04T00:00:00.000000000', '2021-02-05T00:00:00.000000000',\n",
              "       '2021-02-06T00:00:00.000000000', '2021-02-07T00:00:00.000000000',\n",
              "       '2021-02-08T00:00:00.000000000', '2021-02-10T00:00:00.000000000',\n",
              "       '2021-02-13T00:00:00.000000000', '2021-02-14T00:00:00.000000000',\n",
              "       '2021-02-15T00:00:00.000000000', '2021-02-17T00:00:00.000000000',\n",
              "       '2021-02-19T00:00:00.000000000', '2021-02-20T00:00:00.000000000',\n",
              "       '2021-02-21T00:00:00.000000000', '2021-02-22T00:00:00.000000000',\n",
              "       '2021-02-25T00:00:00.000000000'], dtype='datetime64[ns]')"
            ]
          },
          "metadata": {},
          "execution_count": 106
        }
      ]
    },
    {
      "cell_type": "code",
      "source": [
        "df.tail()"
      ],
      "metadata": {
        "id": "eG2ZIFIzcL4x",
        "outputId": "803ad86b-83d7-4b82-9f39-b1b0e8037f22",
        "colab": {
          "base_uri": "https://localhost:8080/",
          "height": 288
        }
      },
      "execution_count": 115,
      "outputs": [
        {
          "output_type": "execute_result",
          "data": {
            "text/plain": [
              "       partida_id  rodada_x          clube  chutes  chutes_no_alvo posse_de_bola  passes precisao_passes  faltas  cartao_amarelo  cartao_vermelho  impedimentos  escanteios       data       mandante    visitante formacao_mandante formacao_visitante vencedor  mandante_Placar  visitante_Placar   ano mv\n",
              "16045        8023        38    Atletico-MG      17               7           41%     351             82%      19               6                0             0           4 2022-11-13    Corinthians  Atletico-MG           4-1-4-1            4-2-3-1        V                0                 1  2022  v\n",
              "16046        8024        38  Internacional      15               8           48%     287             77%      13               2                0             1           6 2022-11-13  Internacional    Palmeiras           4-2-3-1            4-2-3-1        V                3                 0  2022  m\n",
              "16047        8024        38      Palmeiras      11               2           52%     306             82%      17               3                0             2           5 2022-11-13  Internacional    Palmeiras           4-2-3-1            4-2-3-1        D                3                 0  2022  v\n",
              "16048        8025        38          Goias       6               2           35%     330             80%      12               2                0             1           3 2022-11-13          Goias    Sao Paulo           4-2-3-1          4-1-2-1-2        D                0                 4  2022  m\n",
              "16049        8025        38      Sao Paulo      13               7           65%     591             90%      14               1                0             0           4 2022-11-13          Goias    Sao Paulo           4-2-3-1          4-1-2-1-2        V                0                 4  2022  v"
            ],
            "text/html": [
              "\n",
              "  <div id=\"df-fd083697-a114-4ec6-94ed-8c58311cb921\">\n",
              "    <div class=\"colab-df-container\">\n",
              "      <div>\n",
              "<style scoped>\n",
              "    .dataframe tbody tr th:only-of-type {\n",
              "        vertical-align: middle;\n",
              "    }\n",
              "\n",
              "    .dataframe tbody tr th {\n",
              "        vertical-align: top;\n",
              "    }\n",
              "\n",
              "    .dataframe thead th {\n",
              "        text-align: right;\n",
              "    }\n",
              "</style>\n",
              "<table border=\"1\" class=\"dataframe\">\n",
              "  <thead>\n",
              "    <tr style=\"text-align: right;\">\n",
              "      <th></th>\n",
              "      <th>partida_id</th>\n",
              "      <th>rodada_x</th>\n",
              "      <th>clube</th>\n",
              "      <th>chutes</th>\n",
              "      <th>chutes_no_alvo</th>\n",
              "      <th>posse_de_bola</th>\n",
              "      <th>passes</th>\n",
              "      <th>precisao_passes</th>\n",
              "      <th>faltas</th>\n",
              "      <th>cartao_amarelo</th>\n",
              "      <th>cartao_vermelho</th>\n",
              "      <th>impedimentos</th>\n",
              "      <th>escanteios</th>\n",
              "      <th>data</th>\n",
              "      <th>mandante</th>\n",
              "      <th>visitante</th>\n",
              "      <th>formacao_mandante</th>\n",
              "      <th>formacao_visitante</th>\n",
              "      <th>vencedor</th>\n",
              "      <th>mandante_Placar</th>\n",
              "      <th>visitante_Placar</th>\n",
              "      <th>ano</th>\n",
              "      <th>mv</th>\n",
              "    </tr>\n",
              "  </thead>\n",
              "  <tbody>\n",
              "    <tr>\n",
              "      <th>16045</th>\n",
              "      <td>8023</td>\n",
              "      <td>38</td>\n",
              "      <td>Atletico-MG</td>\n",
              "      <td>17</td>\n",
              "      <td>7</td>\n",
              "      <td>41%</td>\n",
              "      <td>351</td>\n",
              "      <td>82%</td>\n",
              "      <td>19</td>\n",
              "      <td>6</td>\n",
              "      <td>0</td>\n",
              "      <td>0</td>\n",
              "      <td>4</td>\n",
              "      <td>2022-11-13</td>\n",
              "      <td>Corinthians</td>\n",
              "      <td>Atletico-MG</td>\n",
              "      <td>4-1-4-1</td>\n",
              "      <td>4-2-3-1</td>\n",
              "      <td>V</td>\n",
              "      <td>0</td>\n",
              "      <td>1</td>\n",
              "      <td>2022</td>\n",
              "      <td>v</td>\n",
              "    </tr>\n",
              "    <tr>\n",
              "      <th>16046</th>\n",
              "      <td>8024</td>\n",
              "      <td>38</td>\n",
              "      <td>Internacional</td>\n",
              "      <td>15</td>\n",
              "      <td>8</td>\n",
              "      <td>48%</td>\n",
              "      <td>287</td>\n",
              "      <td>77%</td>\n",
              "      <td>13</td>\n",
              "      <td>2</td>\n",
              "      <td>0</td>\n",
              "      <td>1</td>\n",
              "      <td>6</td>\n",
              "      <td>2022-11-13</td>\n",
              "      <td>Internacional</td>\n",
              "      <td>Palmeiras</td>\n",
              "      <td>4-2-3-1</td>\n",
              "      <td>4-2-3-1</td>\n",
              "      <td>V</td>\n",
              "      <td>3</td>\n",
              "      <td>0</td>\n",
              "      <td>2022</td>\n",
              "      <td>m</td>\n",
              "    </tr>\n",
              "    <tr>\n",
              "      <th>16047</th>\n",
              "      <td>8024</td>\n",
              "      <td>38</td>\n",
              "      <td>Palmeiras</td>\n",
              "      <td>11</td>\n",
              "      <td>2</td>\n",
              "      <td>52%</td>\n",
              "      <td>306</td>\n",
              "      <td>82%</td>\n",
              "      <td>17</td>\n",
              "      <td>3</td>\n",
              "      <td>0</td>\n",
              "      <td>2</td>\n",
              "      <td>5</td>\n",
              "      <td>2022-11-13</td>\n",
              "      <td>Internacional</td>\n",
              "      <td>Palmeiras</td>\n",
              "      <td>4-2-3-1</td>\n",
              "      <td>4-2-3-1</td>\n",
              "      <td>D</td>\n",
              "      <td>3</td>\n",
              "      <td>0</td>\n",
              "      <td>2022</td>\n",
              "      <td>v</td>\n",
              "    </tr>\n",
              "    <tr>\n",
              "      <th>16048</th>\n",
              "      <td>8025</td>\n",
              "      <td>38</td>\n",
              "      <td>Goias</td>\n",
              "      <td>6</td>\n",
              "      <td>2</td>\n",
              "      <td>35%</td>\n",
              "      <td>330</td>\n",
              "      <td>80%</td>\n",
              "      <td>12</td>\n",
              "      <td>2</td>\n",
              "      <td>0</td>\n",
              "      <td>1</td>\n",
              "      <td>3</td>\n",
              "      <td>2022-11-13</td>\n",
              "      <td>Goias</td>\n",
              "      <td>Sao Paulo</td>\n",
              "      <td>4-2-3-1</td>\n",
              "      <td>4-1-2-1-2</td>\n",
              "      <td>D</td>\n",
              "      <td>0</td>\n",
              "      <td>4</td>\n",
              "      <td>2022</td>\n",
              "      <td>m</td>\n",
              "    </tr>\n",
              "    <tr>\n",
              "      <th>16049</th>\n",
              "      <td>8025</td>\n",
              "      <td>38</td>\n",
              "      <td>Sao Paulo</td>\n",
              "      <td>13</td>\n",
              "      <td>7</td>\n",
              "      <td>65%</td>\n",
              "      <td>591</td>\n",
              "      <td>90%</td>\n",
              "      <td>14</td>\n",
              "      <td>1</td>\n",
              "      <td>0</td>\n",
              "      <td>0</td>\n",
              "      <td>4</td>\n",
              "      <td>2022-11-13</td>\n",
              "      <td>Goias</td>\n",
              "      <td>Sao Paulo</td>\n",
              "      <td>4-2-3-1</td>\n",
              "      <td>4-1-2-1-2</td>\n",
              "      <td>V</td>\n",
              "      <td>0</td>\n",
              "      <td>4</td>\n",
              "      <td>2022</td>\n",
              "      <td>v</td>\n",
              "    </tr>\n",
              "  </tbody>\n",
              "</table>\n",
              "</div>\n",
              "      <button class=\"colab-df-convert\" onclick=\"convertToInteractive('df-fd083697-a114-4ec6-94ed-8c58311cb921')\"\n",
              "              title=\"Convert this dataframe to an interactive table.\"\n",
              "              style=\"display:none;\">\n",
              "        \n",
              "  <svg xmlns=\"http://www.w3.org/2000/svg\" height=\"24px\"viewBox=\"0 0 24 24\"\n",
              "       width=\"24px\">\n",
              "    <path d=\"M0 0h24v24H0V0z\" fill=\"none\"/>\n",
              "    <path d=\"M18.56 5.44l.94 2.06.94-2.06 2.06-.94-2.06-.94-.94-2.06-.94 2.06-2.06.94zm-11 1L8.5 8.5l.94-2.06 2.06-.94-2.06-.94L8.5 2.5l-.94 2.06-2.06.94zm10 10l.94 2.06.94-2.06 2.06-.94-2.06-.94-.94-2.06-.94 2.06-2.06.94z\"/><path d=\"M17.41 7.96l-1.37-1.37c-.4-.4-.92-.59-1.43-.59-.52 0-1.04.2-1.43.59L10.3 9.45l-7.72 7.72c-.78.78-.78 2.05 0 2.83L4 21.41c.39.39.9.59 1.41.59.51 0 1.02-.2 1.41-.59l7.78-7.78 2.81-2.81c.8-.78.8-2.07 0-2.86zM5.41 20L4 18.59l7.72-7.72 1.47 1.35L5.41 20z\"/>\n",
              "  </svg>\n",
              "      </button>\n",
              "      \n",
              "  <style>\n",
              "    .colab-df-container {\n",
              "      display:flex;\n",
              "      flex-wrap:wrap;\n",
              "      gap: 12px;\n",
              "    }\n",
              "\n",
              "    .colab-df-convert {\n",
              "      background-color: #E8F0FE;\n",
              "      border: none;\n",
              "      border-radius: 50%;\n",
              "      cursor: pointer;\n",
              "      display: none;\n",
              "      fill: #1967D2;\n",
              "      height: 32px;\n",
              "      padding: 0 0 0 0;\n",
              "      width: 32px;\n",
              "    }\n",
              "\n",
              "    .colab-df-convert:hover {\n",
              "      background-color: #E2EBFA;\n",
              "      box-shadow: 0px 1px 2px rgba(60, 64, 67, 0.3), 0px 1px 3px 1px rgba(60, 64, 67, 0.15);\n",
              "      fill: #174EA6;\n",
              "    }\n",
              "\n",
              "    [theme=dark] .colab-df-convert {\n",
              "      background-color: #3B4455;\n",
              "      fill: #D2E3FC;\n",
              "    }\n",
              "\n",
              "    [theme=dark] .colab-df-convert:hover {\n",
              "      background-color: #434B5C;\n",
              "      box-shadow: 0px 1px 3px 1px rgba(0, 0, 0, 0.15);\n",
              "      filter: drop-shadow(0px 1px 2px rgba(0, 0, 0, 0.3));\n",
              "      fill: #FFFFFF;\n",
              "    }\n",
              "  </style>\n",
              "\n",
              "      <script>\n",
              "        const buttonEl =\n",
              "          document.querySelector('#df-fd083697-a114-4ec6-94ed-8c58311cb921 button.colab-df-convert');\n",
              "        buttonEl.style.display =\n",
              "          google.colab.kernel.accessAllowed ? 'block' : 'none';\n",
              "\n",
              "        async function convertToInteractive(key) {\n",
              "          const element = document.querySelector('#df-fd083697-a114-4ec6-94ed-8c58311cb921');\n",
              "          const dataTable =\n",
              "            await google.colab.kernel.invokeFunction('convertToInteractive',\n",
              "                                                     [key], {});\n",
              "          if (!dataTable) return;\n",
              "\n",
              "          const docLinkHtml = 'Like what you see? Visit the ' +\n",
              "            '<a target=\"_blank\" href=https://colab.research.google.com/notebooks/data_table.ipynb>data table notebook</a>'\n",
              "            + ' to learn more about interactive tables.';\n",
              "          element.innerHTML = '';\n",
              "          dataTable['output_type'] = 'display_data';\n",
              "          await google.colab.output.renderOutput(dataTable, element);\n",
              "          const docLink = document.createElement('div');\n",
              "          docLink.innerHTML = docLinkHtml;\n",
              "          element.appendChild(docLink);\n",
              "        }\n",
              "      </script>\n",
              "    </div>\n",
              "  </div>\n",
              "  "
            ]
          },
          "metadata": {},
          "execution_count": 115
        }
      ]
    },
    {
      "cell_type": "code",
      "source": [
        "df.vencedor.unique()"
      ],
      "metadata": {
        "id": "qmG-MfYfeNku",
        "outputId": "d802489f-7cc3-4a4e-bb3a-799dd9607dc6",
        "colab": {
          "base_uri": "https://localhost:8080/"
        }
      },
      "execution_count": 112,
      "outputs": [
        {
          "output_type": "execute_result",
          "data": {
            "text/plain": [
              "array(['V', 'D', 'E'], dtype=object)"
            ]
          },
          "metadata": {},
          "execution_count": 112
        }
      ]
    },
    {
      "cell_type": "code",
      "source": [
        "df.loc[(df['vencedor']==df['clube']),'vencedor'] = 'V'\n",
        "df.loc[(df['vencedor']=='-'),'vencedor'] = 'E'\n",
        "df.loc[(df['vencedor']!='V') & (df['vencedor']!='E'),'vencedor'] = 'D'"
      ],
      "metadata": {
        "id": "tP_QWgiTdffx"
      },
      "execution_count": 109,
      "outputs": []
    },
    {
      "cell_type": "code",
      "source": [
        "df.loc[(df['clube'] == df['mandante']),'mv'] = 'm'\n",
        "df.loc[(df['clube'] == df['visitante']),'mv'] = 'v'"
      ],
      "metadata": {
        "id": "BhwE3E8wfExy"
      },
      "execution_count": 114,
      "outputs": []
    },
    {
      "cell_type": "code",
      "source": [],
      "metadata": {
        "id": "6-ioX1uLe6FF"
      },
      "execution_count": null,
      "outputs": []
    },
    {
      "cell_type": "code",
      "execution_count": 110,
      "metadata": {
        "id": "kPgQyAkTDL-z"
      },
      "outputs": [],
      "source": [
        "#innerjoin = pd.merge(df,df_estatisticas,right_on='partida_id' ,left_on='ID',how='inner')\n",
        "#innerjoin[(innerjoin['ID'] == 8017)]"
      ]
    },
    {
      "cell_type": "code",
      "execution_count": 111,
      "metadata": {
        "colab": {
          "base_uri": "https://localhost:8080/",
          "height": 237
        },
        "id": "OPoWKIHRONb3",
        "outputId": "587f672d-f77a-4970-a1ee-4acb8cef705a"
      },
      "outputs": [
        {
          "output_type": "error",
          "ename": "NameError",
          "evalue": "ignored",
          "traceback": [
            "\u001b[0;31m---------------------------------------------------------------------------\u001b[0m",
            "\u001b[0;31mNameError\u001b[0m                                 Traceback (most recent call last)",
            "\u001b[0;32m<ipython-input-111-23d4658bab9a>\u001b[0m in \u001b[0;36m<module>\u001b[0;34m\u001b[0m\n\u001b[0;32m----> 1\u001b[0;31m \u001b[0mdf_2020_2022\u001b[0m\u001b[0;34m.\u001b[0m\u001b[0mloc\u001b[0m\u001b[0;34m[\u001b[0m\u001b[0;34m(\u001b[0m\u001b[0mdf_2020_2022\u001b[0m\u001b[0;34m.\u001b[0m\u001b[0mclube\u001b[0m \u001b[0;34m==\u001b[0m \u001b[0mdf_2020_2022\u001b[0m\u001b[0;34m.\u001b[0m\u001b[0mmandante\u001b[0m\u001b[0;34m)\u001b[0m\u001b[0;34m,\u001b[0m\u001b[0;34m'mandate_'\u001b[0m\u001b[0;34m]\u001b[0m \u001b[0;34m=\u001b[0m \u001b[0;36m1\u001b[0m\u001b[0;34m\u001b[0m\u001b[0;34m\u001b[0m\u001b[0m\n\u001b[0m\u001b[1;32m      2\u001b[0m \u001b[0mdf_2020_2022\u001b[0m\u001b[0;34m.\u001b[0m\u001b[0mloc\u001b[0m\u001b[0;34m[\u001b[0m\u001b[0;34m(\u001b[0m\u001b[0mdf_2020_2022\u001b[0m\u001b[0;34m.\u001b[0m\u001b[0mclube\u001b[0m \u001b[0;34m==\u001b[0m \u001b[0mdf_2020_2022\u001b[0m\u001b[0;34m.\u001b[0m\u001b[0mvisitante\u001b[0m\u001b[0;34m)\u001b[0m\u001b[0;34m,\u001b[0m\u001b[0;34m'visitante_'\u001b[0m\u001b[0;34m]\u001b[0m \u001b[0;34m=\u001b[0m \u001b[0;36m1\u001b[0m\u001b[0;34m\u001b[0m\u001b[0;34m\u001b[0m\u001b[0m\n\u001b[1;32m      3\u001b[0m \u001b[0;34m\u001b[0m\u001b[0m\n\u001b[1;32m      4\u001b[0m \u001b[0mdf_2020_2022\u001b[0m\u001b[0;34m.\u001b[0m\u001b[0mloc\u001b[0m\u001b[0;34m[\u001b[0m\u001b[0;34m(\u001b[0m\u001b[0mdf_2020_2022\u001b[0m\u001b[0;34m.\u001b[0m\u001b[0mclube\u001b[0m \u001b[0;34m==\u001b[0m \u001b[0mdf_2020_2022\u001b[0m\u001b[0;34m.\u001b[0m\u001b[0mvencedor\u001b[0m\u001b[0;34m)\u001b[0m\u001b[0;34m,\u001b[0m\u001b[0;34m'resultado'\u001b[0m\u001b[0;34m]\u001b[0m \u001b[0;34m=\u001b[0m \u001b[0;36m1\u001b[0m\u001b[0;34m\u001b[0m\u001b[0;34m\u001b[0m\u001b[0m\n\u001b[1;32m      5\u001b[0m \u001b[0mdf_2020_2022\u001b[0m\u001b[0;34m.\u001b[0m\u001b[0mloc\u001b[0m\u001b[0;34m[\u001b[0m\u001b[0;34m(\u001b[0m\u001b[0mdf_2020_2022\u001b[0m\u001b[0;34m.\u001b[0m\u001b[0mvencedor\u001b[0m \u001b[0;34m==\u001b[0m \u001b[0;34m'-'\u001b[0m\u001b[0;34m)\u001b[0m\u001b[0;34m,\u001b[0m\u001b[0;34m'resultado'\u001b[0m\u001b[0;34m]\u001b[0m \u001b[0;34m=\u001b[0m \u001b[0;36m3\u001b[0m\u001b[0;34m\u001b[0m\u001b[0;34m\u001b[0m\u001b[0m\n",
            "\u001b[0;31mNameError\u001b[0m: name 'df_2020_2022' is not defined"
          ]
        }
      ],
      "source": [
        "df_2020_2022.loc[(df_2020_2022.clube == df_2020_2022.mandante),'mandate_'] = 1\n",
        "df_2020_2022.loc[(df_2020_2022.clube == df_2020_2022.visitante),'visitante_'] = 1\n",
        "\n",
        "df_2020_2022.loc[(df_2020_2022.clube == df_2020_2022.vencedor),'resultado'] = 1\n",
        "df_2020_2022.loc[(df_2020_2022.vencedor == '-'),'resultado'] = 3\n",
        "\n",
        "df_2020_2022['mandate_'].fillna(value=0, inplace=True)\n",
        "df_2020_2022['visitante_'].fillna(value=0, inplace=True)\n",
        "df_2020_2022['resultado'].fillna(value=2, inplace=True)\n",
        "\n",
        "\n",
        "df_2020_2022 = df_2020_2022.drop('mandante',axis=1)\n",
        "df_2020_2022 = df_2020_2022.drop('visitante',axis=1)\n",
        "df_2020_2022 = df_2020_2022.drop('vencedor',axis=1)\n",
        "\n",
        "\n",
        "df_2020_2022.info()"
      ]
    },
    {
      "cell_type": "code",
      "execution_count": null,
      "metadata": {
        "id": "MZBPmY6P8-2N"
      },
      "outputs": [],
      "source": [
        "df_2020_2022[['partida_id','clube','data','mandate_','visitante_','resultado']]"
      ]
    },
    {
      "cell_type": "code",
      "execution_count": null,
      "metadata": {
        "id": "HwQk5DucNtlW"
      },
      "outputs": [],
      "source": [
        "manda = df_2020_2022.loc[(df_2020_2022['mandate_']==1)]\n",
        "visit = df_2020_2022.loc[(df_2020_2022['visitante_']==1)]\n"
      ]
    },
    {
      "cell_type": "code",
      "execution_count": null,
      "metadata": {
        "id": "XAH3J0P18-2O"
      },
      "outputs": [],
      "source": [
        "empate_m = len(manda[manda.resultado==3])\n",
        "vitoria_m = len(manda[manda.resultado==1])\n",
        "derrota_m = len(manda[manda.resultado==2])\n",
        "val_m = [vitoria_m,empate_m,derrota_m]"
      ]
    },
    {
      "cell_type": "code",
      "execution_count": null,
      "metadata": {
        "id": "wgNsLheN8-2O"
      },
      "outputs": [],
      "source": [
        "empate_v = len(visit[visit.resultado==3])\n",
        "vitoria_v = len(visit[visit.resultado==1])\n",
        "derrota_v = len(visit[visit.resultado==2])\n",
        "val_v = [vitoria_v,empate_v,derrota_v]"
      ]
    },
    {
      "cell_type": "code",
      "execution_count": null,
      "metadata": {
        "id": "Ve_Zqcad8-2Q"
      },
      "outputs": [],
      "source": [
        "x = np.arange(3)\n",
        "plt.title(\"Resultados dos Mandantes\")\n",
        "plt.bar(x, val_m)\n",
        "plt.xticks(x, ('Vitoria', 'Empate', 'Derrota'))\n",
        "plt.show()"
      ]
    },
    {
      "cell_type": "code",
      "execution_count": null,
      "metadata": {
        "id": "ap33jzyx8-2Q"
      },
      "outputs": [],
      "source": [
        "x = np.arange(3)\n",
        "plt.title(\"Resultados dos Visitante\")\n",
        "plt.bar(x, val_v)\n",
        "plt.xticks(x, ('Vitoria', 'Empate', 'Derrota'))\n",
        "plt.show()"
      ]
    },
    {
      "cell_type": "code",
      "execution_count": null,
      "metadata": {
        "id": "J4zkzAr58-2R"
      },
      "outputs": [],
      "source": [
        "print(\"Media de Passes de um Time Mandante Vitorioso : \" , manda[manda.resultado==1].passes.mean())\n",
        "print(\"Média de Passes  de um Time Mandante Derrotado: \" , manda[manda.resultado==2].passes.mean())\n",
        "print(\"Média de Passes  de um Time Mandante EMPATE: \" , manda[manda.resultado==3].passes.mean())\n",
        "print()\n",
        "print(\"#################\")\n",
        "print()\n",
        "print(\"Media de Passes  de um Time Visitante Vitorioso: \",visit[visit.resultado==1].passes.mean())\n",
        "print(\"Média de Passes  de um Time Visitante Derrotado: \" , visit[visit.resultado==2].passes.mean())\n",
        "print(\"Média de Passes  de um Time Visitante EMPATE: \" , visit[visit.resultado==3].passes.mean())"
      ]
    },
    {
      "cell_type": "code",
      "execution_count": null,
      "metadata": {
        "id": "g8vWuw4e8-2S"
      },
      "outputs": [],
      "source": [
        "print(\"Media de chutes de um Time Mandante Vitorioso : \" , manda[manda.resultado==1].chutes.mean())\n",
        "print(\"Média de chutes de um Time Mandante Derrotado: \" , manda[manda.resultado==2].chutes.mean())\n",
        "print(\"Média de chutes de um Time Mandante EMPATE: \" , manda[manda.resultado==3].chutes.mean())\n",
        "print()\n",
        "print(\"#################\")\n",
        "print()\n",
        "print(\"Media de chutes de um Time Visitante Vitorioso: \",visit[visit.resultado==1].chutes.mean())\n",
        "print(\"Média de chutes de um Time Visitante Derrotado: \" , visit[visit.resultado==2].chutes.mean())\n",
        "print(\"Média de chutes de um Time Visitante EMPATE: \" , visit[visit.resultado==3].chutes.mean())"
      ]
    },
    {
      "cell_type": "code",
      "execution_count": null,
      "metadata": {
        "id": "a9ZhoWau8-2S"
      },
      "outputs": [],
      "source": [
        "manda"
      ]
    }
  ],
  "metadata": {
    "colab": {
      "provenance": [],
      "include_colab_link": true
    },
    "gpuClass": "standard",
    "kernelspec": {
      "display_name": "Python 3",
      "name": "python3"
    },
    "language_info": {
      "codemirror_mode": {
        "name": "ipython",
        "version": 3
      },
      "file_extension": ".py",
      "mimetype": "text/x-python",
      "name": "python",
      "nbconvert_exporter": "python",
      "pygments_lexer": "ipython3",
      "version": "3.10.10"
    },
    "orig_nbformat": 4
  },
  "nbformat": 4,
  "nbformat_minor": 0
}