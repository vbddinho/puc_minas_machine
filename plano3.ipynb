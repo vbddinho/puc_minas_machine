{
  "cells": [
    {
      "cell_type": "markdown",
      "metadata": {
        "colab_type": "text",
        "id": "view-in-github"
      },
      "source": [
        "<a href=\"https://colab.research.google.com/github/vbddinho/puc_minas_machine/blob/main/plano3.ipynb\" target=\"_parent\"><img src=\"https://colab.research.google.com/assets/colab-badge.svg\" alt=\"Open In Colab\"/></a>"
      ]
    },
    {
      "cell_type": "code",
      "execution_count": 1,
      "metadata": {
        "id": "zptGYXbqCjbT"
      },
      "outputs": [],
      "source": [
        "import pandas as pd \n",
        "import numpy as np \n",
        "import matplotlib.pyplot as plt\n",
        "import seaborn as sns"
      ]
    },
    {
      "cell_type": "code",
      "execution_count": 2,
      "metadata": {
        "id": "jKF99ieIC_zx"
      },
      "outputs": [],
      "source": [
        "df_estatisticas = pd.read_csv('dados/campeonato-brasileiro-estatisticas-full.csv', sep=',',encoding = \"UTF-8\")\n",
        "df_jogos = pd.read_csv('dados/campeonato-brasileiro-full.csv', sep=',',encoding = \"UTF-8\")\n",
        "\n"
      ]
    },
    {
      "cell_type": "code",
      "execution_count": 3,
      "metadata": {
        "colab": {
          "base_uri": "https://localhost:8080/"
        },
        "id": "09B27gcFDVuz",
        "outputId": "ea2448fe-b9d9-4831-f271-ab62acf66b75"
      },
      "outputs": [
        {
          "name": "stdout",
          "output_type": "stream",
          "text": [
            "<class 'pandas.core.frame.DataFrame'>\n",
            "RangeIndex: 8025 entries, 0 to 8024\n",
            "Data columns (total 16 columns):\n",
            " #   Column              Non-Null Count  Dtype \n",
            "---  ------              --------------  ----- \n",
            " 0   ID                  8025 non-null   int64 \n",
            " 1   rodata              8025 non-null   int64 \n",
            " 2   data                8025 non-null   object\n",
            " 3   hora                8025 non-null   object\n",
            " 4   mandante            8025 non-null   object\n",
            " 5   visitante           8025 non-null   object\n",
            " 6   formacao_mandante   3051 non-null   object\n",
            " 7   formacao_visitante  3051 non-null   object\n",
            " 8   tecnico_mandante    3415 non-null   object\n",
            " 9   tecnico_visitante   3415 non-null   object\n",
            " 10  vencedor            8025 non-null   object\n",
            " 11  arena               8025 non-null   object\n",
            " 12  mandante_Placar     8025 non-null   int64 \n",
            " 13  visitante_Placar    8025 non-null   int64 \n",
            " 14  mandante_Estado     8025 non-null   object\n",
            " 15  visitante_Estado    8025 non-null   object\n",
            "dtypes: int64(4), object(12)\n",
            "memory usage: 1003.2+ KB\n"
          ]
        }
      ],
      "source": [
        "df_jogos.info() "
      ]
    },
    {
      "cell_type": "code",
      "execution_count": 4,
      "metadata": {
        "colab": {
          "base_uri": "https://localhost:8080/"
        },
        "id": "UOkNoU_nENc9",
        "outputId": "a1cedaa4-9e88-4df4-ba5a-47b6f3ae4145"
      },
      "outputs": [
        {
          "name": "stdout",
          "output_type": "stream",
          "text": [
            "<class 'pandas.core.frame.DataFrame'>\n",
            "RangeIndex: 16050 entries, 0 to 16049\n",
            "Data columns (total 13 columns):\n",
            " #   Column           Non-Null Count  Dtype \n",
            "---  ------           --------------  ----- \n",
            " 0   partida_id       16050 non-null  int64 \n",
            " 1   rodata           16050 non-null  int64 \n",
            " 2   clube            16050 non-null  object\n",
            " 3   chutes           16050 non-null  int64 \n",
            " 4   chutes_no_alvo   16050 non-null  int64 \n",
            " 5   posse_de_bola    6838 non-null   object\n",
            " 6   passes           16050 non-null  int64 \n",
            " 7   precisao_passes  6838 non-null   object\n",
            " 8   faltas           16050 non-null  int64 \n",
            " 9   cartao_amarelo   16050 non-null  int64 \n",
            " 10  cartao_vermelho  16050 non-null  int64 \n",
            " 11  impedimentos     16050 non-null  int64 \n",
            " 12  escanteios       16050 non-null  int64 \n",
            "dtypes: int64(10), object(3)\n",
            "memory usage: 1.6+ MB\n"
          ]
        }
      ],
      "source": [
        "df_estatisticas.info()"
      ]
    },
    {
      "cell_type": "code",
      "execution_count": 5,
      "metadata": {
        "id": "kPgQyAkTDL-z"
      },
      "outputs": [],
      "source": [
        "#innerjoin = pd.merge(df,df_estatisticas,right_on='partida_id' ,left_on='ID',how='inner')\n",
        "#innerjoin[(innerjoin['ID'] == 8017)]"
      ]
    },
    {
      "cell_type": "code",
      "execution_count": 6,
      "metadata": {
        "id": "2yiRpkV8WV3W"
      },
      "outputs": [],
      "source": [
        "dfT = df_jogos[['ID','vencedor','data']]"
      ]
    },
    {
      "cell_type": "code",
      "execution_count": 7,
      "metadata": {
        "id": "AMIuz5rsD6Ae"
      },
      "outputs": [],
      "source": [
        "innerjoin = pd.merge(df_estatisticas,df_jogos,how='inner', left_on='partida_id',right_on='ID' )"
      ]
    },
    {
      "cell_type": "code",
      "execution_count": 8,
      "metadata": {
        "colab": {
          "base_uri": "https://localhost:8080/"
        },
        "id": "nLHA7jx7WmAU",
        "outputId": "b89c61b4-440e-4c7c-c7fe-1713028141ec"
      },
      "outputs": [
        {
          "data": {
            "text/plain": [
              "partida_id               0\n",
              "rodata_x                 0\n",
              "clube                    0\n",
              "chutes                   0\n",
              "chutes_no_alvo           0\n",
              "posse_de_bola         9212\n",
              "passes                   0\n",
              "precisao_passes       9212\n",
              "faltas                   0\n",
              "cartao_amarelo           0\n",
              "cartao_vermelho          0\n",
              "impedimentos             0\n",
              "escanteios               0\n",
              "ID                       0\n",
              "rodata_y                 0\n",
              "data                     0\n",
              "hora                     0\n",
              "mandante                 0\n",
              "visitante                0\n",
              "formacao_mandante     9948\n",
              "formacao_visitante    9948\n",
              "tecnico_mandante      9220\n",
              "tecnico_visitante     9220\n",
              "vencedor                 0\n",
              "arena                    0\n",
              "mandante_Placar          0\n",
              "visitante_Placar         0\n",
              "mandante_Estado          0\n",
              "visitante_Estado         0\n",
              "dtype: int64"
            ]
          },
          "execution_count": 8,
          "metadata": {},
          "output_type": "execute_result"
        }
      ],
      "source": [
        "innerjoin.isna().sum()"
      ]
    },
    {
      "cell_type": "code",
      "execution_count": 9,
      "metadata": {
        "colab": {
          "base_uri": "https://localhost:8080/"
        },
        "id": "Zw1tumHSXk51",
        "outputId": "3bcd8e03-5557-4431-9245-2cbbcc77327b"
      },
      "outputs": [
        {
          "data": {
            "text/plain": [
              "(16050, 29)"
            ]
          },
          "execution_count": 9,
          "metadata": {},
          "output_type": "execute_result"
        }
      ],
      "source": [
        "innerjoin.shape"
      ]
    },
    {
      "cell_type": "code",
      "execution_count": 10,
      "metadata": {
        "colab": {
          "base_uri": "https://localhost:8080/"
        },
        "id": "cyt0lj33CRnx",
        "outputId": "4bbffecf-8268-4e79-8710-57243787ac6b"
      },
      "outputs": [
        {
          "data": {
            "text/plain": [
              "(2280, 30)"
            ]
          },
          "execution_count": 10,
          "metadata": {},
          "output_type": "execute_result"
        }
      ],
      "source": [
        "#Converte a data do tipo objeto para o tipo datetime e cria a coluna ano\n",
        "innerjoin[\"data\"] = pd.to_datetime(innerjoin[\"data\"],format='%d/%m/%Y',dayfirst=True)\n",
        "df_2020_2022 = innerjoin\n",
        "df_2020_2022[\"ano\"] = df_2020_2022[\"data\"].dt.year\n",
        "\n",
        "# Analise será feita do ano de 2007 até 2022\n",
        "df_2020_2022 = df_2020_2022[(df_2020_2022[\"ano\"]>=2020)]\n",
        "df_2020_2022\n",
        "\n",
        "#indexa dataFrame\n",
        "df_2020_2022.set_index('data')\n",
        "df_2020_2022.shape"
      ]
    },
    {
      "cell_type": "code",
      "execution_count": 11,
      "metadata": {
        "colab": {
          "base_uri": "https://localhost:8080/"
        },
        "id": "F_3aVkOCCpS0",
        "outputId": "8d134dc8-d407-4888-e925-c01707046f23"
      },
      "outputs": [
        {
          "name": "stdout",
          "output_type": "stream",
          "text": [
            "<class 'pandas.core.frame.DataFrame'>\n",
            "Int64Index: 2280 entries, 13770 to 16049\n",
            "Data columns (total 30 columns):\n",
            " #   Column              Non-Null Count  Dtype         \n",
            "---  ------              --------------  -----         \n",
            " 0   partida_id          2280 non-null   int64         \n",
            " 1   rodata_x            2280 non-null   int64         \n",
            " 2   clube               2280 non-null   object        \n",
            " 3   chutes              2280 non-null   int64         \n",
            " 4   chutes_no_alvo      2280 non-null   int64         \n",
            " 5   posse_de_bola       2280 non-null   object        \n",
            " 6   passes              2280 non-null   int64         \n",
            " 7   precisao_passes     2280 non-null   object        \n",
            " 8   faltas              2280 non-null   int64         \n",
            " 9   cartao_amarelo      2280 non-null   int64         \n",
            " 10  cartao_vermelho     2280 non-null   int64         \n",
            " 11  impedimentos        2280 non-null   int64         \n",
            " 12  escanteios          2280 non-null   int64         \n",
            " 13  ID                  2280 non-null   int64         \n",
            " 14  rodata_y            2280 non-null   int64         \n",
            " 15  data                2280 non-null   datetime64[ns]\n",
            " 16  hora                2280 non-null   object        \n",
            " 17  mandante            2280 non-null   object        \n",
            " 18  visitante           2280 non-null   object        \n",
            " 19  formacao_mandante   2280 non-null   object        \n",
            " 20  formacao_visitante  2280 non-null   object        \n",
            " 21  tecnico_mandante    2280 non-null   object        \n",
            " 22  tecnico_visitante   2280 non-null   object        \n",
            " 23  vencedor            2280 non-null   object        \n",
            " 24  arena               2280 non-null   object        \n",
            " 25  mandante_Placar     2280 non-null   int64         \n",
            " 26  visitante_Placar    2280 non-null   int64         \n",
            " 27  mandante_Estado     2280 non-null   object        \n",
            " 28  visitante_Estado    2280 non-null   object        \n",
            " 29  ano                 2280 non-null   int64         \n",
            "dtypes: datetime64[ns](1), int64(15), object(14)\n",
            "memory usage: 552.2+ KB\n"
          ]
        }
      ],
      "source": [
        "df_2020_2022.info()"
      ]
    },
    {
      "cell_type": "code",
      "execution_count": 12,
      "metadata": {
        "colab": {
          "base_uri": "https://localhost:8080/"
        },
        "id": "jkbaEIeKCwQl",
        "outputId": "547d3dd4-314e-4043-8931-38badd8d5e60"
      },
      "outputs": [
        {
          "name": "stderr",
          "output_type": "stream",
          "text": [
            "C:\\Users\\ADM\\AppData\\Local\\Temp\\ipykernel_5044\\2870022053.py:1: SettingWithCopyWarning: \n",
            "A value is trying to be set on a copy of a slice from a DataFrame.\n",
            "Try using .loc[row_indexer,col_indexer] = value instead\n",
            "\n",
            "See the caveats in the documentation: https://pandas.pydata.org/pandas-docs/stable/user_guide/indexing.html#returning-a-view-versus-a-copy\n",
            "  df_2020_2022['temporada'] = df_2020_2022['ano']\n"
          ]
        }
      ],
      "source": [
        "df_2020_2022['temporada'] = df_2020_2022['ano']\n",
        "df_2020_2022.loc[(df_2020_2022[\"data\"]>=\"2020/08/08\") & (df_2020_2022[\"data\"]<=\"2021/02/25\"),\"temporada\" ] = 2020\n",
        "df_2020_2022.loc[(df_2020_2022[\"data\"]>=\"2021/05/29\") & (df_2020_2022[\"data\"]<=\"2021/12/09\"),\"temporada\" ] = 2021"
      ]
    },
    {
      "cell_type": "code",
      "execution_count": 24,
      "metadata": {
        "colab": {
          "base_uri": "https://localhost:8080/",
          "height": 736
        },
        "id": "OPoWKIHRONb3",
        "outputId": "d9f40540-6302-415f-eff7-40ce8792d4c3"
      },
      "outputs": [
        {
          "name": "stdout",
          "output_type": "stream",
          "text": [
            "<class 'pandas.core.frame.DataFrame'>\n",
            "Int64Index: 2280 entries, 13770 to 16049\n",
            "Data columns (total 31 columns):\n",
            " #   Column              Non-Null Count  Dtype         \n",
            "---  ------              --------------  -----         \n",
            " 0   partida_id          2280 non-null   int64         \n",
            " 1   rodata_x            2280 non-null   int64         \n",
            " 2   clube               2280 non-null   object        \n",
            " 3   chutes              2280 non-null   int64         \n",
            " 4   chutes_no_alvo      2280 non-null   int64         \n",
            " 5   posse_de_bola       2280 non-null   object        \n",
            " 6   passes              2280 non-null   int64         \n",
            " 7   precisao_passes     2280 non-null   object        \n",
            " 8   faltas              2280 non-null   int64         \n",
            " 9   cartao_amarelo      2280 non-null   int64         \n",
            " 10  cartao_vermelho     2280 non-null   int64         \n",
            " 11  impedimentos        2280 non-null   int64         \n",
            " 12  escanteios          2280 non-null   int64         \n",
            " 13  ID                  2280 non-null   int64         \n",
            " 14  rodata_y            2280 non-null   int64         \n",
            " 15  data                2280 non-null   datetime64[ns]\n",
            " 16  hora                2280 non-null   object        \n",
            " 17  formacao_mandante   2280 non-null   object        \n",
            " 18  formacao_visitante  2280 non-null   object        \n",
            " 19  tecnico_mandante    2280 non-null   object        \n",
            " 20  tecnico_visitante   2280 non-null   object        \n",
            " 21  arena               2280 non-null   object        \n",
            " 22  mandante_Placar     2280 non-null   int64         \n",
            " 23  visitante_Placar    2280 non-null   int64         \n",
            " 24  mandante_Estado     2280 non-null   object        \n",
            " 25  visitante_Estado    2280 non-null   object        \n",
            " 26  ano                 2280 non-null   int64         \n",
            " 27  temporada           2280 non-null   int64         \n",
            " 28  mandate_            2280 non-null   float64       \n",
            " 29  visitante_          2280 non-null   float64       \n",
            " 30  resultado           2280 non-null   float64       \n",
            "dtypes: datetime64[ns](1), float64(3), int64(16), object(11)\n",
            "memory usage: 570.0+ KB\n"
          ]
        },
        {
          "name": "stderr",
          "output_type": "stream",
          "text": [
            "C:\\Users\\ADM\\AppData\\Local\\Temp\\ipykernel_5044\\702181650.py:7: SettingWithCopyWarning: \n",
            "A value is trying to be set on a copy of a slice from a DataFrame\n",
            "\n",
            "See the caveats in the documentation: https://pandas.pydata.org/pandas-docs/stable/user_guide/indexing.html#returning-a-view-versus-a-copy\n",
            "  df_2020_2022['mandate_'].fillna(value=0, inplace=True)\n",
            "C:\\Users\\ADM\\AppData\\Local\\Temp\\ipykernel_5044\\702181650.py:8: SettingWithCopyWarning: \n",
            "A value is trying to be set on a copy of a slice from a DataFrame\n",
            "\n",
            "See the caveats in the documentation: https://pandas.pydata.org/pandas-docs/stable/user_guide/indexing.html#returning-a-view-versus-a-copy\n",
            "  df_2020_2022['visitante_'].fillna(value=0, inplace=True)\n",
            "C:\\Users\\ADM\\AppData\\Local\\Temp\\ipykernel_5044\\702181650.py:9: SettingWithCopyWarning: \n",
            "A value is trying to be set on a copy of a slice from a DataFrame\n",
            "\n",
            "See the caveats in the documentation: https://pandas.pydata.org/pandas-docs/stable/user_guide/indexing.html#returning-a-view-versus-a-copy\n",
            "  df_2020_2022['resultado'].fillna(value=2, inplace=True)\n"
          ]
        }
      ],
      "source": [
        "df_2020_2022.loc[(df_2020_2022.clube == df_2020_2022.mandante),'mandate_'] = 1\n",
        "df_2020_2022.loc[(df_2020_2022.clube == df_2020_2022.visitante),'visitante_'] = 1\n",
        "\n",
        "df_2020_2022.loc[(df_2020_2022.clube == df_2020_2022.vencedor),'resultado'] = 1\n",
        "df_2020_2022.loc[(df_2020_2022.vencedor == '-'),'resultado'] = 3\n",
        "\n",
        "df_2020_2022['mandate_'].fillna(value=0, inplace=True)\n",
        "df_2020_2022['visitante_'].fillna(value=0, inplace=True)\n",
        "df_2020_2022['resultado'].fillna(value=2, inplace=True)\n",
        "\n",
        "\n",
        "df_2020_2022 = df_2020_2022.drop('mandante',axis=1)\n",
        "df_2020_2022 = df_2020_2022.drop('visitante',axis=1)\n",
        "df_2020_2022 = df_2020_2022.drop('vencedor',axis=1)\n",
        "\n",
        "\n",
        "df_2020_2022.info()"
      ]
    },
    {
      "cell_type": "code",
      "execution_count": 26,
      "metadata": {},
      "outputs": [
        {
          "data": {
            "text/html": [
              "<div>\n",
              "<style scoped>\n",
              "    .dataframe tbody tr th:only-of-type {\n",
              "        vertical-align: middle;\n",
              "    }\n",
              "\n",
              "    .dataframe tbody tr th {\n",
              "        vertical-align: top;\n",
              "    }\n",
              "\n",
              "    .dataframe thead th {\n",
              "        text-align: right;\n",
              "    }\n",
              "</style>\n",
              "<table border=\"1\" class=\"dataframe\">\n",
              "  <thead>\n",
              "    <tr style=\"text-align: right;\">\n",
              "      <th></th>\n",
              "      <th>partida_id</th>\n",
              "      <th>clube</th>\n",
              "      <th>data</th>\n",
              "      <th>mandate_</th>\n",
              "      <th>visitante_</th>\n",
              "      <th>resultado</th>\n",
              "    </tr>\n",
              "  </thead>\n",
              "  <tbody>\n",
              "    <tr>\n",
              "      <th>13770</th>\n",
              "      <td>6886</td>\n",
              "      <td>Fortaleza</td>\n",
              "      <td>2020-08-08</td>\n",
              "      <td>1.0</td>\n",
              "      <td>0.0</td>\n",
              "      <td>2.0</td>\n",
              "    </tr>\n",
              "    <tr>\n",
              "      <th>13771</th>\n",
              "      <td>6886</td>\n",
              "      <td>Athletico-PR</td>\n",
              "      <td>2020-08-08</td>\n",
              "      <td>0.0</td>\n",
              "      <td>1.0</td>\n",
              "      <td>1.0</td>\n",
              "    </tr>\n",
              "    <tr>\n",
              "      <th>13772</th>\n",
              "      <td>6887</td>\n",
              "      <td>Coritiba</td>\n",
              "      <td>2020-08-08</td>\n",
              "      <td>1.0</td>\n",
              "      <td>0.0</td>\n",
              "      <td>2.0</td>\n",
              "    </tr>\n",
              "    <tr>\n",
              "      <th>13773</th>\n",
              "      <td>6887</td>\n",
              "      <td>Internacional</td>\n",
              "      <td>2020-08-08</td>\n",
              "      <td>0.0</td>\n",
              "      <td>1.0</td>\n",
              "      <td>1.0</td>\n",
              "    </tr>\n",
              "    <tr>\n",
              "      <th>13774</th>\n",
              "      <td>6888</td>\n",
              "      <td>Sport</td>\n",
              "      <td>2020-08-08</td>\n",
              "      <td>1.0</td>\n",
              "      <td>0.0</td>\n",
              "      <td>1.0</td>\n",
              "    </tr>\n",
              "    <tr>\n",
              "      <th>...</th>\n",
              "      <td>...</td>\n",
              "      <td>...</td>\n",
              "      <td>...</td>\n",
              "      <td>...</td>\n",
              "      <td>...</td>\n",
              "      <td>...</td>\n",
              "    </tr>\n",
              "    <tr>\n",
              "      <th>16045</th>\n",
              "      <td>8023</td>\n",
              "      <td>Atletico-MG</td>\n",
              "      <td>2022-11-13</td>\n",
              "      <td>0.0</td>\n",
              "      <td>1.0</td>\n",
              "      <td>1.0</td>\n",
              "    </tr>\n",
              "    <tr>\n",
              "      <th>16046</th>\n",
              "      <td>8024</td>\n",
              "      <td>Internacional</td>\n",
              "      <td>2022-11-13</td>\n",
              "      <td>1.0</td>\n",
              "      <td>0.0</td>\n",
              "      <td>1.0</td>\n",
              "    </tr>\n",
              "    <tr>\n",
              "      <th>16047</th>\n",
              "      <td>8024</td>\n",
              "      <td>Palmeiras</td>\n",
              "      <td>2022-11-13</td>\n",
              "      <td>0.0</td>\n",
              "      <td>1.0</td>\n",
              "      <td>2.0</td>\n",
              "    </tr>\n",
              "    <tr>\n",
              "      <th>16048</th>\n",
              "      <td>8025</td>\n",
              "      <td>Goias</td>\n",
              "      <td>2022-11-13</td>\n",
              "      <td>1.0</td>\n",
              "      <td>0.0</td>\n",
              "      <td>2.0</td>\n",
              "    </tr>\n",
              "    <tr>\n",
              "      <th>16049</th>\n",
              "      <td>8025</td>\n",
              "      <td>Sao Paulo</td>\n",
              "      <td>2022-11-13</td>\n",
              "      <td>0.0</td>\n",
              "      <td>1.0</td>\n",
              "      <td>1.0</td>\n",
              "    </tr>\n",
              "  </tbody>\n",
              "</table>\n",
              "<p>2280 rows × 6 columns</p>\n",
              "</div>"
            ],
            "text/plain": [
              "       partida_id          clube       data  mandate_  visitante_  resultado\n",
              "13770        6886      Fortaleza 2020-08-08       1.0         0.0        2.0\n",
              "13771        6886   Athletico-PR 2020-08-08       0.0         1.0        1.0\n",
              "13772        6887       Coritiba 2020-08-08       1.0         0.0        2.0\n",
              "13773        6887  Internacional 2020-08-08       0.0         1.0        1.0\n",
              "13774        6888          Sport 2020-08-08       1.0         0.0        1.0\n",
              "...           ...            ...        ...       ...         ...        ...\n",
              "16045        8023    Atletico-MG 2022-11-13       0.0         1.0        1.0\n",
              "16046        8024  Internacional 2022-11-13       1.0         0.0        1.0\n",
              "16047        8024      Palmeiras 2022-11-13       0.0         1.0        2.0\n",
              "16048        8025          Goias 2022-11-13       1.0         0.0        2.0\n",
              "16049        8025      Sao Paulo 2022-11-13       0.0         1.0        1.0\n",
              "\n",
              "[2280 rows x 6 columns]"
            ]
          },
          "execution_count": 26,
          "metadata": {},
          "output_type": "execute_result"
        }
      ],
      "source": [
        "df_2020_2022[['partida_id','clube','data','mandate_','visitante_','resultado']]"
      ]
    },
    {
      "cell_type": "code",
      "execution_count": null,
      "metadata": {
        "id": "HwQk5DucNtlW"
      },
      "outputs": [],
      "source": [
        "manda = df_2020_2022.loc[(df_2020_2022['mandate_']==1)]\n",
        "visit = df_2020_2022.loc[(df_2020_2022['visitante_']==1)]\n"
      ]
    },
    {
      "cell_type": "code",
      "execution_count": 50,
      "metadata": {},
      "outputs": [],
      "source": [
        "empate_m = len(manda[manda.resultado==3])\n",
        "vitoria_m = len(manda[manda.resultado==1])\n",
        "derrota_m = len(manda[manda.resultado==2])\n",
        "val_m = [vitoria_m,empate_m,derrota_m]"
      ]
    },
    {
      "cell_type": "code",
      "execution_count": 54,
      "metadata": {},
      "outputs": [],
      "source": [
        "empate_v = len(visit[visit.resultado==3])\n",
        "vitoria_v = len(visit[visit.resultado==1])\n",
        "derrota_v = len(visit[visit.resultado==2])\n",
        "val_v = [vitoria_v,empate_v,derrota_v]"
      ]
    },
    {
      "cell_type": "code",
      "execution_count": 52,
      "metadata": {},
      "outputs": [
        {
          "data": {
            "image/png": "[encoded data removed]",
            "text/plain": [
              "<Figure size 640x480 with 1 Axes>"
            ]
          },
          "metadata": {},
          "output_type": "display_data"
        }
      ],
      "source": [
        "x = np.arange(3)\n",
        "plt.title(\"Resultados dos Mandantes\")\n",
        "plt.bar(x, val_m)\n",
        "plt.xticks(x, ('Vitoria', 'Empate', 'Derrota'))\n",
        "plt.show()"
      ]
    },
    {
      "cell_type": "code",
      "execution_count": 88,
      "metadata": {},
      "outputs": [
        {
          "data": {
            "image/png": "[encoded data removed]",
            "text/plain": [
              "<Figure size 640x480 with 1 Axes>"
            ]
          },
          "metadata": {},
          "output_type": "display_data"
        }
      ],
      "source": [
        "x = np.arange(3)\n",
        "plt.title(\"Resultados dos Visitante\")\n",
        "plt.bar(x, val_v)\n",
        "plt.xticks(x, ('Vitoria', 'Empate', 'Derrota'))\n",
        "plt.show()"
      ]
    },
    {
      "cell_type": "code",
      "execution_count": 87,
      "metadata": {},
      "outputs": [
        {
          "name": "stdout",
          "output_type": "stream",
          "text": [
            "Media de Passes de um Time Mandante Vitorioso :  425.09161793372317\n",
            "Média de passes de um Time Mandante Derrotado:  444.9429530201342\n",
            "Média de passes de um Time Mandante EMPATE:  432.21276595744683\n",
            "\n",
            "#################\n",
            "\n",
            "Media de Passes de um Time Visitante Vitorioso:  402.09060402684565\n",
            "Média de passes de um Time Visitante Derrotado:  424.73879142300194\n",
            "Média de passes de um Time Visitante EMPATE:  406.4559270516717\n"
          ]
        }
      ],
      "source": [
        "print(\"Media de Passes de um Time Mandante Vitorioso : \" , manda[manda.resultado==1].passes.mean())\n",
        "print(\"Média de Passes  de um Time Mandante Derrotado: \" , manda[manda.resultado==2].passes.mean())\n",
        "print(\"Média de Passes  de um Time Mandante EMPATE: \" , manda[manda.resultado==3].passes.mean())\n",
        "print()\n",
        "print(\"#################\")\n",
        "print()\n",
        "print(\"Media de Passes  de um Time Visitante Vitorioso: \",visit[visit.resultado==1].passes.mean())\n",
        "print(\"Média de Passes  de um Time Visitante Derrotado: \" , visit[visit.resultado==2].passes.mean())\n",
        "print(\"Média de Passes  de um Time Visitante EMPATE: \" , visit[visit.resultado==3].passes.mean())"
      ]
    },
    {
      "cell_type": "code",
      "execution_count": 92,
      "metadata": {},
      "outputs": [
        {
          "name": "stdout",
          "output_type": "stream",
          "text": [
            "Media de chutes de um Time Mandante Vitorioso :  14.810916179337232\n",
            "Média de chutes de um Time Mandante Derrotado:  14.144295302013424\n",
            "Média de chutes de um Time Mandante EMPATE:  14.142857142857142\n",
            "\n",
            "#################\n",
            "\n",
            "Media de chutes de um Time Visitante Vitorioso:  12.080536912751677\n",
            "Média de chutes de um Time Visitante Derrotado:  11.070175438596491\n",
            "Média de chutes de um Time Visitante EMPATE:  11.592705167173252\n"
          ]
        }
      ],
      "source": [
        "print(\"Media de chutes de um Time Mandante Vitorioso : \" , manda[manda.resultado==1].chutes.mean())\n",
        "print(\"Média de chutes de um Time Mandante Derrotado: \" , manda[manda.resultado==2].chutes.mean())\n",
        "print(\"Média de chutes de um Time Mandante EMPATE: \" , manda[manda.resultado==3].chutes.mean())\n",
        "print()\n",
        "print(\"#################\")\n",
        "print()\n",
        "print(\"Media de chutes de um Time Visitante Vitorioso: \",visit[visit.resultado==1].chutes.mean())\n",
        "print(\"Média de chutes de um Time Visitante Derrotado: \" , visit[visit.resultado==2].chutes.mean())\n",
        "print(\"Média de chutes de um Time Visitante EMPATE: \" , visit[visit.resultado==3].chutes.mean())"
      ]
    },
    {
      "cell_type": "code",
      "execution_count": null,
      "metadata": {},
      "outputs": [],
      "source": [
        "manda"
      ]
    }
  ],
  "metadata": {
    "colab": {
      "include_colab_link": true,
      "provenance": []
    },
    "gpuClass": "standard",
    "kernelspec": {
      "display_name": "Python 3",
      "name": "python3"
    },
    "language_info": {
      "codemirror_mode": {
        "name": "ipython",
        "version": 3
      },
      "file_extension": ".py",
      "mimetype": "text/x-python",
      "name": "python",
      "nbconvert_exporter": "python",
      "pygments_lexer": "ipython3",
      "version": "3.10.10"
    },
    "orig_nbformat": 4
  },
  "nbformat": 4,
  "nbformat_minor": 0
}
