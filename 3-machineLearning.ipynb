{
 "cells": [
  {
   "cell_type": "code",
   "execution_count": 44,
   "metadata": {},
   "outputs": [],
   "source": [
    "#importar bibliotecas\n",
    "import pandas as pd\n",
    "import numpy as np\n",
    "from sklearn.preprocessing import StandardScaler, MinMaxScaler ,PolynomialFeatures,normalize ,LabelEncoder\n",
    "from sklearn.model_selection import cross_val_score,KFold,StratifiedKFold, GridSearchCV , train_test_split\n",
    "from sklearn.linear_model import LogisticRegression , Ridge, Lasso\n",
    "from sklearn.tree import DecisionTreeClassifier\n",
    "from sklearn.svm import SVC\n",
    "from sklearn.ensemble import RandomForestClassifier\n",
    "from sklearn.metrics import accuracy_score , f1_score, precision_score, recall_score,classification_report,confusion_matrix\n",
    "import matplotlib.pyplot as plt\n",
    "import seaborn as sns"
   ]
  },
  {
   "cell_type": "code",
   "execution_count": 45,
   "metadata": {},
   "outputs": [],
   "source": [
    "df = pd.read_csv(\"dados/transformado.csv\", sep=\",\")"
   ]
  },
  {
   "cell_type": "code",
   "execution_count": 46,
   "metadata": {},
   "outputs": [
    {
     "name": "stdout",
     "output_type": "stream",
     "text": [
      "<class 'pandas.core.frame.DataFrame'>\n",
      "RangeIndex: 1876 entries, 0 to 1875\n",
      "Data columns (total 33 columns):\n",
      " #   Column                     Non-Null Count  Dtype  \n",
      "---  ------                     --------------  -----  \n",
      " 0   partida_id                 1876 non-null   int64  \n",
      " 1   rodada                     1876 non-null   int64  \n",
      " 2   mandante                   1876 non-null   object \n",
      " 3   visitante                  1876 non-null   object \n",
      " 4   formacao_mandante          1876 non-null   object \n",
      " 5   formacao_visitante         1876 non-null   object \n",
      " 6   vencedor                   1876 non-null   object \n",
      " 7   mandante_placar            1876 non-null   int64  \n",
      " 8   visitante_placar           1876 non-null   int64  \n",
      " 9   chutes_mandante            1876 non-null   int64  \n",
      " 10  chutes_no_alvo_mandante    1876 non-null   int64  \n",
      " 11  posse_de_bola_mandante     1876 non-null   float64\n",
      " 12  passes_mandante            1876 non-null   int64  \n",
      " 13  precisao_passes_mandante   1876 non-null   float64\n",
      " 14  faltas_mandante            1876 non-null   int64  \n",
      " 15  cartao_amarelo_mandante    1876 non-null   int64  \n",
      " 16  cartao_vermelho_mandante   1876 non-null   int64  \n",
      " 17  impedimentos_mandante      1876 non-null   int64  \n",
      " 18  escanteios_mandante        1876 non-null   int64  \n",
      " 19  rodata_visitante           1876 non-null   int64  \n",
      " 20  chutes_visitante           1876 non-null   int64  \n",
      " 21  chutes_no_alvo_visitante   1876 non-null   int64  \n",
      " 22  posse_de_bola_visitante    1876 non-null   float64\n",
      " 23  passes_visitante           1876 non-null   int64  \n",
      " 24  precisao_passes_visitante  1876 non-null   float64\n",
      " 25  faltas_visitante           1876 non-null   int64  \n",
      " 26  cartao_amarelo_visitante   1876 non-null   int64  \n",
      " 27  cartao_vermelho_visitante  1876 non-null   int64  \n",
      " 28  impedimentos_visitante     1876 non-null   int64  \n",
      " 29  escanteios_visitante       1876 non-null   int64  \n",
      " 30  temporada                  1876 non-null   int64  \n",
      " 31  resultado                  1876 non-null   int64  \n",
      " 32  total_gols                 1876 non-null   int64  \n",
      "dtypes: float64(4), int64(24), object(5)\n",
      "memory usage: 483.8+ KB\n"
     ]
    }
   ],
   "source": [
    "df.info()"
   ]
  },
  {
   "cell_type": "code",
   "execution_count": 47,
   "metadata": {},
   "outputs": [
    {
     "data": {
      "text/plain": [
       "array(['4-2-3-1', '4-3-3', '4-1-4-1', '4-2-4-0', '3-4-2-1', '3-4-1-2',\n",
       "       '3-4-3', '5-4-1', '4-3-2-1', '4-4-2', '4-5-1', '4-2-2-2',\n",
       "       '3-1-4-2', '4-1-3-2', '5-3-2', '4-4-1-1', '4-3-1-2', '3-2-4-1',\n",
       "       '4-1-2-1-2', '3-5-2', '3-5-1-1'], dtype=object)"
      ]
     },
     "execution_count": 47,
     "metadata": {},
     "output_type": "execute_result"
    }
   ],
   "source": [
    "#union formacao mandante com formacao visitante\n",
    "dt = pd.concat([df['formacao_mandante'],df['formacao_visitante']])\n",
    "\n",
    "dt.unique()"
   ]
  },
  {
   "cell_type": "code",
   "execution_count": 48,
   "metadata": {},
   "outputs": [
    {
     "data": {
      "text/plain": [
       "array(['Cruzeiro', 'Vitoria', 'Santos', 'America-MG', 'Vasco',\n",
       "       'Internacional', 'Corinthians', 'Athletico-PR', 'Sao Paulo',\n",
       "       'Botafogo-RJ', 'Bahia', 'Flamengo', 'Parana', 'Ceara',\n",
       "       'Atletico-MG', 'Fluminense', 'Chapecoense', 'Palmeiras', 'Gremio',\n",
       "       'Sport', 'Avai', 'Goias', 'Fortaleza', 'CSA', 'Coritiba',\n",
       "       'Bragantino', 'Atletico-GO', 'Cuiaba', 'Juventude'], dtype=object)"
      ]
     },
     "execution_count": 48,
     "metadata": {},
     "output_type": "execute_result"
    }
   ],
   "source": [
    "#union mandante com visitante\n",
    "mv = pd.concat([df['mandante'],df['visitante']])\n",
    "\n",
    "mv.unique()"
   ]
  },
  {
   "cell_type": "code",
   "execution_count": 49,
   "metadata": {},
   "outputs": [],
   "source": [
    "#transformando as dados categoricos como Formação, Mandante, Visitante em dados numericos\n",
    "le = LabelEncoder()\n",
    "le.fit(dt)\n",
    "df['formacao_mandante'] = le.transform(df[\"formacao_mandante\"])\n",
    "df['formacao_visitante'] = le.transform(df[\"formacao_visitante\"])\n",
    "\n",
    "le.fit(mv)\n",
    "df['mandante'] = le.transform(df[\"mandante\"])\n",
    "df['visitante'] = le.transform(df[\"visitante\"])"
   ]
  },
  {
   "cell_type": "code",
   "execution_count": 50,
   "metadata": {},
   "outputs": [
    {
     "data": {
      "text/html": [
       "<div>\n",
       "<style scoped>\n",
       "    .dataframe tbody tr th:only-of-type {\n",
       "        vertical-align: middle;\n",
       "    }\n",
       "\n",
       "    .dataframe tbody tr th {\n",
       "        vertical-align: top;\n",
       "    }\n",
       "\n",
       "    .dataframe thead th {\n",
       "        text-align: right;\n",
       "    }\n",
       "</style>\n",
       "<table border=\"1\" class=\"dataframe\">\n",
       "  <thead>\n",
       "    <tr style=\"text-align: right;\">\n",
       "      <th></th>\n",
       "      <th>formacao_mandante</th>\n",
       "      <th>formacao_visitante</th>\n",
       "      <th>mandante</th>\n",
       "      <th>visitante</th>\n",
       "    </tr>\n",
       "  </thead>\n",
       "  <tbody>\n",
       "    <tr>\n",
       "      <th>1871</th>\n",
       "      <td>9</td>\n",
       "      <td>9</td>\n",
       "      <td>14</td>\n",
       "      <td>12</td>\n",
       "    </tr>\n",
       "    <tr>\n",
       "      <th>1872</th>\n",
       "      <td>11</td>\n",
       "      <td>11</td>\n",
       "      <td>7</td>\n",
       "      <td>16</td>\n",
       "    </tr>\n",
       "    <tr>\n",
       "      <th>1873</th>\n",
       "      <td>9</td>\n",
       "      <td>11</td>\n",
       "      <td>11</td>\n",
       "      <td>3</td>\n",
       "    </tr>\n",
       "    <tr>\n",
       "      <th>1874</th>\n",
       "      <td>11</td>\n",
       "      <td>11</td>\n",
       "      <td>20</td>\n",
       "      <td>22</td>\n",
       "    </tr>\n",
       "    <tr>\n",
       "      <th>1875</th>\n",
       "      <td>11</td>\n",
       "      <td>7</td>\n",
       "      <td>18</td>\n",
       "      <td>25</td>\n",
       "    </tr>\n",
       "  </tbody>\n",
       "</table>\n",
       "</div>"
      ],
      "text/plain": [
       "      formacao_mandante  formacao_visitante  mandante  visitante\n",
       "1871                  9                   9        14         12\n",
       "1872                 11                  11         7         16\n",
       "1873                  9                  11        11          3\n",
       "1874                 11                  11        20         22\n",
       "1875                 11                   7        18         25"
      ]
     },
     "execution_count": 50,
     "metadata": {},
     "output_type": "execute_result"
    }
   ],
   "source": [
    "#amostragem depois da transformação\n",
    "df[['formacao_mandante','formacao_visitante','mandante','visitante']].tail()"
   ]
  },
  {
   "cell_type": "code",
   "execution_count": 51,
   "metadata": {},
   "outputs": [],
   "source": [
    "#retirando a coluna vencedor que é do tipo categorica e vamos utilizar a columa resultado.\n",
    "df.drop(columns=['vencedor','rodada','total_gols'],inplace=True)"
   ]
  },
  {
   "cell_type": "code",
   "execution_count": 52,
   "metadata": {},
   "outputs": [],
   "source": [
    "#criando dataset auxiliar\n",
    "df_aux = pd.DataFrame(df[(df['temporada']==2022)])\n",
    "\n",
    "# Eliminando os dados de df_aux do df_model\n",
    "df_model = df.drop(index = df_aux.index)\n",
    "\n",
    "#arrumando index de df_aux\n",
    "df_aux.reset_index(inplace = True)\n",
    "df_aux.drop('index', axis = 1, inplace = True)"
   ]
  },
  {
   "cell_type": "code",
   "execution_count": 53,
   "metadata": {},
   "outputs": [
    {
     "name": "stdout",
     "output_type": "stream",
     "text": [
      "-----------------------------------\n",
      "* SHAPE DOS MODELOS\n",
      "O dataset DF_MODEL será utilizado para TESTE, ele contêm 1496 Linhas  e  30 Colunas : \n",
      "O dataset DF_AUX será utilizado para VALIDAÇÃO do TESTE E TREINO, ele contem 380 Linhas  e  30 Colunas : \n",
      " \n",
      "-----------------------------------\n",
      "* TEMPORADAS DO MODELO \n",
      "Temporada Modelo [2018 2019 2020 2021]  Qtd linhas x colunas (1496, 30)\n",
      "Temporada Auxiliar [2022]  Qtd linhas x colunas (380, 30)\n"
     ]
    }
   ],
   "source": [
    "print(\"-----------------------------------\")\n",
    "print(\"* SHAPE DOS MODELOS\")\n",
    "print (\"O dataset DF_MODEL será utilizado para TESTE, ele contêm {} Linhas  e  {} Colunas : \".format( df_model.shape[0] , df_model.shape[1]))\n",
    "print (\"O dataset DF_AUX será utilizado para VALIDAÇÃO do TESTE E TREINO, ele contem {} Linhas  e  {} Colunas : \".format( df_aux.shape[0] , df_aux.shape[1]))\n",
    "print(\" \")\n",
    "print(\"-----------------------------------\")\n",
    "print(\"* TEMPORADAS DO MODELO \")\n",
    "print(\"Temporada Modelo\", df_model.temporada.unique(), \" Qtd linhas x colunas\", df_model.shape)\n",
    "print(\"Temporada Auxiliar\" , df_aux.temporada.unique() , \" Qtd linhas x colunas\",df_aux.shape)"
   ]
  },
  {
   "cell_type": "code",
   "execution_count": 54,
   "metadata": {},
   "outputs": [],
   "source": [
    "#separar features e label\n",
    "label_model = df[(df['temporada'] <= 2021)]['resultado']\n",
    "label_aux = df[(df['temporada'] == 2022)]['resultado']\n",
    "\n",
    "features_model = df[(df['temporada'] <= 2021)]\n",
    "features_aux = df[(df['temporada'] == 2022)]\n",
    "\n",
    "features_model = features_model.drop(columns=['resultado'])\n",
    "features_aux = features_aux.drop(columns=['resultado'])"
   ]
  },
  {
   "cell_type": "code",
   "execution_count": 55,
   "metadata": {},
   "outputs": [
    {
     "name": "stdout",
     "output_type": "stream",
     "text": [
      "[[1.00065833 0.57142857 0.85714286 ... 0.5        0.05555556 1.33333333]\n",
      " [1.00131666 0.07142857 0.53571429 ... 0.25       0.55555556 1.33333333]\n",
      " [1.00197498 0.78571429 0.32142857 ... 0.         0.44444444 1.33333333]\n",
      " ...\n",
      " [1.24884793 0.39285714 0.10714286 ... 0.         0.22222222 1.33333333]\n",
      " [1.24950625 0.71428571 0.78571429 ... 0.25       0.27777778 1.33333333]\n",
      " [1.25016458 0.64285714 0.89285714 ... 0.         0.22222222 1.33333333]]\n"
     ]
    }
   ],
   "source": [
    "#Devido as diferenças numericas entre os dados, vamos normaliza-los.\n",
    "scaler = MinMaxScaler().fit(features_model)\n",
    "features_scale_model = scaler.transform(features_model)\n",
    "features_scale_aux = scaler.transform(features_aux)\n",
    "\n",
    "print(features_scale_aux)"
   ]
  },
  {
   "attachments": {},
   "cell_type": "markdown",
   "metadata": {},
   "source": [
    "## Machine Learning"
   ]
  },
  {
   "cell_type": "code",
   "execution_count": 56,
   "metadata": {},
   "outputs": [
    {
     "name": "stdout",
     "output_type": "stream",
     "text": [
      "O dataset de treino possui 1196 linhas e o de teste 300 linhas.\n"
     ]
    }
   ],
   "source": [
    "# Separando os dados de Treino e Teste, com 20% para testes, lembrando que o df_aux só será utilizando para validação do ML\n",
    "SEED = 23\n",
    "np.random.seed(SEED)\n",
    "X_train, X_test, y_train, y_test = train_test_split(features_scale_model, label_model, test_size = 0.20, stratify = label_model )\n",
    "print('O dataset de treino possui {} linhas e o de teste {} linhas.'.format(X_train.shape[0], X_test.shape[0]))"
   ]
  },
  {
   "cell_type": "code",
   "execution_count": 57,
   "metadata": {},
   "outputs": [
    {
     "name": "stdout",
     "output_type": "stream",
     "text": [
      "* MODELO LogisticRegression(max_iter=2000, multi_class='multinomial') \n",
      " \n",
      "                   precision    recall  f1-score   support\n",
      "\n",
      " Vitoria Mandante     0.9732    1.0000    0.9864       145\n",
      "Vitoria Visitante     0.9692    0.9000    0.9333        70\n",
      "           Empate     0.9186    0.9294    0.9240        85\n",
      "\n",
      "         accuracy                         0.9567       300\n",
      "        macro avg     0.9537    0.9431    0.9479       300\n",
      "     weighted avg     0.9568    0.9567    0.9563       300\n",
      "\n",
      " \n",
      " \n"
     ]
    }
   ],
   "source": [
    "#LogisticRegression(multi_class='multinomial',max_iter=2000)\n",
    "model_logr = LogisticRegression(multi_class='multinomial',max_iter=2000)\n",
    "model_logr.fit(X_train,y_train)\n",
    "pred= model_logr.predict(X_test)\n",
    "target_names = ['Vitoria Mandante', 'Vitoria Visitante', 'Empate']\n",
    "print('* MODELO {} '.format(model_logr))\n",
    "print(\" \")\n",
    "print(classification_report(y_test,pred,target_names=target_names,digits=4))\n",
    "print(\" \")\n",
    "print(\" \")"
   ]
  },
  {
   "cell_type": "code",
   "execution_count": 58,
   "metadata": {},
   "outputs": [
    {
     "name": "stdout",
     "output_type": "stream",
     "text": [
      "* MODELO SVC(C=2, kernel='linear') \n",
      " \n",
      "                   precision    recall  f1-score   support\n",
      "\n",
      " Vitoria Mandante     1.0000    1.0000    1.0000       145\n",
      "Vitoria Visitante     1.0000    1.0000    1.0000        70\n",
      "           Empate     1.0000    1.0000    1.0000        85\n",
      "\n",
      "         accuracy                         1.0000       300\n",
      "        macro avg     1.0000    1.0000    1.0000       300\n",
      "     weighted avg     1.0000    1.0000    1.0000       300\n",
      "\n",
      " \n",
      " \n"
     ]
    }
   ],
   "source": [
    "#SVC(kernel='linear', C=2, decision_function_shape='ovr')\n",
    "model_svc = SVC(kernel='linear', C=2, decision_function_shape='ovr')\n",
    "model_svc.fit(X_train,y_train)\n",
    "pred= model_svc.predict(X_test)\n",
    "target_names = ['Vitoria Mandante', 'Vitoria Visitante', 'Empate']\n",
    "print('* MODELO {} '.format(model_svc))\n",
    "print(\" \")\n",
    "print(classification_report(y_test,pred,target_names=target_names,digits=4))\n",
    "print(\" \")\n",
    "print(\" \")"
   ]
  },
  {
   "cell_type": "code",
   "execution_count": 69,
   "metadata": {},
   "outputs": [
    {
     "name": "stdout",
     "output_type": "stream",
     "text": [
      "* MODELO DecisionTreeClassifier(max_depth=4) \n",
      " \n",
      "                   precision    recall  f1-score   support\n",
      "\n",
      " Vitoria Mandante     1.0000    0.9931    0.9965       145\n",
      "Vitoria Visitante     0.9333    1.0000    0.9655        70\n",
      "           Empate     1.0000    0.9529    0.9759        85\n",
      "\n",
      "         accuracy                         0.9833       300\n",
      "        macro avg     0.9778    0.9820    0.9793       300\n",
      "     weighted avg     0.9844    0.9833    0.9835       300\n",
      "\n",
      " \n",
      " \n"
     ]
    }
   ],
   "source": [
    "#DecisionTreeClassifier(max_depth=4)\n",
    "model_dtc = DecisionTreeClassifier(max_depth=4)\n",
    "model_dtc.fit(X_train,y_train)\n",
    "pred= model_dtc.predict(X_test)\n",
    "target_names = ['Vitoria Mandante', 'Vitoria Visitante', 'Empate']\n",
    "print('* MODELO {} '.format(model_dtc))\n",
    "print(\" \")\n",
    "print(classification_report(y_test,pred,target_names=target_names,digits=4))\n",
    "print(\" \")\n",
    "print(\" \")"
   ]
  },
  {
   "cell_type": "code",
   "execution_count": 71,
   "metadata": {},
   "outputs": [
    {
     "name": "stdout",
     "output_type": "stream",
     "text": [
      "* MODELO RandomForestClassifier() \n",
      " \n",
      "                   precision    recall  f1-score   support\n",
      "\n",
      " Vitoria Mandante     0.9412    0.9931    0.9664       145\n",
      "Vitoria Visitante     1.0000    0.9714    0.9855        70\n",
      "           Empate     0.9620    0.8941    0.9268        85\n",
      "\n",
      "         accuracy                         0.9600       300\n",
      "        macro avg     0.9677    0.9529    0.9596       300\n",
      "     weighted avg     0.9608    0.9600    0.9597       300\n",
      "\n",
      " \n",
      " \n"
     ]
    }
   ],
   "source": [
    "#RandomForestClassifier(n_estimators=100)\n",
    "model_rand = RandomForestClassifier(n_estimators=100)\n",
    "model_rand.fit(X_train,y_train)\n",
    "pred= model_rand.predict(X_test)\n",
    "target_names = ['Vitoria Mandante', 'Vitoria Visitante', 'Empate']\n",
    "print('* MODELO {} '.format(model_rand))\n",
    "print(\" \")\n",
    "print(classification_report(y_test,pred,target_names=target_names,digits=4))\n",
    "print(\" \")\n",
    "print(\" \")"
   ]
  },
  {
   "cell_type": "code",
   "execution_count": 61,
   "metadata": {},
   "outputs": [],
   "source": [
    "#armazenando em um array os modelos escolidos\n",
    "models = [model_logr,model_svc,model_dtc,model_rand]"
   ]
  },
  {
   "cell_type": "code",
   "execution_count": 75,
   "metadata": {},
   "outputs": [
    {
     "name": "stdout",
     "output_type": "stream",
     "text": [
      "******* CROSS VALIDATION  ******* \n",
      " \n",
      "==========================================\n",
      "### Modelo: LogisticRegression(max_iter=2000, multi_class='multinomial')\n",
      " \n",
      "Acurácia média: 93.73%\n",
      "Intervalo de acurácia: [90.68% ~ 96.78%]\n",
      " \n",
      "Precisão média: 94.05%\n",
      "Intervalo de Precisão: [90.25% ~ 97.86%]\n",
      " \n",
      "Recall média: 91.46%\n",
      "Intervalo de Recall: [88.85% ~ 94.07%]\n",
      " \n",
      "F1-score média: 92.61%\n",
      "Intervalo de F1-score: [90.18% ~ 95.03%]\n",
      " \n",
      " \n",
      "==========================================\n",
      "### Modelo: SVC(C=2, kernel='linear')\n",
      " \n",
      "Acurácia média: 100.00%\n",
      "Intervalo de acurácia: [100.00% ~ 100.00%]\n",
      " \n",
      "Precisão média: 100.00%\n",
      "Intervalo de Precisão: [100.00% ~ 100.00%]\n",
      " \n",
      "Recall média: 100.00%\n",
      "Intervalo de Recall: [100.00% ~ 100.00%]\n",
      " \n",
      "F1-score média: 100.00%\n",
      "Intervalo de F1-score: [100.00% ~ 100.00%]\n",
      " \n",
      " \n",
      "==========================================\n",
      "### Modelo: DecisionTreeClassifier(max_depth=4)\n",
      " \n",
      "Acurácia média: 99.00%\n",
      "Intervalo de acurácia: [97.86% ~ 100.13%]\n",
      " \n",
      "Precisão média: 98.68%\n",
      "Intervalo de Precisão: [97.44% ~ 99.91%]\n",
      " \n",
      "Recall média: 98.14%\n",
      "Intervalo de Recall: [95.61% ~ 100.66%]\n",
      " \n",
      "F1-score média: 98.61%\n",
      "Intervalo de F1-score: [97.64% ~ 99.58%]\n",
      " \n",
      " \n",
      "==========================================\n",
      "### Modelo: RandomForestClassifier()\n",
      " \n",
      "Acurácia média: 95.99%\n",
      "Intervalo de acurácia: [90.78% ~ 101.20%]\n",
      " \n",
      "Precisão média: 97.19%\n",
      "Intervalo de Precisão: [94.50% ~ 99.89%]\n",
      " \n",
      "Recall média: 95.77%\n",
      "Intervalo de Recall: [93.27% ~ 98.27%]\n",
      " \n",
      "F1-score média: 96.14%\n",
      "Intervalo de F1-score: [94.27% ~ 98.01%]\n",
      " \n",
      " \n"
     ]
    }
   ],
   "source": [
    "SEED = 42\n",
    "np.random.seed(SEED)\n",
    "\n",
    "#Divide o conjunto de dados em k dobras, permitindo que cada parte do conjunto de dados seja usada para teste e treinamento em diferentes momentos.\n",
    "cv = StratifiedKFold(n_splits = 5, shuffle = True)\n",
    "\n",
    "print(\"******* CROSS VALIDATION SCORE ******* \")\n",
    "print(\" \")\n",
    "for model in models:\n",
    "    results = cross_val_score(model, X_train,y_train, cv = cv, scoring = 'accuracy')\n",
    "    results2 = cross_val_score(model, X_train,y_train, cv = cv, scoring = 'precision_macro')\n",
    "    results3 = cross_val_score(model, X_train,y_train, cv = cv, scoring = 'recall_macro')\n",
    "    results4 = cross_val_score(model, X_train,y_train, cv = cv, scoring = 'f1_macro')\n",
    "    \n",
    "    mean = results.mean()\n",
    "    dv = results.std()\n",
    "    mean2 = results2.mean()\n",
    "    dv2 = results2.std()\n",
    "    mean3 = results3.mean()\n",
    "    dv3 = results3.std()\n",
    "    mean4 = results4.mean()\n",
    "    dv4 = results4.std()\n",
    "    print(\"==========================================\")\n",
    "    print(\"### Modelo: {}\".format(model))\n",
    "    print(\" \")\n",
    "    print('Acurácia média: {:.2f}%'.format(mean*100))\n",
    "    print('Intervalo de acurácia: [{:.2f}% ~ {:.2f}%]'.format((mean - 2*dv)*100, (mean + 2*dv)*100))\n",
    "    print(\" \")\n",
    "    print('Precisão média: {:.2f}%'.format(mean2*100))\n",
    "    print('Intervalo de Precisão: [{:.2f}% ~ {:.2f}%]'.format((mean2 - 2*dv2)*100, (mean2 + 2*dv2)*100))\n",
    "    print(\" \")\n",
    "    print('Recall média: {:.2f}%'.format(mean3*100))\n",
    "    print('Intervalo de Recall: [{:.2f}% ~ {:.2f}%]'.format((mean3 - 2*dv3)*100, (mean3 + 2*dv3)*100))\n",
    "    print(\" \")\n",
    "    print('F1-score média: {:.2f}%'.format(mean4*100))\n",
    "    print('Intervalo de F1-score: [{:.2f}% ~ {:.2f}%]'.format((mean4 - 2*dv4)*100, (mean4 + 2*dv4)*100))\n",
    "    print(\" \")\n",
    "    print(\" \")\n"
   ]
  },
  {
   "cell_type": "code",
   "execution_count": 79,
   "metadata": {},
   "outputs": [
    {
     "name": "stdout",
     "output_type": "stream",
     "text": [
      "======= VALIDAÇÃO =======\n",
      " \n",
      "MODELO SVC(C=2, kernel='linear') \n",
      " \n",
      "              precision    recall  f1-score   support\n",
      "\n",
      "           1     1.0000    1.0000    1.0000       168\n",
      "           2     1.0000    1.0000    1.0000       104\n",
      "           3     1.0000    1.0000    1.0000       108\n",
      "\n",
      "    accuracy                         1.0000       380\n",
      "   macro avg     1.0000    1.0000    1.0000       380\n",
      "weighted avg     1.0000    1.0000    1.0000       380\n",
      "\n",
      " \n",
      " \n"
     ]
    }
   ],
   "source": [
    "#Validação com dados nunca vistos\n",
    "SEED = 23\n",
    "np.random.seed(SEED)\n",
    "\n",
    "X_pred = features_scale_aux\n",
    "y_pred = label_aux\n",
    "\n",
    "\n",
    "pred_final=model_svc.predict(X_pred)\n",
    "\n",
    "svc_acc = accuracy_score(y_pred, pred_final)\n",
    "print(\"======= VALIDAÇÃO =======\")\n",
    "print(\" \")\n",
    "print('MODELO {} '.format(model_svc))\n",
    "print(\" \")\n",
    "print(classification_report(y_pred,pred_final,digits=4))\n",
    "print(\" \")\n",
    "print(\" \")"
   ]
  },
  {
   "cell_type": "code",
   "execution_count": 80,
   "metadata": {},
   "outputs": [
    {
     "data": {
      "image/png": "[encoded data removed]",
      "text/plain": [
       "<Figure size 800x600 with 2 Axes>"
      ]
     },
     "metadata": {},
     "output_type": "display_data"
    }
   ],
   "source": [
    "cf_matrix=pd.crosstab(y_pred, pred_final, rownames=['real'] , colnames=['previsao'])\n",
    "\n",
    "fig, ax = plt.subplots(figsize=(8, 6))\n",
    "sns.heatmap(cf_matrix, annot=True, fmt='.0f', cmap='Reds', cbar=True, ax=ax)\n",
    "ax.set_title('Matriz de Confusão', fontsize=16)\n",
    "ax.set_xlabel('Previsão', fontsize=14)\n",
    "ax.set_ylabel('Real', fontsize=14)\n",
    "ax.tick_params(labelsize=12)\n",
    "plt.tight_layout()\n",
    "plt.show()"
   ]
  },
  {
   "cell_type": "code",
   "execution_count": 68,
   "metadata": {},
   "outputs": [
    {
     "name": "stdout",
     "output_type": "stream",
     "text": [
      "      real  previsao  partida_id\n",
      "1496     3         3        7646\n",
      "1497     3         3        7647\n",
      "1498     2         2        7648\n",
      "1499     1         1        7649\n",
      "1500     2         2        7650\n",
      "...    ...       ...         ...\n",
      "1871     1         1        8021\n",
      "1872     2         2        8022\n",
      "1873     2         2        8023\n",
      "1874     1         1        8024\n",
      "1875     2         2        8025\n",
      "\n",
      "[380 rows x 3 columns]\n"
     ]
    }
   ],
   "source": [
    "df=pd.DataFrame({'real': y_pred, 'previsao':pred_final, 'partida_id':features_aux['partida_id']})\n",
    "\n",
    "print(df)\n"
   ]
  }
 ],
 "metadata": {
  "kernelspec": {
   "display_name": "Python 3",
   "language": "python",
   "name": "python3"
  },
  "language_info": {
   "codemirror_mode": {
    "name": "ipython",
    "version": 3
   },
   "file_extension": ".py",
   "mimetype": "text/x-python",
   "name": "python",
   "nbconvert_exporter": "python",
   "pygments_lexer": "ipython3",
   "version": "3.10.10"
  },
  "orig_nbformat": 4
 },
 "nbformat": 4,
 "nbformat_minor": 2
}
