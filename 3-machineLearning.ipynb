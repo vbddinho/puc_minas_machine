{
 "cells": [
  {
   "cell_type": "code",
   "execution_count": 1,
   "metadata": {},
   "outputs": [],
   "source": [
    "#importar bibliotecas\n",
    "#!pip install -U scikit-learn\n",
    "import pandas as pd\n",
    "import numpy as np\n",
    "from sklearn import preprocessing \n",
    "from sklearn.model_selection import cross_val_score\n",
    "from sklearn.model_selection import StratifiedKFold\n",
    "from sklearn.linear_model import LogisticRegression , Ridge, Lasso\n",
    "from sklearn.tree import DecisionTreeClassifier\n",
    "from sklearn.model_selection import  GridSearchCV , train_test_split\n",
    "from sklearn.svm import SVC\n",
    "from sklearn.ensemble import RandomForestClassifier\n",
    "from sklearn.metrics import accuracy_score , f1_score, precision_score, recall_score\n",
    "from sklearn.preprocessing import StandardScaler, MinMaxScaler ,PolynomialFeatures,normalize\n",
    "from sklearn.metrics import confusion_matrix\n",
    "import matplotlib.pyplot as plt\n",
    "import seaborn as sns\n",
    "\n",
    "#from sklearn.preprocessing import scale\n",
    "#\n",
    "#from sklearn.feature_selection import SelectKBest\n",
    "#from sklearn.naive_bayes import GaussianNB\n",
    "#\n",
    "\n",
    "#from pandas.plotting import autocorrelation_plot\n",
    "#from pandas.plotting import scatter_matrix\n",
    "#%matplotlib inline"
   ]
  },
  {
   "cell_type": "code",
   "execution_count": 2,
   "metadata": {},
   "outputs": [],
   "source": [
    "df = pd.read_csv(\"dados/transformado.csv\", sep=\",\")"
   ]
  },
  {
   "cell_type": "code",
   "execution_count": 3,
   "metadata": {},
   "outputs": [
    {
     "data": {
      "text/html": [
       "<div>\n",
       "<style scoped>\n",
       "    .dataframe tbody tr th:only-of-type {\n",
       "        vertical-align: middle;\n",
       "    }\n",
       "\n",
       "    .dataframe tbody tr th {\n",
       "        vertical-align: top;\n",
       "    }\n",
       "\n",
       "    .dataframe thead th {\n",
       "        text-align: right;\n",
       "    }\n",
       "</style>\n",
       "<table border=\"1\" class=\"dataframe\">\n",
       "  <thead>\n",
       "    <tr style=\"text-align: right;\">\n",
       "      <th></th>\n",
       "      <th>partida_id</th>\n",
       "      <th>mandante</th>\n",
       "      <th>visitante</th>\n",
       "      <th>formacao_mandante</th>\n",
       "      <th>formacao_visitante</th>\n",
       "      <th>mandante_placar</th>\n",
       "      <th>visitante_placar</th>\n",
       "      <th>chutes_mandante</th>\n",
       "      <th>chutes_no_alvo_mandante</th>\n",
       "      <th>posse_de_bola_mandante</th>\n",
       "      <th>...</th>\n",
       "      <th>posse_de_bola_visitante</th>\n",
       "      <th>passes_visitante</th>\n",
       "      <th>precisao_passes_visitante</th>\n",
       "      <th>faltas_visitante</th>\n",
       "      <th>cartao_amarelo_visitante</th>\n",
       "      <th>cartao_vermelho_visitante</th>\n",
       "      <th>impedimentos_visitante</th>\n",
       "      <th>escanteios_visitante</th>\n",
       "      <th>temporada</th>\n",
       "      <th>resultado</th>\n",
       "    </tr>\n",
       "  </thead>\n",
       "  <tbody>\n",
       "    <tr>\n",
       "      <th>1871</th>\n",
       "      <td>8021</td>\n",
       "      <td>15</td>\n",
       "      <td>13</td>\n",
       "      <td>9</td>\n",
       "      <td>9</td>\n",
       "      <td>2</td>\n",
       "      <td>1</td>\n",
       "      <td>17</td>\n",
       "      <td>8</td>\n",
       "      <td>0.57</td>\n",
       "      <td>...</td>\n",
       "      <td>0.43</td>\n",
       "      <td>389</td>\n",
       "      <td>0.82</td>\n",
       "      <td>8</td>\n",
       "      <td>3</td>\n",
       "      <td>1</td>\n",
       "      <td>2</td>\n",
       "      <td>1</td>\n",
       "      <td>2022</td>\n",
       "      <td>1</td>\n",
       "    </tr>\n",
       "    <tr>\n",
       "      <th>1872</th>\n",
       "      <td>8022</td>\n",
       "      <td>8</td>\n",
       "      <td>17</td>\n",
       "      <td>11</td>\n",
       "      <td>11</td>\n",
       "      <td>0</td>\n",
       "      <td>1</td>\n",
       "      <td>13</td>\n",
       "      <td>4</td>\n",
       "      <td>0.41</td>\n",
       "      <td>...</td>\n",
       "      <td>0.59</td>\n",
       "      <td>463</td>\n",
       "      <td>0.82</td>\n",
       "      <td>15</td>\n",
       "      <td>2</td>\n",
       "      <td>0</td>\n",
       "      <td>0</td>\n",
       "      <td>9</td>\n",
       "      <td>2022</td>\n",
       "      <td>2</td>\n",
       "    </tr>\n",
       "    <tr>\n",
       "      <th>1873</th>\n",
       "      <td>8023</td>\n",
       "      <td>12</td>\n",
       "      <td>4</td>\n",
       "      <td>9</td>\n",
       "      <td>11</td>\n",
       "      <td>0</td>\n",
       "      <td>1</td>\n",
       "      <td>17</td>\n",
       "      <td>4</td>\n",
       "      <td>0.59</td>\n",
       "      <td>...</td>\n",
       "      <td>0.41</td>\n",
       "      <td>351</td>\n",
       "      <td>0.82</td>\n",
       "      <td>19</td>\n",
       "      <td>6</td>\n",
       "      <td>0</td>\n",
       "      <td>0</td>\n",
       "      <td>4</td>\n",
       "      <td>2022</td>\n",
       "      <td>2</td>\n",
       "    </tr>\n",
       "    <tr>\n",
       "      <th>1874</th>\n",
       "      <td>8024</td>\n",
       "      <td>21</td>\n",
       "      <td>23</td>\n",
       "      <td>11</td>\n",
       "      <td>11</td>\n",
       "      <td>3</td>\n",
       "      <td>0</td>\n",
       "      <td>15</td>\n",
       "      <td>8</td>\n",
       "      <td>0.48</td>\n",
       "      <td>...</td>\n",
       "      <td>0.52</td>\n",
       "      <td>306</td>\n",
       "      <td>0.82</td>\n",
       "      <td>17</td>\n",
       "      <td>3</td>\n",
       "      <td>0</td>\n",
       "      <td>2</td>\n",
       "      <td>5</td>\n",
       "      <td>2022</td>\n",
       "      <td>1</td>\n",
       "    </tr>\n",
       "    <tr>\n",
       "      <th>1875</th>\n",
       "      <td>8025</td>\n",
       "      <td>19</td>\n",
       "      <td>26</td>\n",
       "      <td>11</td>\n",
       "      <td>7</td>\n",
       "      <td>0</td>\n",
       "      <td>4</td>\n",
       "      <td>6</td>\n",
       "      <td>2</td>\n",
       "      <td>0.35</td>\n",
       "      <td>...</td>\n",
       "      <td>0.65</td>\n",
       "      <td>591</td>\n",
       "      <td>0.90</td>\n",
       "      <td>14</td>\n",
       "      <td>1</td>\n",
       "      <td>0</td>\n",
       "      <td>0</td>\n",
       "      <td>4</td>\n",
       "      <td>2022</td>\n",
       "      <td>2</td>\n",
       "    </tr>\n",
       "  </tbody>\n",
       "</table>\n",
       "<p>5 rows × 30 columns</p>\n",
       "</div>"
      ],
      "text/plain": [
       "      partida_id  mandante  visitante  formacao_mandante  formacao_visitante  \\\n",
       "1871        8021        15         13                  9                   9   \n",
       "1872        8022         8         17                 11                  11   \n",
       "1873        8023        12          4                  9                  11   \n",
       "1874        8024        21         23                 11                  11   \n",
       "1875        8025        19         26                 11                   7   \n",
       "\n",
       "      mandante_placar  visitante_placar  chutes_mandante  \\\n",
       "1871                2                 1               17   \n",
       "1872                0                 1               13   \n",
       "1873                0                 1               17   \n",
       "1874                3                 0               15   \n",
       "1875                0                 4                6   \n",
       "\n",
       "      chutes_no_alvo_mandante  posse_de_bola_mandante  ...  \\\n",
       "1871                        8                    0.57  ...   \n",
       "1872                        4                    0.41  ...   \n",
       "1873                        4                    0.59  ...   \n",
       "1874                        8                    0.48  ...   \n",
       "1875                        2                    0.35  ...   \n",
       "\n",
       "      posse_de_bola_visitante  passes_visitante  precisao_passes_visitante  \\\n",
       "1871                     0.43               389                       0.82   \n",
       "1872                     0.59               463                       0.82   \n",
       "1873                     0.41               351                       0.82   \n",
       "1874                     0.52               306                       0.82   \n",
       "1875                     0.65               591                       0.90   \n",
       "\n",
       "      faltas_visitante  cartao_amarelo_visitante  cartao_vermelho_visitante  \\\n",
       "1871                 8                         3                          1   \n",
       "1872                15                         2                          0   \n",
       "1873                19                         6                          0   \n",
       "1874                17                         3                          0   \n",
       "1875                14                         1                          0   \n",
       "\n",
       "      impedimentos_visitante  escanteios_visitante  temporada  resultado  \n",
       "1871                       2                     1       2022          1  \n",
       "1872                       0                     9       2022          2  \n",
       "1873                       0                     4       2022          2  \n",
       "1874                       2                     5       2022          1  \n",
       "1875                       0                     4       2022          2  \n",
       "\n",
       "[5 rows x 30 columns]"
      ]
     },
     "execution_count": 3,
     "metadata": {},
     "output_type": "execute_result"
    }
   ],
   "source": [
    "#transformando as dados categoricos como Formação, Mandante, Visitante em dados numericos\n",
    "dt = pd.concat([df['formacao_mandante'],df['formacao_visitante']])\n",
    "\n",
    "le = preprocessing.LabelEncoder()\n",
    "le.fit(dt)\n",
    "df['formacao_mandante'] = le.transform(df[\"formacao_mandante\"])\n",
    "df['formacao_visitante'] = le.transform(df[\"formacao_visitante\"])\n",
    "\n",
    "\n",
    "\n",
    "le.fit(df['vencedor'])\n",
    "df['mandante'] = le.transform(df[\"mandante\"])\n",
    "df['visitante'] = le.transform(df[\"visitante\"])\n",
    "\n",
    "#retirando a coluna vencedor que é do tipo categorica e vamos utilizar a columa resultado, numerica.\n",
    "df.drop(columns=['vencedor','rodada','total_gols'],inplace=True)\n",
    "df.tail()\n"
   ]
  },
  {
   "cell_type": "code",
   "execution_count": 4,
   "metadata": {},
   "outputs": [
    {
     "name": "stdout",
     "output_type": "stream",
     "text": [
      "-----------------------------------\n",
      "* SHAPE DOS MODELOS\n",
      "O dataset DF_MODEL será utilizado para TESTE, ele contêm 1496 Linhas  e  30 Colunas : \n",
      "O dataset DF_AUX será utilizado para VALIDAÇÃO do TESTE E TREINO, ele contem 380 Linhas  e  30 Colunas : \n",
      " \n",
      "-----------------------------------\n",
      "* TEMPORADAS DO MODELO \n",
      "Temporada Modelo [2018 2019 2020 2021]  Qtd linhas x colunas (1496, 30)\n",
      "Temporada Auxiliar [2022]  Qtd linhas x colunas (380, 30)\n"
     ]
    }
   ],
   "source": [
    "#criando dataset auxiliar\n",
    "df_aux = pd.DataFrame(df[(df['temporada']==2022)])\n",
    "\n",
    "# Eliminando os dados de df_aux do df_model\n",
    "df_model = df.drop(index = df_aux.index)\n",
    "\n",
    "#arrumando index de df_aux\n",
    "df_aux.reset_index(inplace = True)\n",
    "df_aux.drop('index', axis = 1, inplace = True)\n",
    "\n",
    "print(\"-----------------------------------\")\n",
    "print(\"* SHAPE DOS MODELOS\")\n",
    "print (\"O dataset DF_MODEL será utilizado para TESTE, ele contêm {} Linhas  e  {} Colunas : \".format( df_model.shape[0] , df_model.shape[1]))\n",
    "print (\"O dataset DF_AUX será utilizado para VALIDAÇÃO do TESTE E TREINO, ele contem {} Linhas  e  {} Colunas : \".format( df_aux.shape[0] , df_aux.shape[1]))\n",
    "print(\" \")\n",
    "print(\"-----------------------------------\")\n",
    "print(\"* TEMPORADAS DO MODELO \")\n",
    "print(\"Temporada Modelo\", df_model.temporada.unique(), \" Qtd linhas x colunas\", df_model.shape)\n",
    "print(\"Temporada Auxiliar\" , df_aux.temporada.unique() , \" Qtd linhas x colunas\",df_aux.shape)"
   ]
  },
  {
   "cell_type": "code",
   "execution_count": 11,
   "metadata": {},
   "outputs": [],
   "source": [
    "#separar features e label\n",
    "label_model = df[(df['temporada'] <= 2021)]['resultado']\n",
    "label_aux = df[(df['temporada'] == 2022)]['resultado']\n",
    "\n",
    "\n",
    "features_model = df[(df['temporada'] <= 2021)]\n",
    "features_aux = df[(df['temporada'] == 2022)]\n",
    "\n",
    "features_model = features_model.drop(columns=['resultado'])\n",
    "features_aux = features_aux.drop(columns=['resultado'])"
   ]
  },
  {
   "cell_type": "code",
   "execution_count": 13,
   "metadata": {},
   "outputs": [],
   "source": [
    "#Devido as diferenças numericas entre os dados, vamos normaliza-los.\n",
    "# Normalizando os dados de entrada(features)\n",
    "\n",
    "scaler = MinMaxScaler().fit(features_model)\n",
    "features_scale_model = scaler.transform(features_model)\n",
    "features_scale_aux = scaler.transform(features_aux)\n"
   ]
  },
  {
   "cell_type": "code",
   "execution_count": 14,
   "metadata": {},
   "outputs": [
    {
     "name": "stdout",
     "output_type": "stream",
     "text": [
      "O dataset de treino possui 1196 linhas e o de teste 300 linhas.\n"
     ]
    }
   ],
   "source": [
    "# Separando os dados de Treino e Teste, com 20% para testes, lembrando que o df_aux só será utilizando para validação do ML\n",
    "\n",
    "SEED = 23\n",
    "np.random.seed(SEED)\n",
    "X_train, X_test, y_train, y_test = train_test_split(features_scale_model, label_model, test_size = 0.20, stratify = label_model )\n",
    "\n",
    "print('O dataset de treino possui {} linhas e o de teste {} linhas.'.format(X_train.shape[0], X_test.shape[0]))"
   ]
  },
  {
   "cell_type": "code",
   "execution_count": 15,
   "metadata": {},
   "outputs": [
    {
     "name": "stdout",
     "output_type": "stream",
     "text": [
      "MODELO LogisticRegression(max_iter=2000, multi_class='multinomial') \n",
      " \n",
      "Acurácia : 0.9566666666666667\n",
      "F1 Score : 0.9566666666666667\n",
      "recall : 0.9566666666666667\n",
      " \n",
      " \n",
      "MODELO SVC() \n",
      " \n",
      "Acurácia : 0.9833333333333333\n",
      "F1 Score : 0.9833333333333333\n",
      "recall : 0.9833333333333333\n",
      " \n",
      " \n",
      "MODELO DecisionTreeClassifier(max_depth=3) \n",
      " \n",
      "Acurácia : 0.7966666666666666\n",
      "F1 Score : 0.7966666666666665\n",
      "recall : 0.7966666666666666\n",
      " \n",
      " \n",
      "MODELO RandomForestClassifier() \n",
      " \n",
      "Acurácia : 0.97\n",
      "F1 Score : 0.97\n",
      "recall : 0.97\n",
      " \n",
      " \n"
     ]
    }
   ],
   "source": [
    "#Os modelos que iremos utilizar é LogisticRegression , SVC , Decision Tree\n",
    "\n",
    "model_logr = LogisticRegression(multi_class='multinomial',max_iter=2000)\n",
    "model_svc = SVC()\n",
    "model_dtc = DecisionTreeClassifier(max_depth=3)\n",
    "model_rand = RandomForestClassifier(n_estimators=100)\n",
    "\n",
    "models = [model_logr,model_svc,model_dtc,model_rand]\n",
    "\n",
    "\n",
    "#Treinando os modelos e informando a Acurácia \n",
    "for model in models:\n",
    "    model.fit(X_train,y_train)\n",
    "    pred= model.predict(X_test)\n",
    "    svc_acc = accuracy_score(y_test, pred)\n",
    "    f1=f1_score(y_test,pred, average='micro')\n",
    "    recal = recall_score(y_test,pred, average='micro')\n",
    "\n",
    "    print('MODELO {} '.format(model))\n",
    "    print(\" \")\n",
    "    print('Acurácia : {}'.format(svc_acc))\n",
    "    print('F1 Score : {}'.format(f1))\n",
    "    print('recall : {}'.format(recal))\n",
    "    print(\" \")\n",
    "    print(\" \")"
   ]
  },
  {
   "cell_type": "code",
   "execution_count": 22,
   "metadata": {},
   "outputs": [
    {
     "name": "stdout",
     "output_type": "stream",
     "text": [
      "******* CROSS VALIDATION ******* \n",
      " \n",
      " \n",
      "==========================================\n",
      "Modelo: LogisticRegression(max_iter=2000, multi_class='multinomial')\n",
      "Acurácia média: 93.73%\n",
      "Intervalo de acurácia: [90.68% ~ 96.78%]\n",
      " \n",
      "==========================================\n",
      "Modelo: SVC()\n",
      "Acurácia média: 95.15%\n",
      "Intervalo de acurácia: [93.21% ~ 97.09%]\n",
      " \n",
      "==========================================\n",
      "Modelo: DecisionTreeClassifier(max_depth=3)\n",
      "Acurácia média: 81.44%\n",
      "Intervalo de acurácia: [73.38% ~ 89.50%]\n",
      " \n",
      "==========================================\n",
      "Modelo: RandomForestClassifier()\n",
      "Acurácia média: 95.74%\n",
      "Intervalo de acurácia: [91.95% ~ 99.53%]\n",
      " \n"
     ]
    }
   ],
   "source": [
    "#Vamos realizar a validação dos modelos acima\n",
    "\n",
    "\n",
    "SEED = 42\n",
    "np.random.seed(SEED)\n",
    "\n",
    "#Utilizando o StratifiedKFold temos que ao treinar e testar os modelos com os folds contendo a mesma proporção de informações\n",
    "cv = StratifiedKFold(n_splits = 5, shuffle = True)\n",
    "\n",
    "\n",
    "print(\"******* CROSS VALIDATION ******* \")\n",
    "print(\" \")\n",
    "print(\" \")\n",
    "for model in models:\n",
    "    results = cross_val_score(model, X_train,y_train, cv = cv, scoring = 'accuracy')\n",
    "    def intervalo(results):\n",
    "        mean = results.mean()\n",
    "        dv = results.std()\n",
    "     \n",
    "        print(\"==========================================\")\n",
    "        print(\"Modelo: {}\".format(model))\n",
    "        print('Acurácia média: {:.2f}%'.format(mean*100))\n",
    "        print('Intervalo de acurácia: [{:.2f}% ~ {:.2f}%]'.format((mean - 2*dv)*100, (mean + 2*dv)*100))\n",
    "      \n",
    "        print(\" \")\n",
    "    \n",
    "    intervalo(results)"
   ]
  },
  {
   "cell_type": "code",
   "execution_count": 18,
   "metadata": {},
   "outputs": [
    {
     "name": "stdout",
     "output_type": "stream",
     "text": [
      "MODELO SVC() \n",
      " \n",
      "Acurácia : 0.8763157894736842\n",
      "F1 Score : 0.8763157894736842\n",
      "recall : 0.8763157894736842\n",
      " \n",
      " \n",
      "MODELO RandomForestClassifier() \n",
      " \n",
      "Acurácia : 0.9342105263157895\n",
      "F1 Score : 0.9342105263157895\n",
      "recall : 0.9342105263157895\n",
      " \n",
      " \n"
     ]
    }
   ],
   "source": [
    "# Utilizando os dados do dataframe aux para teste final do ML\n",
    "\n",
    "SEED = 23\n",
    "np.random.seed(SEED)\n",
    "X_pred = features_scale_aux\n",
    "y_pred = label_aux\n",
    "\n",
    "#No treinamento a Acuraccia do SVC foi maior, porem no cross validation o Randm Forest Calssfier foi melhor na media e no intervalo, então iremos utiliza-lo para a predição final.\n",
    "#Vamos ver como os dois se saem na validação final\n",
    "\n",
    "modelscross = [model_svc ,model_rand]\n",
    "\n",
    "for model in modelscross:\n",
    "    pred=model.predict(X_pred)\n",
    "    svc_acc = accuracy_score(y_pred, pred)\n",
    "    f1=f1_score(y_pred,pred, average='micro')\n",
    "    recal = recall_score(y_pred,pred, average='micro')\n",
    "    print(\"VALIDAÇÃO \")\n",
    "    print('MODELO {} '.format(model))\n",
    "    print(\" \")\n",
    "    print('Acurácia : {}'.format(svc_acc))\n",
    "    print('F1 Score : {}'.format(f1))\n",
    "    print('recall : {}'.format(recal))\n",
    "    print(\" \")\n",
    "    print(\" \")\n",
    "#df=pd.DataFrame({'real': res, 'previsao':pred, 'game_id':game_id})\n",
    "\n",
    "#print(df)"
   ]
  },
  {
   "cell_type": "code",
   "execution_count": 39,
   "metadata": {},
   "outputs": [
    {
     "name": "stdout",
     "output_type": "stream",
     "text": [
      "MODELO RandomForestClassifier() \n",
      " \n",
      "Acurácia : 0.6421052631578947\n",
      "F1 Score : 0.6421052631578947\n",
      "recall : 0.6421052631578947\n",
      " \n",
      " \n"
     ]
    },
    {
     "name": "stderr",
     "output_type": "stream",
     "text": [
      "C:\\Users\\ADM\\AppData\\Local\\Packages\\PythonSoftwareFoundation.Python.3.10_qbz5n2kfra8p0\\LocalCache\\local-packages\\Python310\\site-packages\\sklearn\\base.py:432: UserWarning: X has feature names, but RandomForestClassifier was fitted without feature names\n",
      "  warnings.warn(\n"
     ]
    }
   ],
   "source": [
    "#label_aux  features_aux\n",
    "\n",
    "model_rand.fit(X_test,y_test)\n",
    "pred=model_rand.predict(features_aux)\n",
    "svc_acc = accuracy_score(label_aux, pred)\n",
    "f1=f1_score(label_aux,pred, average='micro')\n",
    "recal = recall_score(label_aux,pred, average='micro')\n",
    "\n",
    "print('MODELO {} '.format(model))\n",
    "print(\" \")\n",
    "print('Acurácia : {}'.format(svc_acc))\n",
    "print('F1 Score : {}'.format(f1))\n",
    "print('recall : {}'.format(recal))\n",
    "print(\" \")\n",
    "print(\" \")\n",
    "\n"
   ]
  },
  {
   "cell_type": "code",
   "execution_count": 24,
   "metadata": {},
   "outputs": [
    {
     "data": {
      "image/png": "[encoded data removed]",
      "text/plain": [
       "<Figure size 640x480 with 2 Axes>"
      ]
     },
     "metadata": {},
     "output_type": "display_data"
    }
   ],
   "source": [
    "#MATRIX DE CONFUSÃO\n",
    "\n",
    "\n",
    "fig, ax = plt.subplots()\n",
    "sns.heatmap(confusion_matrix(label_aux, pred), annot=True, \n",
    "            ax=ax, fmt='d', cmap='Reds')\n",
    "ax.set_title(\"Matriz de Confusão\", fontsize=18)\n",
    "ax.set_ylabel(\"True label\")\n",
    "ax.set_xlabel(\"Predicted Label\")\n",
    "plt.tight_layout()"
   ]
  },
  {
   "cell_type": "code",
   "execution_count": 31,
   "metadata": {},
   "outputs": [
    {
     "name": "stdout",
     "output_type": "stream",
     "text": [
      "      real  previsao  partida_id\n",
      "1496     3         3        7646\n",
      "1497     3         2        7647\n",
      "1498     2         2        7648\n",
      "1499     1         1        7649\n",
      "1500     2         2        7650\n",
      "...    ...       ...         ...\n",
      "1871     1         2        8021\n",
      "1872     2         2        8022\n",
      "1873     2         2        8023\n",
      "1874     1         1        8024\n",
      "1875     2         2        8025\n",
      "\n",
      "[380 rows x 3 columns]\n"
     ]
    }
   ],
   "source": [
    "df=pd.DataFrame({'real': label_aux, 'previsao':pred, 'partida_id':features_aux['partida_id']})\n",
    "\n",
    "print(df)\n"
   ]
  },
  {
   "cell_type": "code",
   "execution_count": 32,
   "metadata": {},
   "outputs": [
    {
     "data": {
      "text/plain": [
       "<Axes: xlabel='previsao', ylabel='real'>"
      ]
     },
     "execution_count": 32,
     "metadata": {},
     "output_type": "execute_result"
    },
    {
     "data": {
      "image/png": "[encoded data removed]",
      "text/plain": [
       "<Figure size 640x480 with 2 Axes>"
      ]
     },
     "metadata": {},
     "output_type": "display_data"
    }
   ],
   "source": [
    "#confusion Matrix\n",
    "df=pd.DataFrame(df,columns=['real','previsao' ])\n",
    "\n",
    "cf_matrix=pd.crosstab(df['real'], df['previsao'], rownames=['real'] , colnames=['previsao'])\n",
    "\n",
    "sns.heatmap(cf_matrix, annot=True, cmap='Reds')"
   ]
  },
  {
   "attachments": {},
   "cell_type": "markdown",
   "metadata": {},
   "source": [
    "lIMITES DO sEGUNDO"
   ]
  },
  {
   "cell_type": "markdown",
   "metadata": {},
   "source": []
  },
  {
   "cell_type": "markdown",
   "metadata": {},
   "source": []
  },
  {
   "cell_type": "code",
   "execution_count": null,
   "metadata": {},
   "outputs": [],
   "source": [
    "X = df_model.drop(['resultado'], axis = 1)\n",
    "y = df_model['resultado']\n",
    "\n",
    "SEED = 23\n",
    "np.random.seed(SEED)\n",
    "\n",
    "X_train, X_test, y_train, y_test = train_test_split(X, y, test_size = 0.20, stratify = y)\n",
    "\n",
    "print('O dataset de treino possui {} linhas e o de teste {} linhas.'.format(X_train.shape[0], X_test.shape[0]))"
   ]
  },
  {
   "cell_type": "code",
   "execution_count": null,
   "metadata": {},
   "outputs": [],
   "source": [
    "model = DecisionTreeClassifier(max_depth=3)\n",
    "model.fit(X_train, y_train)\n",
    "predict = model.predict(X_train)\n",
    "\n",
    "accuracy = accuracy_score(y_train, predict) * 100\n",
    "print (\"A acurácia foi de {:.2f}%.\".format(accuracy))"
   ]
  },
  {
   "cell_type": "code",
   "execution_count": null,
   "metadata": {},
   "outputs": [],
   "source": [
    "predict = model.predict(X_train)"
   ]
  },
  {
   "cell_type": "code",
   "execution_count": null,
   "metadata": {},
   "outputs": [],
   "source": [
    "X_news = df_aux.drop('resultado', axis = 1)\n",
    "y_news = df_aux['resultado']\n",
    "\n",
    "predict = model.predict(X_news)\n",
    "\n",
    "accuracy = accuracy_score(y_news, predict) * 100\n",
    "print (\"A acurácia foi de {:.2f}%.\".format(accuracy))"
   ]
  },
  {
   "cell_type": "code",
   "execution_count": null,
   "metadata": {},
   "outputs": [],
   "source": [
    "\n",
    "from sklearn.model_selection import KFold\n",
    "\n",
    "\n",
    "SEED = 42\n",
    "np.random.seed(SEED)\n",
    "\n",
    "#Utilizando o StratifiedKFold temos que ao treinar e testar os modelos com os folds contendo a mesma proporção de informações\n",
    "cv = StratifiedKFold(n_splits = 5, shuffle = True)\n",
    "\n",
    "\n",
    "model = DecisionTreeClassifier(max_depth=3)\n",
    "results = cross_val_score(model, X_train, \n",
    "                          y_train, cv = cv, scoring = 'accuracy')\n",
    "def intervalo(results):\n",
    "    mean = results.mean()\n",
    "    dv = results.std()\n",
    "    print('Acurácia média: {:.2f}%'.format(mean*100))\n",
    "    print('Intervalo de acurácia: [{:.2f}% ~ {:.2f}%]'\n",
    "           .format((mean - 2*dv)*100, (mean + 2*dv)*100))\n",
    "\n",
    "intervalo(results)"
   ]
  },
  {
   "cell_type": "code",
   "execution_count": null,
   "metadata": {},
   "outputs": [],
   "source": [
    "#Testando varios estimadores\n",
    "from sklearn.svm import SVC\n",
    "from sklearn.linear_model import LogisticRegression\n",
    "from sklearn.ensemble import RandomForestClassifier\n",
    "\n",
    "np.random.seed(SEED)\n",
    "cv = StratifiedKFold(n_splits = 5, shuffle = True)\n",
    "\n",
    "model_dtree = DecisionTreeClassifier(max_depth=3)\n",
    "model_svc = SVC()\n",
    "model_log = LogisticRegression(solver='liblinear')\n",
    "model_rand = RandomForestClassifier(n_estimators=100)\n",
    "\n",
    "models = [model_dtree, model_svc, model_log, model_rand]\n",
    "name = ['Árvore de Decisão', 'SVC', \n",
    "        'Regressão Logística', 'Random Forest']\n",
    "count = 0\n",
    "for item in models:\n",
    "    np.random.seed(SEED)\n",
    "    results = cross_val_score(item, X_train, y_train, cv = cv, \n",
    "                              scoring = 'accuracy')\n",
    "    mean = results.mean()\n",
    "    dv = results.std()\n",
    "    print('Acurácia média - Modelo {}: {:.2f}%'.format(name[count], mean*100))\n",
    "    print('Intervalo de acurácia - Modelo {}: [{:.2f}% ~ {:.2f}%]\\n'.format(name[count], (mean - 2*dv)*100, (mean + 2*dv)*100))\n",
    "    count += 1"
   ]
  },
  {
   "cell_type": "code",
   "execution_count": null,
   "metadata": {},
   "outputs": [],
   "source": [
    "\n",
    "clf_LR = LogisticRegression(multi_class='multinomial',max_iter=2000)\n",
    "clf_LR.fit(X_train, y_train)\n",
    "pred= clf_LR.predict(X_train)\n",
    "\n",
    "lg_acc = accuracy_score(y_train, pred)\n",
    "f1=f1_score(y_train,pred,average = 'micro')\n",
    "print ('Acurácia LogisticRegression:{}'.format(lg_acc))\n",
    "print ('F1 Score:{}'.format(f1) )"
   ]
  },
  {
   "cell_type": "code",
   "execution_count": null,
   "metadata": {},
   "outputs": [],
   "source": [
    "#Executando a previsao\n",
    "\n",
    "previsao= df_aux.drop('resultado', axis = 1)\n",
    "\n",
    "game_id_full=df_aux['partida_id']\n",
    "res_full=df_aux['resultado']\n",
    "\n",
    "\n",
    "\n",
    "pred=clf_LR.predict(previsao)\n",
    "\n",
    "regre_logistc_pred=pd.DataFrame({'real': res_full, 'previsao':pred, 'partida_id':game_id_full})\n",
    "\n",
    "print(regre_logistc_pred)"
   ]
  },
  {
   "cell_type": "code",
   "execution_count": null,
   "metadata": {},
   "outputs": [],
   "source": [
    "#confusion Matrix\n",
    "\n",
    "tt=pd.DataFrame(regre_logistc_pred,columns=['real','previsao' ])\n",
    "\n",
    "cf_matrix=pd.crosstab(tt['real'], tt['previsao'], rownames=['real'] , colnames=['previsao'])\n",
    "\n",
    "sns.heatmap(cf_matrix, annot=True, cmap='Reds')"
   ]
  },
  {
   "cell_type": "code",
   "execution_count": null,
   "metadata": {},
   "outputs": [],
   "source": [
    "from sklearn.model_selection import cross_val_predict\n",
    "\n",
    "\n",
    "np.random.seed(SEED)\n",
    "cv = StratifiedKFold(n_splits = 5, shuffle = True)\n",
    "\n",
    "model = LogisticRegression(solver='liblinear')\n",
    "y_pred = cross_val_predict(model, X_train, y_train, cv = cv)\n",
    "\n"
   ]
  },
  {
   "cell_type": "code",
   "execution_count": null,
   "metadata": {},
   "outputs": [],
   "source": [
    "from sklearn.metrics import classification_report\n",
    "# relatório do modelo\n",
    "print('Relatório de classificação:\\n', classification_report(y_train, y_pred, digits=4))"
   ]
  },
  {
   "cell_type": "code",
   "execution_count": null,
   "metadata": {},
   "outputs": [],
   "source": [
    "from sklearn.metrics import classification_report\n",
    "# relatório do modelo\n",
    "print('Relatório de classificação:\\n', classification_report(y_train, y_pred, digits=4))"
   ]
  },
  {
   "attachments": {},
   "cell_type": "markdown",
   "metadata": {},
   "source": [
    "## Aqui em baixo antigo modelo"
   ]
  },
  {
   "cell_type": "code",
   "execution_count": null,
   "metadata": {},
   "outputs": [],
   "source": [
    "# listando features categoricas e numéricas:\n",
    "#categorical_attributes = list(df_model.select_dtypes(include=['object']).columns)\n",
    "#numerical_attributes = list(df_model.select_dtypes(include=['float64', 'int64']).columns)\n",
    "#print('categorical_attributes:', categorical_attributes)\n",
    "#print('numerical_attributes:', numerical_attributes)"
   ]
  },
  {
   "cell_type": "code",
   "execution_count": null,
   "metadata": {},
   "outputs": [],
   "source": [
    "#Deixar somente as variáveis numericas \n",
    "num_data  =df.drop(['partida_id','rodada','mandante', 'visitante', 'total_gols','vencedor'],axis=1)\n",
    "num_data"
   ]
  },
  {
   "cell_type": "code",
   "execution_count": null,
   "metadata": {},
   "outputs": [],
   "source": [
    "#separa as features \n",
    "features = num_data.drop(['resultado'],axis=1)\n",
    "#separa as labels\n",
    "labels = num_data['resultado']\n",
    "\n",
    "\n",
    "print('Features')\n",
    "print (features.head())\n",
    "\n",
    "print (\" \")\n",
    "print ('#############')\n",
    "print (\" \")\n",
    "\n",
    "\n",
    "print ('Labels')\n",
    "print (labels.head()) "
   ]
  },
  {
   "cell_type": "code",
   "execution_count": null,
   "metadata": {},
   "outputs": [],
   "source": [
    "#transformando as formações em dados numericos\n",
    "le = preprocessing.LabelEncoder()\n",
    "le.fit(features['formacao_mandante'])\n",
    "features['formacao_mandante'] = le.transform(features[\"formacao_mandante\"])\n",
    "features['formacao_visitante'] = le.transform(features[\"formacao_visitante\"])\n",
    "\n",
    "print('Features')\n",
    "print (features.head())"
   ]
  },
  {
   "cell_type": "code",
   "execution_count": null,
   "metadata": {},
   "outputs": [],
   "source": [
    "le = preprocessing.LabelEncoder()\n",
    "le.fit(features['clube_mandante'])\n",
    "features['clube_mandante'] = le.transform(features[\"clube_mandante\"])\n",
    "features['clube_visitante'] = le.transform(features[\"clube_visitante\"])\n",
    "\n",
    "print('Features')\n",
    "print (features.head())"
   ]
  },
  {
   "cell_type": "code",
   "execution_count": null,
   "metadata": {},
   "outputs": [],
   "source": [
    "features.isna().sum()"
   ]
  },
  {
   "cell_type": "code",
   "execution_count": null,
   "metadata": {},
   "outputs": [],
   "source": [
    "#Escoolhendo as melhores features com Kbest\n",
    "\n",
    "features_list = ('formacao_mandante','formacao_visitante','mandante_placar','visitante_placar',\n",
    "                 'chutes_mandante','chutes_no_alvo_mandante','posse_de_bola_mandante',\n",
    "                 'passes_mandante','precisao_passes_mandante','faltas_mandante','cartao_amarelo_mandante',\n",
    "                 'cartao_vermelho_mandante','impedimentos_mandante','escanteios_mandante',\n",
    "                 'rodata_visitante','chutes_visitante','chutes_no_alvo_visitante','posse_de_bola_visitante',\n",
    "                 'passes_visitante','precisao_passes_visitante','faltas_visitante','cartao_amarelo_visitante',\n",
    "                 'cartao_vermelho_visitante','impedimentos_visitante','escanteios_visitante')\n",
    "\n",
    "\n",
    "k_best_features = SelectKBest(k='all')\n",
    "k_best_features.fit_transform(features, labels)\n",
    "k_best_features_scores = k_best_features.scores_\n",
    "raw_pairs = zip(features_list[1:], k_best_features_scores)\n",
    "ordered_pairs = list(reversed(sorted(raw_pairs, key=lambda x: x[1])))\n",
    "\n",
    "k_best_features_final = dict(ordered_pairs[:27])\n",
    "best_features = k_best_features_final.keys()\n",
    "print ('')\n",
    "print (\"Melhores features:\")\n",
    "print (k_best_features_final)"
   ]
  },
  {
   "cell_type": "code",
   "execution_count": null,
   "metadata": {},
   "outputs": [],
   "source": [
    "#separa as features com base no Kbest\n",
    "#oldfeatures  = num_data.drop(['cartao_amarelo_mandante', 'impedimentos_visitante', 'cartao_amarelo_visitante', 'temporada', 'rodata_visitante', 'precisao_passes_mandante', 'faltas_mandante', 'chutes_visitante', 'escanteios_mandante', 'cartao_vermelho_mandante', 'escanteios_visitante', 'chutes_no_alvo_mandante', 'cartao_vermelho_visitante'],axis=1)\n",
    "features  = features.drop(['cartao_vermelho_visitante','escanteios_mandante','faltas_visitante', 'precisao_passes_mandante', 'passes_visitante', 'cartao_amarelo_visitante', 'cartao_vermelho_mandante', 'impedimentos_visitante', 'chutes_visitante', 'faltas_mandante','cartao_amarelo_mandante', 'posse_de_bola_visitante', 'chutes_no_alvo_visitante', 'rodata_visitante', 'impedimentos_mandante', 'chutes_no_alvo_mandante', 'posse_de_bola_mandante', 'formacao_visitante', 'mandante_placar', 'escanteios_visitante'],axis=1)\n",
    "\n",
    "print('Features')\n",
    "print (features.head())\n",
    "\n",
    "print ('=========')\n",
    "\n",
    "print ('Labels')\n",
    "print (Y.head())"
   ]
  },
  {
   "cell_type": "code",
   "execution_count": null,
   "metadata": {},
   "outputs": [],
   "source": [
    "#devido ao OVERFITING, estou realizando um Low Variance Filter como tentativa de resolução\n",
    "#normalize = normalize(features) \n",
    "#data_scaled = pd.DataFrame(normalize)\n",
    "#data_scaled.var()"
   ]
  },
  {
   "cell_type": "code",
   "execution_count": null,
   "metadata": {},
   "outputs": [],
   "source": [
    "#storing the variance and name of variables\n",
    "#variance = data_scaled.var()\n",
    "#columns = features.columns\n",
    "\n",
    "#print(variance)"
   ]
  },
  {
   "cell_type": "code",
   "execution_count": null,
   "metadata": {},
   "outputs": [],
   "source": [
    "#saving the names of variables having variance more than a threshold value\n",
    "\n",
    "#variable = [ ]\n",
    "\n",
    "#or i in range(0,len(variance)):\n",
    "#    if variance[i]>=0.0: #setting the threshold as 1%\n",
    "#        variable.append(columns[i-1])\n",
    "\n",
    "\n",
    "#variable\n",
    "\n",
    "#for i in range(0,len(variance)):\n",
    "#    print(variance[i])"
   ]
  },
  {
   "cell_type": "code",
   "execution_count": null,
   "metadata": {},
   "outputs": [],
   "source": [
    "# criando um novo dataframe usando as variáveis ​​acima\n",
    "#new_data = features[variable]\n",
    "\n",
    " # primeiras cinco linhas dos novos dados\n",
    "#new_data.head() "
   ]
  },
  {
   "cell_type": "code",
   "execution_count": null,
   "metadata": {},
   "outputs": [],
   "source": [
    "# Normalizando os dados de entrada(features)\n",
    "scaler = MinMaxScaler().fit(features)\n",
    "X = scaler.transform(features)\n",
    "\n",
    "print ('Features: ',X.shape)\n",
    "print (X)"
   ]
  },
  {
   "cell_type": "code",
   "execution_count": null,
   "metadata": {},
   "outputs": [],
   "source": [
    "# Realiza a divisão dos dados de treine e teste e deixa do espaço 2650 a 3090 para validação do ml\n",
    "#X_train = features_scale[:2000 ]\n",
    "#X_test = features_scale[2000:2650]\n",
    "#y_train = labels[:2000]\n",
    "#y_test = labels[2000:2650]\n",
    "\n",
    "# Realiza a divisão de dados de treino e teste, separando 20% para teste\n",
    "\n",
    "X_train, X_test, y_train, y_test = train_test_split(X, Y, test_size=0.2, random_state=0)\n",
    "\n",
    "print( len(X_train), len(y_train))\n",
    "\n",
    "print( len(X_test), len(y_test))\n",
    "\n",
    "print(Y.shape)"
   ]
  },
  {
   "cell_type": "code",
   "execution_count": null,
   "metadata": {},
   "outputs": [],
   "source": [
    "#Treinando e testando os modelos\n",
    "print ('LogisticRegression')\n",
    "\n",
    "clf_LR = LogisticRegression(multi_class='multinomial',max_iter=2000)\n",
    "clf_LR.fit(X_train, y_train)\n",
    "pred= clf_LR.predict(X_train)\n",
    "\n",
    "lg_acc = accuracy_score(y_train, pred)\n",
    "f1=f1_score(y_train,pred,average = 'micro')\n",
    "print ('Acurácia LogisticRegression:{}'.format(lg_acc))\n",
    "print ('F1 Score:{}'.format(f1) )"
   ]
  },
  {
   "cell_type": "code",
   "execution_count": null,
   "metadata": {},
   "outputs": [],
   "source": [
    "#Testando LogistRegression hyper parameters\n",
    "\n",
    "param_grid = {'C': [0.001, 0.01, 0.1, 1, 10, 100, 1000] }\n",
    "\n",
    "search = GridSearchCV(LogisticRegression(max_iter=1000), param_grid)\n",
    "\n",
    "search.fit(X_train,y_train)\n",
    "clf = search.best_estimator_\n",
    "pred= clf.predict(X_train)\n",
    "lg_acc = accuracy_score(y_train, pred)\n",
    "\n",
    "\n",
    "f1=f1_score(y_train,pred,average = 'macro')\n",
    "\n",
    "print ('Acurácia LogisticRegression:{}'.format(lg_acc))\n",
    "print ('F1 Score:{}'.format(f1) )\n",
    "\n",
    "print (clf)"
   ]
  },
  {
   "cell_type": "code",
   "execution_count": null,
   "metadata": {},
   "outputs": [],
   "source": [
    "#Treinando e testando os modelos\n",
    "print ('SVC')\n",
    "\n",
    "\n",
    "clf = SVC()\n",
    "clf.fit(X_train, y_train)\n",
    "pred= clf.predict(X_train)\n",
    "\n",
    "svc_acc = accuracy_score(y_train, pred)\n",
    "f1=f1_score(y_train,pred, average='micro')\n",
    "print ('Acurácia SVC:{}'.format(svc_acc))\n",
    "print ('F1 Score:{}'.format(f1) )"
   ]
  },
  {
   "cell_type": "code",
   "execution_count": null,
   "metadata": {},
   "outputs": [],
   "source": [
    "#Testando SVC hyper parameters\n",
    "\n",
    "param_grid = {'C': [0.001, 0.01, 0.1, 1, 10, 100, 1000] }\n",
    "\n",
    "search = GridSearchCV(SVC(), param_grid)\n",
    "\n",
    "search.fit(X_train,y_train)\n",
    "clf_SVC = search.best_estimator_\n",
    "pred= clf_SVC.predict(X_train)\n",
    "acc = accuracy_score(y_train, pred)\n",
    "\n",
    "\n",
    "f1=f1_score(y_train,pred,average = 'micro')\n",
    "\n",
    "print ('F1 Score:{}'.format(f1))\n",
    "\n",
    "print ('Acurácia LogisticRegression:{}'.format(acc))\n",
    "\n",
    "print(clf_SVC)"
   ]
  },
  {
   "cell_type": "code",
   "execution_count": null,
   "metadata": {},
   "outputs": [],
   "source": [
    "#Treinando e testando os modelos\n",
    "print ('Decision Tree')\n",
    "\n",
    "\n",
    "clf = DecisionTreeClassifier()\n",
    "clf.fit(X_train, y_train)\n",
    "pred= clf.predict(X_train)\n",
    "\n",
    "dt_acc = accuracy_score(y_train, pred)\n",
    "f1=f1_score(y_train,pred, average='macro')\n",
    "print ('Acurácia Tree:{}'.format(dt_acc))\n",
    "print ('F1 Score:{}'.format(f1) )\n",
    "\n",
    "\n",
    "n_estimators = [10, 50, 100, 200]\n",
    "max_depth = [3, 10, 20, 40]"
   ]
  },
  {
   "cell_type": "code",
   "execution_count": null,
   "metadata": {},
   "outputs": [],
   "source": [
    "#Treinando e testando os modelos\n",
    "print ('Naive baeys')\n",
    "\n",
    "\n",
    "clf = GaussianNB()\n",
    "clf.fit(X_train, y_train)\n",
    "pred= clf.predict(X_train)\n",
    "\n",
    "nb_acc = accuracy_score(y_train, pred)\n",
    "f1=f1_score(y_train,pred, average='micro')\n",
    "print ('Acurácia Naive baeys:{}'.format(nb_acc))\n",
    "print ('F1 Score:{}'.format(f1) )"
   ]
  },
  {
   "cell_type": "code",
   "execution_count": null,
   "metadata": {},
   "outputs": [],
   "source": [
    "from sklearn.model_selection import cross_val_score\n",
    "SEED = 42\n",
    "np.random.seed(SEED)\n",
    "model = DecisionTreeClassifier(max_depth=3)\n",
    "results = cross_val_score(model, X_train, \n",
    "                          y_train, cv = 5, scoring = 'accuracy')\n",
    "def intervalo(results):\n",
    "    mean = results.mean()\n",
    "    dv = results.std()\n",
    "    print('Acurácia média: {:.2f}%'.format(mean*100))\n",
    "    print('Intervalo de acurácia: [{:.2f}% ~ {:.2f}%]'.format((mean - 2*dv)*100, (mean + 2*dv)*100))\n",
    "    \n",
    "intervalo(results)"
   ]
  },
  {
   "cell_type": "code",
   "execution_count": null,
   "metadata": {},
   "outputs": [],
   "source": [
    "#Executando a previsao\n",
    "\n",
    "previsao=features_scale[2650:]\n",
    "\n",
    "game_id_full=df['partida_id']\n",
    "game_id=game_id_full[2650:]\n",
    "\n",
    "res_full=df['resultado']\n",
    "res=res_full[2650:]\n",
    "\n",
    "\n",
    "pred=clf_LR.predict(previsao)\n",
    "\n",
    "df=pd.DataFrame({'real': res, 'previsao':pred, 'partida_id':game_id})\n",
    "\n",
    "print(df)"
   ]
  },
  {
   "cell_type": "code",
   "execution_count": null,
   "metadata": {},
   "outputs": [],
   "source": [
    "\n",
    "#confusion Matrix\n",
    "\n",
    "df=pd.DataFrame(df,columns=['real','previsao' ])\n",
    "\n",
    "cf_matrix=pd.crosstab(df['real'], df['previsao'], rownames=['real'] , colnames=['previsao'])\n",
    "\n",
    "sns.heatmap(cf_matrix, annot=True, cmap='Reds')"
   ]
  },
  {
   "cell_type": "code",
   "execution_count": null,
   "metadata": {},
   "outputs": [],
   "source": [
    "# relatório do modelo\n",
    "print('Relatório de classificação:\\n', classification_report(y_train, y_pred, digits=4))"
   ]
  },
  {
   "cell_type": "code",
   "execution_count": null,
   "metadata": {},
   "outputs": [],
   "source": [
    "# Functions for plotting\n",
    "def DistributionPlot(RedFunction, BlueFunction, RedName, BlueName, Title):\n",
    "    width = 12\n",
    "    height = 10\n",
    "    plt.figure(figsize=(width, height))\n",
    "\n",
    "    ax1 = sns.distplot(RedFunction, hist=False, color=\"r\", label=RedName)\n",
    "    ax2 = sns.distplot(BlueFunction, hist=False, color=\"b\", label=BlueName, ax=ax1)\n",
    "\n",
    "    plt.title(Title)\n",
    "    plt.xlabel('Price (in dollars)')\n",
    "    plt.ylabel('Proportion of Cars')\n",
    "\n",
    "    plt.show()\n",
    "    plt.close()"
   ]
  },
  {
   "cell_type": "code",
   "execution_count": null,
   "metadata": {},
   "outputs": [],
   "source": [
    "# Let's examine the distribution of the predicted values of the training data\n",
    "Title = '-'\n",
    "DistributionPlot(y_train, yhat_train, \"Actual Values (Train)\", \"Predicted Values (Train)\", Title)"
   ]
  },
  {
   "cell_type": "code",
   "execution_count": null,
   "metadata": {},
   "outputs": [],
   "source": [
    "\n",
    "\n",
    "# Let's examine the distribution of the predicted values of the training data\n",
    "Title = 'Distribution  Plot of  Predicted Value Using Training Data vs Training Data Distribution'\n",
    "DistributionPlot(y_test, yhat_teste, \"Actual Values (teste)\", \"Predicted Values (teste)\", Title)\n"
   ]
  }
 ],
 "metadata": {
  "kernelspec": {
   "display_name": "Python 3",
   "language": "python",
   "name": "python3"
  },
  "language_info": {
   "codemirror_mode": {
    "name": "ipython",
    "version": 3
   },
   "file_extension": ".py",
   "mimetype": "text/x-python",
   "name": "python",
   "nbconvert_exporter": "python",
   "pygments_lexer": "ipython3",
   "version": "3.10.10"
  },
  "orig_nbformat": 4
 },
 "nbformat": 4,
 "nbformat_minor": 2
}
